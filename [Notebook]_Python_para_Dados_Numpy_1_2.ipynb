{
  "nbformat": 4,
  "nbformat_minor": 0,
  "metadata": {
    "colab": {
      "provenance": [],
      "include_colab_link": true
    },
    "kernelspec": {
      "name": "python3",
      "display_name": "Python 3"
    },
    "language_info": {
      "name": "python"
    }
  },
  "cells": [
    {
      "cell_type": "markdown",
      "metadata": {
        "id": "view-in-github",
        "colab_type": "text"
      },
      "source": [
        "<a href=\"https://colab.research.google.com/github/dsreliete/Womakerscode-DA-colab/blob/main/%5BNotebook%5D_Python_para_Dados_Numpy_1_2.ipynb\" target=\"_parent\"><img src=\"https://colab.research.google.com/assets/colab-badge.svg\" alt=\"Open In Colab\"/></a>"
      ]
    },
    {
      "cell_type": "code",
      "execution_count": null,
      "metadata": {
        "id": "9ye4cNTu6ReI"
      },
      "outputs": [],
      "source": [
        "import numpy as np"
      ]
    },
    {
      "cell_type": "code",
      "source": [
        "arr = np.array([2, 4, 6, 7, 8])\n",
        "arr[1]"
      ],
      "metadata": {
        "colab": {
          "base_uri": "https://localhost:8080/"
        },
        "id": "f-BSn32D6-fA",
        "outputId": "bc9ec1ce-b333-4629-b63a-b05f7d487afe"
      },
      "execution_count": null,
      "outputs": [
        {
          "output_type": "execute_result",
          "data": {
            "text/plain": [
              "4"
            ]
          },
          "metadata": {},
          "execution_count": 4
        }
      ]
    },
    {
      "cell_type": "code",
      "source": [
        "arr[2:4]"
      ],
      "metadata": {
        "id": "XBXnctsmuEDw",
        "outputId": "1c22f1e6-fd64-41d0-89a1-c4ca2a449c46",
        "colab": {
          "base_uri": "https://localhost:8080/"
        }
      },
      "execution_count": null,
      "outputs": [
        {
          "output_type": "execute_result",
          "data": {
            "text/plain": [
              "array([6, 7])"
            ]
          },
          "metadata": {},
          "execution_count": 5
        }
      ]
    },
    {
      "cell_type": "code",
      "source": [
        "arr[0]"
      ],
      "metadata": {
        "colab": {
          "base_uri": "https://localhost:8080/"
        },
        "id": "pOwnXsoE7CnJ",
        "outputId": "e0ad7157-3e41-446b-d98d-7f55e16dd006"
      },
      "execution_count": null,
      "outputs": [
        {
          "output_type": "execute_result",
          "data": {
            "text/plain": [
              "2"
            ]
          },
          "metadata": {},
          "execution_count": 6
        }
      ]
    },
    {
      "cell_type": "code",
      "source": [
        "cartela_bingo = np.array([[16, 10,  3, 15],\n",
        "                            [14, 23, 17, 27],\n",
        "                            [ 6, 19,  3,  1],\n",
        "                            [10,  4, 18, 19]])\n",
        "cartela_bingo"
      ],
      "metadata": {
        "colab": {
          "base_uri": "https://localhost:8080/"
        },
        "id": "eSWIayXH7Cpt",
        "outputId": "720e32f8-57fb-42db-fd78-af9c3387ab6e"
      },
      "execution_count": null,
      "outputs": [
        {
          "output_type": "execute_result",
          "data": {
            "text/plain": [
              "array([[16, 10,  3, 15],\n",
              "       [14, 23, 17, 27],\n",
              "       [ 6, 19,  3,  1],\n",
              "       [10,  4, 18, 19]])"
            ]
          },
          "metadata": {},
          "execution_count": 7
        }
      ]
    },
    {
      "cell_type": "markdown",
      "source": [
        "selecional linha de array de 2 dimensoes"
      ],
      "metadata": {
        "id": "T0qqikhKq12m"
      }
    },
    {
      "cell_type": "code",
      "source": [
        "cartela_bingo[3]"
      ],
      "metadata": {
        "id": "LAeAGpcxqsqq",
        "outputId": "ba7df85b-e0b3-4523-b6a8-14603aafe558",
        "colab": {
          "base_uri": "https://localhost:8080/"
        }
      },
      "execution_count": null,
      "outputs": [
        {
          "output_type": "execute_result",
          "data": {
            "text/plain": [
              "array([10,  4, 18, 19])"
            ]
          },
          "metadata": {},
          "execution_count": 8
        }
      ]
    },
    {
      "cell_type": "markdown",
      "source": [
        "selecionando coluna de array de 2 dimensoes"
      ],
      "metadata": {
        "id": "QyvlGwtsq5hz"
      }
    },
    {
      "cell_type": "code",
      "source": [
        "cartela_bingo[:, 1]"
      ],
      "metadata": {
        "id": "pZ0H0-AzqaLI",
        "outputId": "f7a294e8-766d-4039-b8be-06c8370dcb2d",
        "colab": {
          "base_uri": "https://localhost:8080/"
        }
      },
      "execution_count": null,
      "outputs": [
        {
          "output_type": "execute_result",
          "data": {
            "text/plain": [
              "array([10, 23, 19,  4])"
            ]
          },
          "metadata": {},
          "execution_count": 9
        }
      ]
    },
    {
      "cell_type": "markdown",
      "source": [
        "selecionando linha e coluna de uma array de duas dimensoes"
      ],
      "metadata": {
        "id": "tgX1SFkWur7v"
      }
    },
    {
      "cell_type": "code",
      "source": [
        "cartela_bingo[1:3, 0:2]"
      ],
      "metadata": {
        "id": "I80fQrsyqiyR",
        "outputId": "56ed1a74-a5c5-4c77-8328-c841c40a001c",
        "colab": {
          "base_uri": "https://localhost:8080/"
        }
      },
      "execution_count": null,
      "outputs": [
        {
          "output_type": "execute_result",
          "data": {
            "text/plain": [
              "array([[14, 23],\n",
              "       [ 6, 19]])"
            ]
          },
          "metadata": {},
          "execution_count": 10
        }
      ]
    },
    {
      "cell_type": "code",
      "source": [
        "cartela_bingo[:, 1].shape"
      ],
      "metadata": {
        "id": "-6syFZfNycTM",
        "outputId": "1d7e8e77-e9b7-40bc-ff91-c495674b14df",
        "colab": {
          "base_uri": "https://localhost:8080/"
        }
      },
      "execution_count": null,
      "outputs": [
        {
          "output_type": "execute_result",
          "data": {
            "text/plain": [
              "(4,)"
            ]
          },
          "metadata": {},
          "execution_count": 11
        }
      ]
    },
    {
      "cell_type": "markdown",
      "source": [],
      "metadata": {
        "id": "Wsl95f4Lib7A"
      }
    },
    {
      "cell_type": "code",
      "source": [
        "cartela_bingo[:, 1].reshape((4,1))"
      ],
      "metadata": {
        "colab": {
          "base_uri": "https://localhost:8080/"
        },
        "id": "EYHXgwWM7CsT",
        "outputId": "4c5c9f07-279d-4298-eb1c-1dd2b3610ae1"
      },
      "execution_count": null,
      "outputs": [
        {
          "output_type": "execute_result",
          "data": {
            "text/plain": [
              "array([[10],\n",
              "       [23],\n",
              "       [19],\n",
              "       [ 4]])"
            ]
          },
          "metadata": {},
          "execution_count": 12
        }
      ]
    },
    {
      "cell_type": "code",
      "source": [
        "cartela_bingo[0]"
      ],
      "metadata": {
        "colab": {
          "base_uri": "https://localhost:8080/"
        },
        "id": "ui3ygaJR7Cu_",
        "outputId": "4e2de95a-0493-4ec8-c10c-88dabff8c481"
      },
      "execution_count": null,
      "outputs": [
        {
          "output_type": "execute_result",
          "data": {
            "text/plain": [
              "array([16, 10,  3, 15])"
            ]
          },
          "metadata": {},
          "execution_count": 13
        }
      ]
    },
    {
      "cell_type": "code",
      "source": [
        "np.sort(cartela_bingo)"
      ],
      "metadata": {
        "colab": {
          "base_uri": "https://localhost:8080/"
        },
        "id": "1UY_zh_O7Cxk",
        "outputId": "e1879f1f-2721-4114-87bf-d39cb2d2157a"
      },
      "execution_count": null,
      "outputs": [
        {
          "output_type": "execute_result",
          "data": {
            "text/plain": [
              "array([[ 3, 10, 15, 16],\n",
              "       [14, 17, 23, 27],\n",
              "       [ 1,  3,  6, 19],\n",
              "       [ 4, 10, 18, 19]])"
            ]
          },
          "metadata": {},
          "execution_count": 14
        }
      ]
    },
    {
      "cell_type": "markdown",
      "source": [
        "axis zero é igual eixo Y"
      ],
      "metadata": {
        "id": "qizQK2YTzL88"
      }
    },
    {
      "cell_type": "code",
      "source": [
        "np.sort(cartela_bingo, axis=0)"
      ],
      "metadata": {
        "colab": {
          "base_uri": "https://localhost:8080/"
        },
        "id": "kuUUK0a87C0B",
        "outputId": "778883ae-83f2-4707-c2cd-10e840b98c3c"
      },
      "execution_count": null,
      "outputs": [
        {
          "output_type": "execute_result",
          "data": {
            "text/plain": [
              "array([[ 6,  4,  3,  1],\n",
              "       [10, 10,  3, 15],\n",
              "       [14, 19, 17, 19],\n",
              "       [16, 23, 18, 27]])"
            ]
          },
          "metadata": {},
          "execution_count": 15
        }
      ]
    },
    {
      "cell_type": "markdown",
      "source": [
        "axis 1 = eixo **x**"
      ],
      "metadata": {
        "id": "G0cAo6ZPzTV8"
      }
    },
    {
      "cell_type": "code",
      "source": [
        "np.sort(cartela_bingo, axis=1)"
      ],
      "metadata": {
        "id": "SmXY1QAV7C2h",
        "outputId": "5a03c043-1248-4f2d-a716-b22f5157b7a9",
        "colab": {
          "base_uri": "https://localhost:8080/"
        }
      },
      "execution_count": null,
      "outputs": [
        {
          "output_type": "execute_result",
          "data": {
            "text/plain": [
              "array([[ 3, 10, 15, 16],\n",
              "       [14, 17, 23, 27],\n",
              "       [ 1,  3,  6, 19],\n",
              "       [ 4, 10, 18, 19]])"
            ]
          },
          "metadata": {},
          "execution_count": 16
        }
      ]
    },
    {
      "cell_type": "code",
      "source": [],
      "metadata": {
        "id": "-9si1OlV7C5U"
      },
      "execution_count": null,
      "outputs": []
    },
    {
      "cell_type": "markdown",
      "source": [
        "## 1.1 Explorando Ecossistemas:\n",
        "Como bióloga marinha, me encontrei em uma expedição nas profundezas do Oceano Pacífico, onde estávamos estudando a biodiversidade e a saúde dos recifes de coral. O catálogo abaixo demonstra dados das espécies encontradas, considere a seguinte ordem de colunas:\n",
        "\n",
        "**ID da espécie, quantidade de representantes encontrados, profundeza, tamanho médio da espécie**\n",
        "\n",
        "\n",
        "\n",
        "*  Selecione a segunda coluna com a quantidade de espécies encontradas e adicione em um array as qtd_especies.\n",
        "*  De qtd_especies selecione apenas as primeiras 3 quantidades e print\n",
        "*  Print as 5 últimas quantidades de espécies\n",
        "*  Crie um array que contenha apenas os tamanhos das espécies e ordene por ordem crescente\n",
        "\n",
        "\n",
        "\n",
        "\n"
      ],
      "metadata": {
        "id": "5Xr_92nOfJAa"
      }
    },
    {
      "cell_type": "code",
      "source": [
        "especies = np.array([[747,  89,  33,   5],\n",
        "                    [623, 123,  32,  13],\n",
        "                    [501,  22,  49,   2],\n",
        "                    [116, 101,  42,  10],\n",
        "                    [297,  56,  69,  22],\n",
        "                    [613,  64,  27,   7],\n",
        "                    [295,  84,  29,  14],\n",
        "                    [692, 105,  72,  16],\n",
        "                    [229, 103,  35,   5],\n",
        "                    [374, 124,  70,   1]])\n",
        "especies"
      ],
      "metadata": {
        "colab": {
          "base_uri": "https://localhost:8080/"
        },
        "id": "mKTG17i661tt",
        "outputId": "a88af5bc-28a4-4f5b-bac8-5e20df801c7b"
      },
      "execution_count": null,
      "outputs": [
        {
          "output_type": "execute_result",
          "data": {
            "text/plain": [
              "array([[747,  89,  33,   5],\n",
              "       [623, 123,  32,  13],\n",
              "       [501,  22,  49,   2],\n",
              "       [116, 101,  42,  10],\n",
              "       [297,  56,  69,  22],\n",
              "       [613,  64,  27,   7],\n",
              "       [295,  84,  29,  14],\n",
              "       [692, 105,  72,  16],\n",
              "       [229, 103,  35,   5],\n",
              "       [374, 124,  70,   1]])"
            ]
          },
          "metadata": {},
          "execution_count": 17
        }
      ]
    },
    {
      "cell_type": "code",
      "source": [
        "qtd_especies = especies[:, 1]\n",
        "qtd_especies"
      ],
      "metadata": {
        "id": "qqVcVlFM2pQB",
        "outputId": "a13da4e4-72b6-4838-e892-2e25a04b6f19",
        "colab": {
          "base_uri": "https://localhost:8080/"
        }
      },
      "execution_count": null,
      "outputs": [
        {
          "output_type": "execute_result",
          "data": {
            "text/plain": [
              "array([ 89, 123,  22, 101,  56,  64,  84, 105, 103, 124])"
            ]
          },
          "metadata": {},
          "execution_count": 18
        }
      ]
    },
    {
      "cell_type": "code",
      "source": [
        "qtd_especies[0:3]"
      ],
      "metadata": {
        "id": "RXKyecZ72wWi",
        "outputId": "bd983de6-8598-41a9-ddd7-8005ee7fa41b",
        "colab": {
          "base_uri": "https://localhost:8080/"
        }
      },
      "execution_count": null,
      "outputs": [
        {
          "output_type": "execute_result",
          "data": {
            "text/plain": [
              "array([ 89, 123,  22])"
            ]
          },
          "metadata": {},
          "execution_count": 19
        }
      ]
    },
    {
      "cell_type": "code",
      "source": [
        "qtd_especies[:3]"
      ],
      "metadata": {
        "id": "CIfXMp-o3GrQ",
        "outputId": "e1bdf763-bdd1-4055-c312-210ff6d5c648",
        "colab": {
          "base_uri": "https://localhost:8080/"
        }
      },
      "execution_count": null,
      "outputs": [
        {
          "output_type": "execute_result",
          "data": {
            "text/plain": [
              "array([ 89, 123,  22])"
            ]
          },
          "metadata": {},
          "execution_count": 20
        }
      ]
    },
    {
      "cell_type": "markdown",
      "source": [
        "pra saber qntas linhas da um shape"
      ],
      "metadata": {
        "id": "86WTVfHu4Iji"
      }
    },
    {
      "cell_type": "code",
      "source": [
        "qtd_especies.shape"
      ],
      "metadata": {
        "id": "qR1q64Gr4HYi",
        "outputId": "c9e75bf9-1445-4734-fca6-7fcdc0d06101",
        "colab": {
          "base_uri": "https://localhost:8080/"
        }
      },
      "execution_count": null,
      "outputs": [
        {
          "output_type": "execute_result",
          "data": {
            "text/plain": [
              "(10,)"
            ]
          },
          "metadata": {},
          "execution_count": 21
        }
      ]
    },
    {
      "cell_type": "markdown",
      "source": [
        "Abaixo eu to pegando os últimos 5 elementos do array simples, qndo eu nao sei qual o tamanho do array"
      ],
      "metadata": {
        "id": "RjdL-N4r4Xws"
      }
    },
    {
      "cell_type": "code",
      "source": [
        "qtd_especies[-5:]"
      ],
      "metadata": {
        "id": "-oltdTqx3JKq",
        "outputId": "7b6177d0-c5d6-44c8-cbd4-0c992e5b1260",
        "colab": {
          "base_uri": "https://localhost:8080/"
        }
      },
      "execution_count": null,
      "outputs": [
        {
          "output_type": "execute_result",
          "data": {
            "text/plain": [
              "array([ 64,  84, 105, 103, 124])"
            ]
          },
          "metadata": {},
          "execution_count": 22
        }
      ]
    },
    {
      "cell_type": "markdown",
      "source": [
        "aqui eu to excluindo o ultimo elemento ou pegando os primeiros 9"
      ],
      "metadata": {
        "id": "7QbRFwWE4g9p"
      }
    },
    {
      "cell_type": "code",
      "source": [
        "qtd_especies[:-1]"
      ],
      "metadata": {
        "id": "xVvNFZky4gUQ",
        "outputId": "4056fdf5-14ef-4b75-8867-3099706d0413",
        "colab": {
          "base_uri": "https://localhost:8080/"
        }
      },
      "execution_count": null,
      "outputs": [
        {
          "output_type": "execute_result",
          "data": {
            "text/plain": [
              "array([ 89, 123,  22, 101,  56,  64,  84, 105, 103])"
            ]
          },
          "metadata": {},
          "execution_count": 23
        }
      ]
    },
    {
      "cell_type": "markdown",
      "source": [
        "ordena elementos da coluna 3 em ordem crescente"
      ],
      "metadata": {
        "id": "LNF2QWGR44Bj"
      }
    },
    {
      "cell_type": "code",
      "source": [
        "tam_especies_ordenado = np.sort(especies[:, 3])\n",
        "tam_especies_ordenado"
      ],
      "metadata": {
        "id": "NfyLpmIn44Nx",
        "outputId": "2f7f4552-229d-420b-8e7e-6fb20bb02630",
        "colab": {
          "base_uri": "https://localhost:8080/"
        }
      },
      "execution_count": null,
      "outputs": [
        {
          "output_type": "execute_result",
          "data": {
            "text/plain": [
              "array([ 1,  2,  5,  5,  7, 10, 13, 14, 16, 22])"
            ]
          },
          "metadata": {},
          "execution_count": 24
        }
      ]
    },
    {
      "cell_type": "markdown",
      "source": [
        "ordena elementos da coluna 3 em ordem decrescente\n"
      ],
      "metadata": {
        "id": "SsFgXsSf8Yq4"
      }
    },
    {
      "cell_type": "code",
      "source": [
        "tam_especies_ordenado2 = np.sort(especies[:, 3])[::-1]\n",
        "tam_especies_ordenado2"
      ],
      "metadata": {
        "id": "vs1nVc7m8jRG",
        "outputId": "0a79717c-a5ec-48d5-ea64-6202c4e4c7c3",
        "colab": {
          "base_uri": "https://localhost:8080/"
        }
      },
      "execution_count": null,
      "outputs": [
        {
          "output_type": "execute_result",
          "data": {
            "text/plain": [
              "array([22, 16, 14, 13, 10,  7,  5,  5,  2,  1])"
            ]
          },
          "metadata": {},
          "execution_count": 25
        }
      ]
    },
    {
      "cell_type": "markdown",
      "source": [
        "## Filtrando Arrays"
      ],
      "metadata": {
        "id": "fN0bdngrCRlr"
      }
    },
    {
      "cell_type": "markdown",
      "source": [
        "aqui retorna o resultado da comparacao"
      ],
      "metadata": {
        "id": "UA_XUKZtjh93"
      }
    },
    {
      "cell_type": "code",
      "source": [
        "arr1 = np.array([1, 2, 3, 4, 5])\n",
        "mask = arr1 % 3 == 0\n",
        "mask"
      ],
      "metadata": {
        "colab": {
          "base_uri": "https://localhost:8080/"
        },
        "id": "u72h8zD39NaE",
        "outputId": "14ae74da-7ef4-419b-d446-349c46659b1e"
      },
      "execution_count": null,
      "outputs": [
        {
          "output_type": "execute_result",
          "data": {
            "text/plain": [
              "array([False, False,  True, False, False])"
            ]
          },
          "metadata": {},
          "execution_count": 26
        }
      ]
    },
    {
      "cell_type": "markdown",
      "source": [
        "ja aqui retorna o indice do array que corresponde com true a comparacao"
      ],
      "metadata": {
        "id": "-BE8UY_Jjmio"
      }
    },
    {
      "cell_type": "code",
      "source": [
        "arr1[mask]"
      ],
      "metadata": {
        "id": "tyXgQ2KwjDNf",
        "outputId": "90cad132-5792-4573-8328-f28d45a3b404",
        "colab": {
          "base_uri": "https://localhost:8080/"
        }
      },
      "execution_count": null,
      "outputs": [
        {
          "output_type": "execute_result",
          "data": {
            "text/plain": [
              "array([3])"
            ]
          },
          "metadata": {},
          "execution_count": 27
        }
      ]
    },
    {
      "cell_type": "code",
      "source": [
        "pessoas_id_idade = np.array([[1, 22], [2, 21], [3, 27], [4, 26]])\n",
        "pessoas_id_idade"
      ],
      "metadata": {
        "colab": {
          "base_uri": "https://localhost:8080/"
        },
        "id": "TaLHOLi_CMn5",
        "outputId": "f3aebc54-d06d-4dbb-c74f-9744684bfce1"
      },
      "execution_count": null,
      "outputs": [
        {
          "output_type": "execute_result",
          "data": {
            "text/plain": [
              "array([[ 1, 22],\n",
              "       [ 2, 21],\n",
              "       [ 3, 27],\n",
              "       [ 4, 26]])"
            ]
          },
          "metadata": {},
          "execution_count": 28
        }
      ]
    },
    {
      "cell_type": "markdown",
      "source": [
        "pega tudo da linha na coluna 1 e verifique se eh maior q 25 = array de uma dimensao"
      ],
      "metadata": {
        "id": "Ka4RE037kQdw"
      }
    },
    {
      "cell_type": "code",
      "source": [
        "np.where(pessoas_id_idade[:, 1] > 25)"
      ],
      "metadata": {
        "id": "DRbdOB0Jj6rL",
        "outputId": "21c31a82-079f-42c1-ad39-5312e626af4a",
        "colab": {
          "base_uri": "https://localhost:8080/"
        }
      },
      "execution_count": null,
      "outputs": [
        {
          "output_type": "execute_result",
          "data": {
            "text/plain": [
              "(array([2, 3]),)"
            ]
          },
          "metadata": {},
          "execution_count": 29
        }
      ]
    },
    {
      "cell_type": "code",
      "source": [
        "cartela_bingo = np.array([[16, 10,  3, 15],\n",
        "       [14, 23, 17, 27],\n",
        "       [ 6, 19,  3,  1],\n",
        "       [10,  4, 18, 19]])\n",
        "cartela_bingo"
      ],
      "metadata": {
        "colab": {
          "base_uri": "https://localhost:8080/"
        },
        "id": "2TID3wQ1DHoD",
        "outputId": "d204f8b4-bb36-4e94-e465-da6b1d770523"
      },
      "execution_count": null,
      "outputs": [
        {
          "output_type": "execute_result",
          "data": {
            "text/plain": [
              "array([[16, 10,  3, 15],\n",
              "       [14, 23, 17, 27],\n",
              "       [ 6, 19,  3,  1],\n",
              "       [10,  4, 18, 19]])"
            ]
          },
          "metadata": {},
          "execution_count": 30
        }
      ]
    },
    {
      "cell_type": "markdown",
      "source": [
        "array de duas dimensoes retorna true qndo contempla a condicao indicando o indice separadamente. primeiro array e de linhas e o segundo array e de colunas"
      ],
      "metadata": {
        "id": "LEpxox0ZkbKX"
      }
    },
    {
      "cell_type": "code",
      "source": [
        "np.where(cartela_bingo % 3 == 0)"
      ],
      "metadata": {
        "id": "ErFcH5B8kbXZ",
        "outputId": "fd8dc7c3-499a-4966-a379-16e148c6cb1f",
        "colab": {
          "base_uri": "https://localhost:8080/"
        }
      },
      "execution_count": null,
      "outputs": [
        {
          "output_type": "execute_result",
          "data": {
            "text/plain": [
              "(array([0, 0, 1, 2, 2, 3]), array([2, 3, 3, 0, 2, 2]))"
            ]
          },
          "metadata": {},
          "execution_count": 31
        }
      ]
    },
    {
      "cell_type": "markdown",
      "source": [
        "buscar e substituir: qndo contemplar a condicao substitui por espaco caso contrario manter o valor original\n"
      ],
      "metadata": {
        "id": "jVv1tDnEmJff"
      }
    },
    {
      "cell_type": "code",
      "source": [
        "np.where(cartela_bingo % 3 == 0, \" \", cartela_bingo)"
      ],
      "metadata": {
        "id": "wW8R6yTImNzU",
        "outputId": "9dba172d-0919-4955-b61e-3b2c6f8969cf",
        "colab": {
          "base_uri": "https://localhost:8080/"
        }
      },
      "execution_count": null,
      "outputs": [
        {
          "output_type": "execute_result",
          "data": {
            "text/plain": [
              "array([['16', '10', ' ', ' '],\n",
              "       ['14', '23', '17', ' '],\n",
              "       [' ', '19', ' ', '1'],\n",
              "       ['10', '4', ' ', '19']], dtype='<U21')"
            ]
          },
          "metadata": {},
          "execution_count": 32
        }
      ]
    },
    {
      "cell_type": "markdown",
      "source": [
        "## 1.2 Ainda usando o Array de espécies marítimas.\n",
        "\n",
        "*   Usando um index booleano crie um array que contém os dados da maior espécie encontrada (considerando o seu tamanho), esse valor corresponde ao valor 22.\n",
        "\n",
        "*   Usando fency index faça um array que contém apenas dados da espécie com ID 297\n",
        "*   Usando np.where() faça um array com a linha com dados correspondentes a espécie com 105 representantes encontrados.\n",
        "*   Considere a profundeza em que o espécie foi encontrada substitua valores maiores que 60 com \"Profundo\"\n",
        "\n",
        "\n",
        "Tabela = ID da espécie, quantidade de representantes encontrados, profundeza, tamanho médio da espécie\n",
        "\n"
      ],
      "metadata": {
        "id": "SVvnsCn9EGkv"
      }
    },
    {
      "cell_type": "code",
      "source": [
        "especies"
      ],
      "metadata": {
        "colab": {
          "base_uri": "https://localhost:8080/"
        },
        "id": "ajhm-M6UEPpb",
        "outputId": "20359aef-d211-4a1e-a6be-833921ba48e4"
      },
      "execution_count": null,
      "outputs": [
        {
          "output_type": "execute_result",
          "data": {
            "text/plain": [
              "array([[747,  89,  33,   5],\n",
              "       [623, 123,  32,  13],\n",
              "       [501,  22,  49,   2],\n",
              "       [116, 101,  42,  10],\n",
              "       [297,  56,  69,  22],\n",
              "       [613,  64,  27,   7],\n",
              "       [295,  84,  29,  14],\n",
              "       [692, 105,  72,  16],\n",
              "       [229, 103,  35,   5],\n",
              "       [374, 124,  70,   1]])"
            ]
          },
          "metadata": {},
          "execution_count": 33
        }
      ]
    },
    {
      "cell_type": "markdown",
      "source": [
        "Usando um index booleano crie um array que contém os dados da maior espécie encontrada (considerando o seu tamanho), esse valor corresponde ao valor 22."
      ],
      "metadata": {
        "id": "lAVC7MDvp3SD"
      }
    },
    {
      "cell_type": "code",
      "source": [
        "especie_maior_22 = np.where(especies[:, 3] == 22, True, False)\n",
        "especie_maior_22"
      ],
      "metadata": {
        "id": "iL_6l4xtotMY",
        "outputId": "57ea562b-0475-43ca-f96f-0c793a6e2dbd",
        "colab": {
          "base_uri": "https://localhost:8080/"
        }
      },
      "execution_count": null,
      "outputs": [
        {
          "output_type": "execute_result",
          "data": {
            "text/plain": [
              "array([False, False, False, False,  True, False, False, False, False,\n",
              "       False])"
            ]
          },
          "metadata": {},
          "execution_count": 34
        }
      ]
    },
    {
      "cell_type": "code",
      "source": [
        "especies[especies[:, 3] == 22]"
      ],
      "metadata": {
        "id": "9emyx26CqU5E",
        "outputId": "f7b9e937-4fef-4451-ff1d-140dbde03893",
        "colab": {
          "base_uri": "https://localhost:8080/"
        }
      },
      "execution_count": null,
      "outputs": [
        {
          "output_type": "execute_result",
          "data": {
            "text/plain": [
              "array([[297,  56,  69,  22]])"
            ]
          },
          "metadata": {},
          "execution_count": 35
        }
      ]
    },
    {
      "cell_type": "code",
      "source": [
        "mask = especies[:, 0] == 297\n",
        "especies[mask]"
      ],
      "metadata": {
        "id": "nyEXW-BIqztR",
        "outputId": "789fc166-1872-4162-bd83-7752e405f3cc",
        "colab": {
          "base_uri": "https://localhost:8080/"
        }
      },
      "execution_count": null,
      "outputs": [
        {
          "output_type": "execute_result",
          "data": {
            "text/plain": [
              "array([[297,  56,  69,  22]])"
            ]
          },
          "metadata": {},
          "execution_count": 36
        }
      ]
    },
    {
      "cell_type": "code",
      "source": [
        "especies[np.where(especies[:, 1] == 105)]"
      ],
      "metadata": {
        "id": "z7T_KLNYrcyP",
        "outputId": "9dbeaa1e-9853-471b-8105-2bd4a5ef2248",
        "colab": {
          "base_uri": "https://localhost:8080/"
        }
      },
      "execution_count": null,
      "outputs": [
        {
          "output_type": "execute_result",
          "data": {
            "text/plain": [
              "array([[692, 105,  72,  16]])"
            ]
          },
          "metadata": {},
          "execution_count": 37
        }
      ]
    },
    {
      "cell_type": "code",
      "source": [
        "np.where(especies[:,2] > 60, \"Profundo\", especies[:,2])"
      ],
      "metadata": {
        "id": "C0quT6eUtmJP",
        "outputId": "bf88aab3-7a56-4017-8a9b-c0f6d92777d4",
        "colab": {
          "base_uri": "https://localhost:8080/"
        }
      },
      "execution_count": null,
      "outputs": [
        {
          "output_type": "execute_result",
          "data": {
            "text/plain": [
              "array(['33', '32', '49', '42', 'Profundo', '27', '29', 'Profundo', '35',\n",
              "       'Profundo'], dtype='<U21')"
            ]
          },
          "metadata": {},
          "execution_count": 38
        }
      ]
    },
    {
      "cell_type": "markdown",
      "source": [
        "## 1.3 Ainda no conjunto 'especies'.\n",
        "\n",
        "*   Adicione mais 2 espécies ao array: [[204, 10, 40, 12], [392, 11, 81, 11]]\n",
        "*   Adicione mais uma coluna na no array original agora com o número de espécies encontradas com que indica se o animal enxerga ou não: [0, 1, 0, 0, 0, 0, 1, 0, 1, 1, 0]\n",
        "* Faça um array com todas as especies menos com ID 623, 116, 613\n"
      ],
      "metadata": {
        "id": "SHKhhhoqqOIs"
      }
    },
    {
      "cell_type": "code",
      "source": [
        "arr = np.array([[204, 10, 40, 12], [392, 11, 81, 11]])\n",
        "arr"
      ],
      "metadata": {
        "id": "aMhWjdKaqyjl",
        "outputId": "18c45876-788c-4738-8aa2-b050e42059d3",
        "colab": {
          "base_uri": "https://localhost:8080/"
        }
      },
      "execution_count": null,
      "outputs": [
        {
          "output_type": "execute_result",
          "data": {
            "text/plain": [
              "array([[204,  10,  40,  12],\n",
              "       [392,  11,  81,  11]])"
            ]
          },
          "metadata": {},
          "execution_count": 39
        }
      ]
    },
    {
      "cell_type": "code",
      "source": [
        "new_array = np.concatenate((especies, arr))\n",
        "new_array"
      ],
      "metadata": {
        "id": "6aFPYPQmGQo3",
        "outputId": "e7a5f54e-2ed0-4887-db08-69c998947188",
        "colab": {
          "base_uri": "https://localhost:8080/"
        }
      },
      "execution_count": null,
      "outputs": [
        {
          "output_type": "execute_result",
          "data": {
            "text/plain": [
              "array([[747,  89,  33,   5],\n",
              "       [623, 123,  32,  13],\n",
              "       [501,  22,  49,   2],\n",
              "       [116, 101,  42,  10],\n",
              "       [297,  56,  69,  22],\n",
              "       [613,  64,  27,   7],\n",
              "       [295,  84,  29,  14],\n",
              "       [692, 105,  72,  16],\n",
              "       [229, 103,  35,   5],\n",
              "       [374, 124,  70,   1],\n",
              "       [204,  10,  40,  12],\n",
              "       [392,  11,  81,  11]])"
            ]
          },
          "metadata": {},
          "execution_count": 40
        }
      ]
    },
    {
      "cell_type": "code",
      "source": [
        "new_array.shape"
      ],
      "metadata": {
        "id": "5lASEaP17GdQ",
        "outputId": "2b245ee3-b934-4a87-9674-6cfa05d205bd",
        "colab": {
          "base_uri": "https://localhost:8080/"
        }
      },
      "execution_count": null,
      "outputs": [
        {
          "output_type": "execute_result",
          "data": {
            "text/plain": [
              "(12, 4)"
            ]
          },
          "metadata": {},
          "execution_count": 41
        }
      ]
    },
    {
      "cell_type": "code",
      "source": [
        "arr_encherga = np.array([0, 1, 0, 0, 0, 0, 1, 0, 1, 1, 0, 1])\n",
        "arr_encherga"
      ],
      "metadata": {
        "id": "xqfb54bcFBkC",
        "outputId": "5b4eefe4-e545-4b2a-a48d-28f646daf0ab",
        "colab": {
          "base_uri": "https://localhost:8080/"
        }
      },
      "execution_count": null,
      "outputs": [
        {
          "output_type": "execute_result",
          "data": {
            "text/plain": [
              "array([0, 1, 0, 0, 0, 0, 1, 0, 1, 1, 0, 1])"
            ]
          },
          "metadata": {},
          "execution_count": 42
        }
      ]
    },
    {
      "cell_type": "code",
      "source": [
        "arr_encherga.shape"
      ],
      "metadata": {
        "id": "F7VpoT1tvSun",
        "outputId": "49758eb2-e803-49ae-d41c-0f7edf8da40d",
        "colab": {
          "base_uri": "https://localhost:8080/"
        }
      },
      "execution_count": null,
      "outputs": [
        {
          "output_type": "execute_result",
          "data": {
            "text/plain": [
              "(12,)"
            ]
          },
          "metadata": {},
          "execution_count": 43
        }
      ]
    },
    {
      "cell_type": "code",
      "source": [
        "arr_encherga = arr_encherga.reshape((12,1))\n",
        "arr_encherga"
      ],
      "metadata": {
        "id": "Jw0yQyun7xAO",
        "outputId": "fff7bf23-bebf-443a-ef44-837011d6f1c2",
        "colab": {
          "base_uri": "https://localhost:8080/"
        }
      },
      "execution_count": null,
      "outputs": [
        {
          "output_type": "execute_result",
          "data": {
            "text/plain": [
              "array([[0],\n",
              "       [1],\n",
              "       [0],\n",
              "       [0],\n",
              "       [0],\n",
              "       [0],\n",
              "       [1],\n",
              "       [0],\n",
              "       [1],\n",
              "       [1],\n",
              "       [0],\n",
              "       [1]])"
            ]
          },
          "metadata": {},
          "execution_count": 44
        }
      ]
    },
    {
      "cell_type": "code",
      "source": [
        "new_new_array = np.concatenate((new_array, arr_encherga), axis=1)\n",
        "new_new_array"
      ],
      "metadata": {
        "id": "3OIbV5VdDrp7",
        "outputId": "2a53f72e-c7fc-444b-a056-0acfbc0b49ef",
        "colab": {
          "base_uri": "https://localhost:8080/"
        }
      },
      "execution_count": null,
      "outputs": [
        {
          "output_type": "execute_result",
          "data": {
            "text/plain": [
              "array([[747,  89,  33,   5,   0],\n",
              "       [623, 123,  32,  13,   1],\n",
              "       [501,  22,  49,   2,   0],\n",
              "       [116, 101,  42,  10,   0],\n",
              "       [297,  56,  69,  22,   0],\n",
              "       [613,  64,  27,   7,   0],\n",
              "       [295,  84,  29,  14,   1],\n",
              "       [692, 105,  72,  16,   0],\n",
              "       [229, 103,  35,   5,   1],\n",
              "       [374, 124,  70,   1,   1],\n",
              "       [204,  10,  40,  12,   0],\n",
              "       [392,  11,  81,  11,   1]])"
            ]
          },
          "metadata": {},
          "execution_count": 45
        }
      ]
    },
    {
      "cell_type": "code",
      "source": [
        "new_new_array.shape"
      ],
      "metadata": {
        "id": "zYxzt4r79xmi",
        "outputId": "7c0fcd2b-0202-41a5-d6f2-616f9d1470d7",
        "colab": {
          "base_uri": "https://localhost:8080/"
        }
      },
      "execution_count": null,
      "outputs": [
        {
          "output_type": "execute_result",
          "data": {
            "text/plain": [
              "(12, 5)"
            ]
          },
          "metadata": {},
          "execution_count": 46
        }
      ]
    },
    {
      "cell_type": "code",
      "source": [
        "exclude_array = np.delete(new_new_array, [1, 3, 5], axis=0) #exclui linha 1,3, 5\n",
        "exclude_array"
      ],
      "metadata": {
        "id": "NzKqBLcVOoH2",
        "outputId": "805d73bb-481a-4091-8248-9ba049cc814c",
        "colab": {
          "base_uri": "https://localhost:8080/"
        }
      },
      "execution_count": null,
      "outputs": [
        {
          "output_type": "execute_result",
          "data": {
            "text/plain": [
              "array([[747,  89,  33,   5,   0],\n",
              "       [501,  22,  49,   2,   0],\n",
              "       [297,  56,  69,  22,   0],\n",
              "       [295,  84,  29,  14,   1],\n",
              "       [692, 105,  72,  16,   0],\n",
              "       [229, 103,  35,   5,   1],\n",
              "       [374, 124,  70,   1,   1],\n",
              "       [204,  10,  40,  12,   0],\n",
              "       [392,  11,  81,  11,   1]])"
            ]
          },
          "metadata": {},
          "execution_count": 58
        }
      ]
    },
    {
      "cell_type": "markdown",
      "source": [
        "Concatenando arrays"
      ],
      "metadata": {
        "id": "zPtmQghIvW9e"
      }
    },
    {
      "cell_type": "code",
      "source": [
        "arr1 = np.array([1, 2, 3])\n",
        "arr2 = np.array([4, 5, 6])\n",
        "np.concatenate((arr1, arr2))"
      ],
      "metadata": {
        "id": "cwfSdCnhvTDL",
        "outputId": "5b82c83b-a245-4d36-c420-1c46fad7ef8d",
        "colab": {
          "base_uri": "https://localhost:8080/"
        }
      },
      "execution_count": null,
      "outputs": [
        {
          "output_type": "execute_result",
          "data": {
            "text/plain": [
              "array([1, 2, 3, 4, 5, 6])"
            ]
          },
          "metadata": {},
          "execution_count": 48
        }
      ]
    },
    {
      "cell_type": "code",
      "source": [
        "arr3 = np.random.randint(10, size=(3, 3))\n",
        "arr3\n",
        "\n",
        "arr4 = np.array([[\"pera\", \"uva\", \"maca\"]])\n",
        "np.concatenate((arr3, arr4))"
      ],
      "metadata": {
        "id": "PQU_ovffvTNm",
        "outputId": "ddfd0483-4dfc-4713-e6b0-5e087b283851",
        "colab": {
          "base_uri": "https://localhost:8080/"
        }
      },
      "execution_count": null,
      "outputs": [
        {
          "output_type": "execute_result",
          "data": {
            "text/plain": [
              "array([['1', '1', '9'],\n",
              "       ['1', '1', '9'],\n",
              "       ['5', '3', '3'],\n",
              "       ['pera', 'uva', 'maca']], dtype='<U21')"
            ]
          },
          "metadata": {},
          "execution_count": 49
        }
      ]
    },
    {
      "cell_type": "markdown",
      "source": [
        "concatenando arrays desiquilibrados usando axis"
      ],
      "metadata": {
        "id": "CmgKMYjBwmvh"
      }
    },
    {
      "cell_type": "code",
      "source": [
        "arr5 = np.random.randint(10, size=(3, 2))\n",
        "arr5"
      ],
      "metadata": {
        "id": "6KbqhBrvvTU4",
        "outputId": "461de177-0c27-4598-bbc9-87a178287cc6",
        "colab": {
          "base_uri": "https://localhost:8080/"
        }
      },
      "execution_count": null,
      "outputs": [
        {
          "output_type": "execute_result",
          "data": {
            "text/plain": [
              "array([[0, 2],\n",
              "       [1, 8],\n",
              "       [8, 5]])"
            ]
          },
          "metadata": {},
          "execution_count": 50
        }
      ]
    },
    {
      "cell_type": "code",
      "source": [
        "arr6 = np.array([\"pera\", \"uva\", \"maca\"]).reshape((3,1))\n",
        "arr6"
      ],
      "metadata": {
        "id": "uj5h8QxvxfKS",
        "outputId": "577489d0-e040-4164-834f-38bbb6b85aab",
        "colab": {
          "base_uri": "https://localhost:8080/"
        }
      },
      "execution_count": null,
      "outputs": [
        {
          "output_type": "execute_result",
          "data": {
            "text/plain": [
              "array([['pera'],\n",
              "       ['uva'],\n",
              "       ['maca']], dtype='<U4')"
            ]
          },
          "metadata": {},
          "execution_count": 51
        }
      ]
    },
    {
      "cell_type": "markdown",
      "source": [
        "concatenate se importa com dimensao, tem que ser amesma dimensao entre os arrays concatenados"
      ],
      "metadata": {
        "id": "Gfy5Vzox19jV"
      }
    },
    {
      "cell_type": "code",
      "source": [
        "np.concatenate((arr5, arr6), axis=1)"
      ],
      "metadata": {
        "id": "L9y9fsTuxq6E",
        "outputId": "7312bec4-a125-4a43-bc2c-9687caca9c13",
        "colab": {
          "base_uri": "https://localhost:8080/"
        }
      },
      "execution_count": null,
      "outputs": [
        {
          "output_type": "execute_result",
          "data": {
            "text/plain": [
              "array([['0', '2', 'pera'],\n",
              "       ['1', '8', 'uva'],\n",
              "       ['8', '5', 'maca']], dtype='<U21')"
            ]
          },
          "metadata": {},
          "execution_count": 52
        }
      ]
    },
    {
      "cell_type": "code",
      "source": [
        "sala_espera = np.array([[5,30, 56, \"Alice\"],\n",
        "                        [6,46, 67, \"Fernando\"],\n",
        "                        [7,12, 34, \"Clarissa\"],\n",
        "                        [8,11, 90, \"Sheldon\"]])\n",
        "sala_espera"
      ],
      "metadata": {
        "id": "MUv0Qu5i2Hle",
        "outputId": "d5dcab4a-bfc4-437a-e70b-716697a2b75e",
        "colab": {
          "base_uri": "https://localhost:8080/"
        }
      },
      "execution_count": null,
      "outputs": [
        {
          "output_type": "execute_result",
          "data": {
            "text/plain": [
              "array([['5', '30', '56', 'Alice'],\n",
              "       ['6', '46', '67', 'Fernando'],\n",
              "       ['7', '12', '34', 'Clarissa'],\n",
              "       ['8', '11', '90', 'Sheldon']], dtype='<U21')"
            ]
          },
          "metadata": {},
          "execution_count": 53
        }
      ]
    },
    {
      "cell_type": "markdown",
      "source": [
        "exclui coluna 1"
      ],
      "metadata": {
        "id": "DouI2zNV6F4N"
      }
    },
    {
      "cell_type": "code",
      "source": [
        "np.delete(sala_espera, 1, axis=1)"
      ],
      "metadata": {
        "id": "NGUU-9yY59YS",
        "outputId": "b13afb1b-6684-4b1f-cb1f-d9bbdd2bbe64",
        "colab": {
          "base_uri": "https://localhost:8080/"
        }
      },
      "execution_count": null,
      "outputs": [
        {
          "output_type": "execute_result",
          "data": {
            "text/plain": [
              "array([['5', '56', 'Alice'],\n",
              "       ['6', '67', 'Fernando'],\n",
              "       ['7', '34', 'Clarissa'],\n",
              "       ['8', '90', 'Sheldon']], dtype='<U21')"
            ]
          },
          "metadata": {},
          "execution_count": 54
        }
      ]
    },
    {
      "cell_type": "markdown",
      "source": [
        "exclui linha 3"
      ],
      "metadata": {
        "id": "2_HbBfnY6Jz4"
      }
    },
    {
      "cell_type": "code",
      "source": [
        "np.delete(sala_espera, 2, axis=0)"
      ],
      "metadata": {
        "id": "Q02hHqcQ59j_",
        "outputId": "47a06b17-e0eb-432f-c7ae-19a42c227378",
        "colab": {
          "base_uri": "https://localhost:8080/"
        }
      },
      "execution_count": null,
      "outputs": [
        {
          "output_type": "execute_result",
          "data": {
            "text/plain": [
              "array([['5', '30', '56', 'Alice'],\n",
              "       ['6', '46', '67', 'Fernando'],\n",
              "       ['8', '11', '90', 'Sheldon']], dtype='<U21')"
            ]
          },
          "metadata": {},
          "execution_count": 55
        }
      ]
    },
    {
      "cell_type": "markdown",
      "source": [
        "exclui sem axis"
      ],
      "metadata": {
        "id": "PPeNX9bN6p-o"
      }
    },
    {
      "cell_type": "code",
      "source": [
        "np.delete(sala_espera, 2)"
      ],
      "metadata": {
        "id": "FxYCqnNT6qTN",
        "outputId": "00b6a96e-a7ce-4367-d6ec-0c3e7bbb0979",
        "colab": {
          "base_uri": "https://localhost:8080/"
        }
      },
      "execution_count": null,
      "outputs": [
        {
          "output_type": "execute_result",
          "data": {
            "text/plain": [
              "array(['5', '30', 'Alice', '6', '46', '67', 'Fernando', '7', '12', '34',\n",
              "       'Clarissa', '8', '11', '90', 'Sheldon'], dtype='<U21')"
            ]
          },
          "metadata": {},
          "execution_count": 56
        }
      ]
    }
  ]
}