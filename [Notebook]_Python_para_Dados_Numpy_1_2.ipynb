{
  "nbformat": 4,
  "nbformat_minor": 0,
  "metadata": {
    "colab": {
      "provenance": [],
      "include_colab_link": true
    },
    "kernelspec": {
      "name": "python3",
      "display_name": "Python 3"
    },
    "language_info": {
      "name": "python"
    }
  },
  "cells": [
    {
      "cell_type": "markdown",
      "metadata": {
        "id": "view-in-github",
        "colab_type": "text"
      },
      "source": [
        "<a href=\"https://colab.research.google.com/github/dsreliete/Womakerscode-DA-colab/blob/main/%5BNotebook%5D_Python_para_Dados_Numpy_1_2.ipynb\" target=\"_parent\"><img src=\"https://colab.research.google.com/assets/colab-badge.svg\" alt=\"Open In Colab\"/></a>"
      ]
    },
    {
      "cell_type": "code",
      "execution_count": null,
      "metadata": {
        "id": "9ye4cNTu6ReI"
      },
      "outputs": [],
      "source": [
        "import numpy as np"
      ]
    },
    {
      "cell_type": "code",
      "source": [
        "arr = np.array([2, 4, 6, 7, 8])\n",
        "arr[1]"
      ],
      "metadata": {
        "colab": {
          "base_uri": "https://localhost:8080/"
        },
        "id": "f-BSn32D6-fA",
        "outputId": "c18bca87-885e-49da-d521-c318984f4567"
      },
      "execution_count": null,
      "outputs": [
        {
          "output_type": "execute_result",
          "data": {
            "text/plain": [
              "4"
            ]
          },
          "metadata": {},
          "execution_count": 4
        }
      ]
    },
    {
      "cell_type": "code",
      "source": [
        "arr[2:4]"
      ],
      "metadata": {
        "id": "XBXnctsmuEDw",
        "outputId": "d88c8973-10d9-4b4f-cf1d-b3e4dc5278ba",
        "colab": {
          "base_uri": "https://localhost:8080/"
        }
      },
      "execution_count": null,
      "outputs": [
        {
          "output_type": "execute_result",
          "data": {
            "text/plain": [
              "array([6, 7])"
            ]
          },
          "metadata": {},
          "execution_count": 19
        }
      ]
    },
    {
      "cell_type": "code",
      "source": [
        "arr[0]"
      ],
      "metadata": {
        "colab": {
          "base_uri": "https://localhost:8080/"
        },
        "id": "pOwnXsoE7CnJ",
        "outputId": "34afe964-b0ec-4da6-c196-0a330c444cf8"
      },
      "execution_count": null,
      "outputs": [
        {
          "output_type": "execute_result",
          "data": {
            "text/plain": [
              "2"
            ]
          },
          "metadata": {},
          "execution_count": 5
        }
      ]
    },
    {
      "cell_type": "code",
      "source": [
        "cartela_bingo = np.array([[16, 10,  3, 15],\n",
        "                            [14, 23, 17, 27],\n",
        "                            [ 6, 19,  3,  1],\n",
        "                            [10,  4, 18, 19]])\n",
        "cartela_bingo"
      ],
      "metadata": {
        "colab": {
          "base_uri": "https://localhost:8080/"
        },
        "id": "eSWIayXH7Cpt",
        "outputId": "9ef93439-dd7d-4d5a-89da-b48cbd6d0242"
      },
      "execution_count": null,
      "outputs": [
        {
          "output_type": "execute_result",
          "data": {
            "text/plain": [
              "array([[16, 10,  3, 15],\n",
              "       [14, 23, 17, 27],\n",
              "       [ 6, 19,  3,  1],\n",
              "       [10,  4, 18, 19]])"
            ]
          },
          "metadata": {},
          "execution_count": 6
        }
      ]
    },
    {
      "cell_type": "markdown",
      "source": [
        "selecional linha de array de 2 dimensoes"
      ],
      "metadata": {
        "id": "T0qqikhKq12m"
      }
    },
    {
      "cell_type": "code",
      "source": [
        "cartela_bingo[3]"
      ],
      "metadata": {
        "id": "LAeAGpcxqsqq",
        "outputId": "80e40823-f062-4006-95bf-263eb0451b64",
        "colab": {
          "base_uri": "https://localhost:8080/"
        }
      },
      "execution_count": null,
      "outputs": [
        {
          "output_type": "execute_result",
          "data": {
            "text/plain": [
              "array([10,  4, 18, 19])"
            ]
          },
          "metadata": {},
          "execution_count": 11
        }
      ]
    },
    {
      "cell_type": "markdown",
      "source": [
        "selecionando coluna de array de 2 dimensoes"
      ],
      "metadata": {
        "id": "QyvlGwtsq5hz"
      }
    },
    {
      "cell_type": "code",
      "source": [
        "cartela_bingo[:, 1]"
      ],
      "metadata": {
        "id": "pZ0H0-AzqaLI",
        "outputId": "660d4212-1566-4b66-82de-21d14b89fc2e",
        "colab": {
          "base_uri": "https://localhost:8080/"
        }
      },
      "execution_count": null,
      "outputs": [
        {
          "output_type": "execute_result",
          "data": {
            "text/plain": [
              "array([10, 23, 19,  4])"
            ]
          },
          "metadata": {},
          "execution_count": 12
        }
      ]
    },
    {
      "cell_type": "markdown",
      "source": [
        "selecionando linha e coluna de uma array de duas dimensoes"
      ],
      "metadata": {
        "id": "tgX1SFkWur7v"
      }
    },
    {
      "cell_type": "code",
      "source": [
        "cartela_bingo[1:3, 0:2]"
      ],
      "metadata": {
        "id": "I80fQrsyqiyR",
        "outputId": "a9726def-75a5-48b4-d2bd-ea3aaadd7c81",
        "colab": {
          "base_uri": "https://localhost:8080/"
        }
      },
      "execution_count": null,
      "outputs": [
        {
          "output_type": "execute_result",
          "data": {
            "text/plain": [
              "array([[14, 23],\n",
              "       [ 6, 19]])"
            ]
          },
          "metadata": {},
          "execution_count": 20
        }
      ]
    },
    {
      "cell_type": "code",
      "source": [
        "cartela_bingo[:, 1].shape"
      ],
      "metadata": {
        "id": "-6syFZfNycTM",
        "outputId": "ccee1f50-d2eb-4570-d696-b15290b58834",
        "colab": {
          "base_uri": "https://localhost:8080/"
        }
      },
      "execution_count": null,
      "outputs": [
        {
          "output_type": "execute_result",
          "data": {
            "text/plain": [
              "(4,)"
            ]
          },
          "metadata": {},
          "execution_count": 22
        }
      ]
    },
    {
      "cell_type": "markdown",
      "source": [],
      "metadata": {
        "id": "Wsl95f4Lib7A"
      }
    },
    {
      "cell_type": "code",
      "source": [
        "cartela_bingo[:, 1].reshape((4,1))"
      ],
      "metadata": {
        "colab": {
          "base_uri": "https://localhost:8080/"
        },
        "id": "EYHXgwWM7CsT",
        "outputId": "7c735e82-5cc6-4019-9f15-5a767cf51b63"
      },
      "execution_count": null,
      "outputs": [
        {
          "output_type": "execute_result",
          "data": {
            "text/plain": [
              "array([[10],\n",
              "       [23],\n",
              "       [19],\n",
              "       [ 4]])"
            ]
          },
          "metadata": {},
          "execution_count": 15
        }
      ]
    },
    {
      "cell_type": "code",
      "source": [
        "cartela_bingo[0]"
      ],
      "metadata": {
        "colab": {
          "base_uri": "https://localhost:8080/"
        },
        "id": "ui3ygaJR7Cu_",
        "outputId": "75a68c54-67c0-4161-eacd-8ab4111636ca"
      },
      "execution_count": null,
      "outputs": [
        {
          "output_type": "execute_result",
          "data": {
            "text/plain": [
              "array([16, 10,  3, 15])"
            ]
          },
          "metadata": {},
          "execution_count": 16
        }
      ]
    },
    {
      "cell_type": "code",
      "source": [
        "np.sort(cartela_bingo)"
      ],
      "metadata": {
        "colab": {
          "base_uri": "https://localhost:8080/"
        },
        "id": "1UY_zh_O7Cxk",
        "outputId": "bd91bcd5-1de0-4447-ba51-b178bcc37ee4"
      },
      "execution_count": null,
      "outputs": [
        {
          "output_type": "execute_result",
          "data": {
            "text/plain": [
              "array([[ 3, 10, 15, 16],\n",
              "       [14, 17, 23, 27],\n",
              "       [ 1,  3,  6, 19],\n",
              "       [ 4, 10, 18, 19]])"
            ]
          },
          "metadata": {},
          "execution_count": 23
        }
      ]
    },
    {
      "cell_type": "markdown",
      "source": [
        "axis zero é igual eixo Y"
      ],
      "metadata": {
        "id": "qizQK2YTzL88"
      }
    },
    {
      "cell_type": "code",
      "source": [
        "np.sort(cartela_bingo, axis=0)"
      ],
      "metadata": {
        "colab": {
          "base_uri": "https://localhost:8080/"
        },
        "id": "kuUUK0a87C0B",
        "outputId": "1254b977-f7d1-47d2-b2d1-f62c081a831a"
      },
      "execution_count": null,
      "outputs": [
        {
          "output_type": "execute_result",
          "data": {
            "text/plain": [
              "array([[ 6,  4,  3,  1],\n",
              "       [10, 10,  3, 15],\n",
              "       [14, 19, 17, 19],\n",
              "       [16, 23, 18, 27]])"
            ]
          },
          "metadata": {},
          "execution_count": 25
        }
      ]
    },
    {
      "cell_type": "markdown",
      "source": [
        "axis 1 = eixo **x**"
      ],
      "metadata": {
        "id": "G0cAo6ZPzTV8"
      }
    },
    {
      "cell_type": "code",
      "source": [
        "np.sort(cartela_bingo, axis=1)"
      ],
      "metadata": {
        "id": "SmXY1QAV7C2h",
        "outputId": "5e77bf36-d8d7-4b35-d5a5-d63d6110d20c",
        "colab": {
          "base_uri": "https://localhost:8080/"
        }
      },
      "execution_count": null,
      "outputs": [
        {
          "output_type": "execute_result",
          "data": {
            "text/plain": [
              "array([[ 3, 10, 15, 16],\n",
              "       [14, 17, 23, 27],\n",
              "       [ 1,  3,  6, 19],\n",
              "       [ 4, 10, 18, 19]])"
            ]
          },
          "metadata": {},
          "execution_count": 24
        }
      ]
    },
    {
      "cell_type": "code",
      "source": [],
      "metadata": {
        "id": "-9si1OlV7C5U"
      },
      "execution_count": null,
      "outputs": []
    },
    {
      "cell_type": "markdown",
      "source": [
        "## 1.1 Explorando Ecossistemas:\n",
        "Como bióloga marinha, me encontrei em uma expedição nas profundezas do Oceano Pacífico, onde estávamos estudando a biodiversidade e a saúde dos recifes de coral. O catálogo abaixo demonstra dados das espécies encontradas, considere a seguinte ordem de colunas:\n",
        "\n",
        "**ID da espécie, quantidade de representantes encontrados, profundeza, tamanho médio da espécie**\n",
        "\n",
        "\n",
        "\n",
        "*  Selecione a segunda coluna com a quantidade de espécies encontradas e adicione em um array as qtd_especies.\n",
        "*  De qtd_especies selecione apenas as primeiras 3 quantidades e print\n",
        "*  Print as 5 últimas quantidades de espécies\n",
        "*  Crie um array que contenha apenas os tamanhos das espécies e ordene por ordem crescente\n",
        "\n",
        "\n",
        "\n",
        "\n"
      ],
      "metadata": {
        "id": "5Xr_92nOfJAa"
      }
    },
    {
      "cell_type": "code",
      "source": [
        "especies = np.array([[747,  89,  33,   5],\n",
        "                    [623, 123,  32,  13],\n",
        "                    [501,  22,  49,   2],\n",
        "                    [116, 101,  42,  10],\n",
        "                    [297,  56,  69,  22],\n",
        "                    [613,  64,  27,   7],\n",
        "                    [295,  84,  29,  14],\n",
        "                    [692, 105,  72,  16],\n",
        "                    [229, 103,  35,   5],\n",
        "                    [374, 124,  70,   1]])\n",
        "especies"
      ],
      "metadata": {
        "colab": {
          "base_uri": "https://localhost:8080/"
        },
        "id": "mKTG17i661tt",
        "outputId": "785fda78-f4bd-4876-bf1e-d480d402a99b"
      },
      "execution_count": null,
      "outputs": [
        {
          "output_type": "execute_result",
          "data": {
            "text/plain": [
              "array([[747,  89,  33,   5],\n",
              "       [623, 123,  32,  13],\n",
              "       [501,  22,  49,   2],\n",
              "       [116, 101,  42,  10],\n",
              "       [297,  56,  69,  22],\n",
              "       [613,  64,  27,   7],\n",
              "       [295,  84,  29,  14],\n",
              "       [692, 105,  72,  16],\n",
              "       [229, 103,  35,   5],\n",
              "       [374, 124,  70,   1]])"
            ]
          },
          "metadata": {},
          "execution_count": 15
        }
      ]
    },
    {
      "cell_type": "code",
      "source": [
        "qtd_especies = especies[:, 1]\n",
        "qtd_especies"
      ],
      "metadata": {
        "id": "qqVcVlFM2pQB",
        "outputId": "ea837986-c865-4cb4-993d-81aaf3d3139b",
        "colab": {
          "base_uri": "https://localhost:8080/"
        }
      },
      "execution_count": null,
      "outputs": [
        {
          "output_type": "execute_result",
          "data": {
            "text/plain": [
              "array([ 89, 123,  22, 101,  56,  64,  84, 105, 103, 124])"
            ]
          },
          "metadata": {},
          "execution_count": 27
        }
      ]
    },
    {
      "cell_type": "code",
      "source": [
        "qtd_especies[0:3]"
      ],
      "metadata": {
        "id": "RXKyecZ72wWi",
        "outputId": "0f4905e1-b789-4225-8b7b-7498cee891ca",
        "colab": {
          "base_uri": "https://localhost:8080/"
        }
      },
      "execution_count": null,
      "outputs": [
        {
          "output_type": "execute_result",
          "data": {
            "text/plain": [
              "array([ 89, 123,  22])"
            ]
          },
          "metadata": {},
          "execution_count": 28
        }
      ]
    },
    {
      "cell_type": "code",
      "source": [
        "qtd_especies[:3]"
      ],
      "metadata": {
        "id": "CIfXMp-o3GrQ",
        "outputId": "ad3f9ac3-b8f8-45de-daf2-42f3e0f64f93",
        "colab": {
          "base_uri": "https://localhost:8080/"
        }
      },
      "execution_count": null,
      "outputs": [
        {
          "output_type": "execute_result",
          "data": {
            "text/plain": [
              "array([ 89, 123,  22])"
            ]
          },
          "metadata": {},
          "execution_count": 29
        }
      ]
    },
    {
      "cell_type": "markdown",
      "source": [
        "pra saber qntas linhas da um shape"
      ],
      "metadata": {
        "id": "86WTVfHu4Iji"
      }
    },
    {
      "cell_type": "code",
      "source": [
        "qtd_especies.shape"
      ],
      "metadata": {
        "id": "qR1q64Gr4HYi",
        "outputId": "34f1bf17-4065-4c7d-9be2-6ff3c6b2dd1f",
        "colab": {
          "base_uri": "https://localhost:8080/"
        }
      },
      "execution_count": null,
      "outputs": [
        {
          "output_type": "execute_result",
          "data": {
            "text/plain": [
              "(10,)"
            ]
          },
          "metadata": {},
          "execution_count": 31
        }
      ]
    },
    {
      "cell_type": "markdown",
      "source": [
        "Abaixo eu to pegando os últimos 5 elementos do array simples, qndo eu nao sei qual o tamanho do array"
      ],
      "metadata": {
        "id": "RjdL-N4r4Xws"
      }
    },
    {
      "cell_type": "code",
      "source": [
        "qtd_especies[-5:]"
      ],
      "metadata": {
        "id": "-oltdTqx3JKq",
        "outputId": "8ce331ff-af29-46a5-a026-9a26ab6e6df0",
        "colab": {
          "base_uri": "https://localhost:8080/"
        }
      },
      "execution_count": null,
      "outputs": [
        {
          "output_type": "execute_result",
          "data": {
            "text/plain": [
              "array([ 64,  84, 105, 103, 124])"
            ]
          },
          "metadata": {},
          "execution_count": 30
        }
      ]
    },
    {
      "cell_type": "markdown",
      "source": [
        "aqui eu to excluindo o ultimo elemento ou pegando os primeiros 9"
      ],
      "metadata": {
        "id": "7QbRFwWE4g9p"
      }
    },
    {
      "cell_type": "code",
      "source": [
        "qtd_especies[:-1]"
      ],
      "metadata": {
        "id": "xVvNFZky4gUQ",
        "outputId": "b5831344-9c24-4f45-d3d7-78d5eddec5a7",
        "colab": {
          "base_uri": "https://localhost:8080/"
        }
      },
      "execution_count": null,
      "outputs": [
        {
          "output_type": "execute_result",
          "data": {
            "text/plain": [
              "array([ 89, 123,  22, 101,  56,  64,  84, 105, 103])"
            ]
          },
          "metadata": {},
          "execution_count": 32
        }
      ]
    },
    {
      "cell_type": "markdown",
      "source": [
        "ordena elementos da coluna 3 em ordem crescente"
      ],
      "metadata": {
        "id": "LNF2QWGR44Bj"
      }
    },
    {
      "cell_type": "code",
      "source": [
        "tam_especies_ordenado = np.sort(especies[:, 3])\n",
        "tam_especies_ordenado"
      ],
      "metadata": {
        "id": "NfyLpmIn44Nx",
        "outputId": "31d6abd5-ca2a-4097-c3a5-2685c6630855",
        "colab": {
          "base_uri": "https://localhost:8080/"
        }
      },
      "execution_count": null,
      "outputs": [
        {
          "output_type": "execute_result",
          "data": {
            "text/plain": [
              "array([ 1,  2,  5,  5,  7, 10, 13, 14, 16, 22])"
            ]
          },
          "metadata": {},
          "execution_count": 35
        }
      ]
    },
    {
      "cell_type": "markdown",
      "source": [
        "ordena elementos da coluna 3 em ordem decrescente\n"
      ],
      "metadata": {
        "id": "SsFgXsSf8Yq4"
      }
    },
    {
      "cell_type": "code",
      "source": [
        "tam_especies_ordenado2 = np.sort(especies[:, 3])[::-1]\n",
        "tam_especies_ordenado2"
      ],
      "metadata": {
        "id": "vs1nVc7m8jRG",
        "outputId": "dd743ed5-5f16-4a97-b673-467a4833615b",
        "colab": {
          "base_uri": "https://localhost:8080/"
        }
      },
      "execution_count": null,
      "outputs": [
        {
          "output_type": "execute_result",
          "data": {
            "text/plain": [
              "array([22, 16, 14, 13, 10,  7,  5,  5,  2,  1])"
            ]
          },
          "metadata": {},
          "execution_count": 34
        }
      ]
    },
    {
      "cell_type": "markdown",
      "source": [
        "## Filtrando Arrays"
      ],
      "metadata": {
        "id": "fN0bdngrCRlr"
      }
    },
    {
      "cell_type": "markdown",
      "source": [
        "aqui retorna o resultado da comparacao"
      ],
      "metadata": {
        "id": "UA_XUKZtjh93"
      }
    },
    {
      "cell_type": "code",
      "source": [
        "arr1 = np.array([1, 2, 3, 4, 5])\n",
        "mask = arr1 % 3 == 0\n",
        "mask"
      ],
      "metadata": {
        "colab": {
          "base_uri": "https://localhost:8080/"
        },
        "id": "u72h8zD39NaE",
        "outputId": "b9ac3203-8fb0-47fe-a8d6-13272281d72d"
      },
      "execution_count": null,
      "outputs": [
        {
          "output_type": "execute_result",
          "data": {
            "text/plain": [
              "array([False, False,  True, False, False])"
            ]
          },
          "metadata": {},
          "execution_count": 3
        }
      ]
    },
    {
      "cell_type": "markdown",
      "source": [
        "ja aqui retorna o indice do array que corresponde com true a comparacao"
      ],
      "metadata": {
        "id": "-BE8UY_Jjmio"
      }
    },
    {
      "cell_type": "code",
      "source": [
        "arr1[mask]"
      ],
      "metadata": {
        "id": "tyXgQ2KwjDNf",
        "outputId": "e1caba50-89d5-4f38-c598-7086e74c2dd7",
        "colab": {
          "base_uri": "https://localhost:8080/"
        }
      },
      "execution_count": null,
      "outputs": [
        {
          "output_type": "execute_result",
          "data": {
            "text/plain": [
              "array([3])"
            ]
          },
          "metadata": {},
          "execution_count": 4
        }
      ]
    },
    {
      "cell_type": "code",
      "source": [
        "pessoas_id_idade = np.array([[1, 22], [2, 21], [3, 27], [4, 26]])\n",
        "pessoas_id_idade"
      ],
      "metadata": {
        "colab": {
          "base_uri": "https://localhost:8080/"
        },
        "id": "TaLHOLi_CMn5",
        "outputId": "2c2f4f6d-881f-4ba5-b577-6a4e97968677"
      },
      "execution_count": null,
      "outputs": [
        {
          "output_type": "execute_result",
          "data": {
            "text/plain": [
              "array([[ 1, 22],\n",
              "       [ 2, 21],\n",
              "       [ 3, 27],\n",
              "       [ 4, 26]])"
            ]
          },
          "metadata": {},
          "execution_count": 6
        }
      ]
    },
    {
      "cell_type": "markdown",
      "source": [
        "pega tudo da linha na coluna 1 e verifique se eh maior q 25 = array de uma dimensao"
      ],
      "metadata": {
        "id": "Ka4RE037kQdw"
      }
    },
    {
      "cell_type": "code",
      "source": [
        "np.where(pessoas_id_idade[:, 1] > 25)"
      ],
      "metadata": {
        "id": "DRbdOB0Jj6rL",
        "outputId": "8e882b0d-4aac-4f5c-a7ba-2014429ea83c",
        "colab": {
          "base_uri": "https://localhost:8080/"
        }
      },
      "execution_count": null,
      "outputs": [
        {
          "output_type": "execute_result",
          "data": {
            "text/plain": [
              "(array([2, 3]),)"
            ]
          },
          "metadata": {},
          "execution_count": 9
        }
      ]
    },
    {
      "cell_type": "code",
      "source": [
        "cartela_bingo = np.array([[16, 10,  3, 15],\n",
        "       [14, 23, 17, 27],\n",
        "       [ 6, 19,  3,  1],\n",
        "       [10,  4, 18, 19]])\n",
        "cartela_bingo"
      ],
      "metadata": {
        "colab": {
          "base_uri": "https://localhost:8080/"
        },
        "id": "2TID3wQ1DHoD",
        "outputId": "e0ca7eba-a762-484a-e9b0-b37867841643"
      },
      "execution_count": null,
      "outputs": [
        {
          "output_type": "execute_result",
          "data": {
            "text/plain": [
              "array([[16, 10,  3, 15],\n",
              "       [14, 23, 17, 27],\n",
              "       [ 6, 19,  3,  1],\n",
              "       [10,  4, 18, 19]])"
            ]
          },
          "metadata": {},
          "execution_count": 11
        }
      ]
    },
    {
      "cell_type": "markdown",
      "source": [
        "array de duas dimensoes retorna true qndo contempla a condicao indicando o indice separadamente. primeiro array e de linhas e o segundo array e de colunas"
      ],
      "metadata": {
        "id": "LEpxox0ZkbKX"
      }
    },
    {
      "cell_type": "code",
      "source": [
        "np.where(cartela_bingo % 3 == 0)"
      ],
      "metadata": {
        "id": "ErFcH5B8kbXZ",
        "outputId": "ed3e05f3-922e-44d1-cb21-baa742a4a7d3",
        "colab": {
          "base_uri": "https://localhost:8080/"
        }
      },
      "execution_count": null,
      "outputs": [
        {
          "output_type": "execute_result",
          "data": {
            "text/plain": [
              "(array([0, 0, 1, 2, 2, 3]), array([2, 3, 3, 0, 2, 2]))"
            ]
          },
          "metadata": {},
          "execution_count": 12
        }
      ]
    },
    {
      "cell_type": "markdown",
      "source": [
        "buscar e substituir: qndo contemplar a condicao substitui por espaco caso contrario manter o valor original\n"
      ],
      "metadata": {
        "id": "jVv1tDnEmJff"
      }
    },
    {
      "cell_type": "code",
      "source": [
        "np.where(cartela_bingo % 3 == 0, \" \", cartela_bingo)"
      ],
      "metadata": {
        "id": "wW8R6yTImNzU",
        "outputId": "52dce0f5-5a09-4c45-b7eb-1c234647be90",
        "colab": {
          "base_uri": "https://localhost:8080/"
        }
      },
      "execution_count": null,
      "outputs": [
        {
          "output_type": "execute_result",
          "data": {
            "text/plain": [
              "array([['16', '10', ' ', ' '],\n",
              "       ['14', '23', '17', ' '],\n",
              "       [' ', '19', ' ', '1'],\n",
              "       ['10', '4', ' ', '19']], dtype='<U21')"
            ]
          },
          "metadata": {},
          "execution_count": 13
        }
      ]
    },
    {
      "cell_type": "markdown",
      "source": [
        "## 1.2 Ainda usando o Array de espécies marítimas.\n",
        "\n",
        "*   Usando um index booleano crie um array que contém os dados da maior espécie encontrada (considerando o seu tamanho), esse valor corresponde ao valor 22.\n",
        "\n",
        "*   Usando fency index faça um array que contém apenas dados da espécie com ID 297\n",
        "*   Usando np.where() faça um array com a linha com dados correspondentes a espécie com 105 representantes encontrados.\n",
        "*   Considere a profundeza em que o espécie foi encontrada substitua valores maiores que 60 com \"Profundo\"\n",
        "\n",
        "\n",
        "Tabela = ID da espécie, quantidade de representantes encontrados, profundeza, tamanho médio da espécie\n",
        "\n"
      ],
      "metadata": {
        "id": "SVvnsCn9EGkv"
      }
    },
    {
      "cell_type": "code",
      "source": [
        "especies"
      ],
      "metadata": {
        "colab": {
          "base_uri": "https://localhost:8080/"
        },
        "id": "ajhm-M6UEPpb",
        "outputId": "f0713119-f4d2-4752-9217-0e8e55aa09c0"
      },
      "execution_count": null,
      "outputs": [
        {
          "output_type": "execute_result",
          "data": {
            "text/plain": [
              "array([[747,  89,  33,   5],\n",
              "       [623, 123,  32,  13],\n",
              "       [501,  22,  49,   2],\n",
              "       [116, 101,  42,  10],\n",
              "       [297,  56,  69,  22],\n",
              "       [613,  64,  27,   7],\n",
              "       [295,  84,  29,  14],\n",
              "       [692, 105,  72,  16],\n",
              "       [229, 103,  35,   5],\n",
              "       [374, 124,  70,   1]])"
            ]
          },
          "metadata": {},
          "execution_count": 16
        }
      ]
    },
    {
      "cell_type": "markdown",
      "source": [
        "Usando um index booleano crie um array que contém os dados da maior espécie encontrada (considerando o seu tamanho), esse valor corresponde ao valor 22."
      ],
      "metadata": {
        "id": "lAVC7MDvp3SD"
      }
    },
    {
      "cell_type": "code",
      "source": [
        "especie_maior_22 = np.where(especies[:, 3] == 22, True, False)\n",
        "especie_maior_22"
      ],
      "metadata": {
        "id": "iL_6l4xtotMY",
        "outputId": "3edce52f-016a-47bb-b609-6f1e72b48a4a",
        "colab": {
          "base_uri": "https://localhost:8080/"
        }
      },
      "execution_count": null,
      "outputs": [
        {
          "output_type": "execute_result",
          "data": {
            "text/plain": [
              "array([False, False, False, False,  True, False, False, False, False,\n",
              "       False])"
            ]
          },
          "metadata": {},
          "execution_count": 17
        }
      ]
    },
    {
      "cell_type": "code",
      "source": [
        "especies[especies[:, 3] == 22]"
      ],
      "metadata": {
        "id": "9emyx26CqU5E",
        "outputId": "f6e5018e-c967-44b2-97d9-a4f792874a71",
        "colab": {
          "base_uri": "https://localhost:8080/"
        }
      },
      "execution_count": null,
      "outputs": [
        {
          "output_type": "execute_result",
          "data": {
            "text/plain": [
              "array([[297,  56,  69,  22]])"
            ]
          },
          "metadata": {},
          "execution_count": 18
        }
      ]
    },
    {
      "cell_type": "code",
      "source": [
        "mask = especies[:, 0] == 297\n",
        "especies[mask]"
      ],
      "metadata": {
        "id": "nyEXW-BIqztR",
        "outputId": "be45b26d-08b5-4a7a-e477-7348648a722d",
        "colab": {
          "base_uri": "https://localhost:8080/"
        }
      },
      "execution_count": null,
      "outputs": [
        {
          "output_type": "execute_result",
          "data": {
            "text/plain": [
              "array([[297,  56,  69,  22]])"
            ]
          },
          "metadata": {},
          "execution_count": 23
        }
      ]
    },
    {
      "cell_type": "code",
      "source": [
        "especies[np.where(especies[:, 1] == 105)]"
      ],
      "metadata": {
        "id": "z7T_KLNYrcyP",
        "outputId": "4c13db85-9d59-46c6-95a6-fd90ea371b32",
        "colab": {
          "base_uri": "https://localhost:8080/"
        }
      },
      "execution_count": null,
      "outputs": [
        {
          "output_type": "execute_result",
          "data": {
            "text/plain": [
              "array([[692, 105,  72,  16]])"
            ]
          },
          "metadata": {},
          "execution_count": 28
        }
      ]
    },
    {
      "cell_type": "code",
      "source": [
        "np.where(especies[:,2] > 60, \"Profundo\", especies[:,2])"
      ],
      "metadata": {
        "id": "C0quT6eUtmJP",
        "outputId": "c2752051-f942-4c47-8708-386f5b9238f8",
        "colab": {
          "base_uri": "https://localhost:8080/"
        }
      },
      "execution_count": null,
      "outputs": [
        {
          "output_type": "execute_result",
          "data": {
            "text/plain": [
              "array(['33', '32', '49', '42', 'Profundo', '27', '29', 'Profundo', '35',\n",
              "       'Profundo'], dtype='<U21')"
            ]
          },
          "metadata": {},
          "execution_count": 31
        }
      ]
    },
    {
      "cell_type": "markdown",
      "source": [
        "## 1.3 Ainda no conjunto 'especies'.\n",
        "\n",
        "*   Adicione mais 2 espécies ao array: [[204, 10, 40, 12], [392, 11, 81, 11]]\n",
        "*   Adicione mais uma coluna na no array original agora com o número de espécies encontradas com que indica se o animal enxerga ou não: [0, 1, 0, 0, 0, 0, 1, 0, 1, 1, 0]\n"
      ],
      "metadata": {
        "id": "SHKhhhoqqOIs"
      }
    },
    {
      "cell_type": "code",
      "source": [],
      "metadata": {
        "id": "aMhWjdKaqyjl"
      },
      "execution_count": null,
      "outputs": []
    },
    {
      "cell_type": "code",
      "source": [],
      "metadata": {
        "id": "F7VpoT1tvSun"
      },
      "execution_count": null,
      "outputs": []
    },
    {
      "cell_type": "markdown",
      "source": [
        "Concatenando arrays"
      ],
      "metadata": {
        "id": "zPtmQghIvW9e"
      }
    },
    {
      "cell_type": "code",
      "source": [
        "arr1 = np.array([1, 2, 3])\n",
        "arr2 = np.array([4, 5, 6])\n",
        "np.concatenate((arr1, arr2))"
      ],
      "metadata": {
        "id": "cwfSdCnhvTDL",
        "outputId": "6ab7d38e-09ed-4b59-b813-f8d8200eb257",
        "colab": {
          "base_uri": "https://localhost:8080/"
        }
      },
      "execution_count": 41,
      "outputs": [
        {
          "output_type": "execute_result",
          "data": {
            "text/plain": [
              "array([1, 2, 3, 4, 5, 6])"
            ]
          },
          "metadata": {},
          "execution_count": 41
        }
      ]
    },
    {
      "cell_type": "code",
      "source": [
        "arr3 = np.random.randint(10, size=(3, 3))\n",
        "arr3\n",
        "\n",
        "arr4 = np.array([[\"pera\", \"uva\", \"maca\"]])\n",
        "np.concatenate((arr3, arr4))"
      ],
      "metadata": {
        "id": "PQU_ovffvTNm",
        "outputId": "82acf0a5-be00-4dcd-d749-97b7c9c57a64",
        "colab": {
          "base_uri": "https://localhost:8080/"
        }
      },
      "execution_count": 55,
      "outputs": [
        {
          "output_type": "execute_result",
          "data": {
            "text/plain": [
              "array([['7', '6', '8'],\n",
              "       ['9', '4', '4'],\n",
              "       ['4', '2', '9'],\n",
              "       ['pera', 'uva', 'maca']], dtype='<U21')"
            ]
          },
          "metadata": {},
          "execution_count": 55
        }
      ]
    },
    {
      "cell_type": "markdown",
      "source": [
        "concatenando arrays desiquilibrados usando axis"
      ],
      "metadata": {
        "id": "CmgKMYjBwmvh"
      }
    },
    {
      "cell_type": "code",
      "source": [
        "arr5 = np.random.randint(10, size=(3, 2))\n",
        "arr5"
      ],
      "metadata": {
        "id": "6KbqhBrvvTU4",
        "outputId": "5355f545-ef6f-4ae9-f16c-d01ff7cef5d4",
        "colab": {
          "base_uri": "https://localhost:8080/"
        }
      },
      "execution_count": 50,
      "outputs": [
        {
          "output_type": "execute_result",
          "data": {
            "text/plain": [
              "array([[9, 4],\n",
              "       [8, 2],\n",
              "       [6, 0]])"
            ]
          },
          "metadata": {},
          "execution_count": 50
        }
      ]
    },
    {
      "cell_type": "code",
      "source": [
        "arr6 = np.array([\"pera\", \"uva\", \"maca\"]).reshape((3,1))\n",
        "arr6"
      ],
      "metadata": {
        "id": "uj5h8QxvxfKS",
        "outputId": "c7d31d3d-ffb8-4af1-8bcb-023bc6cd0650",
        "colab": {
          "base_uri": "https://localhost:8080/"
        }
      },
      "execution_count": 63,
      "outputs": [
        {
          "output_type": "execute_result",
          "data": {
            "text/plain": [
              "array([['pera'],\n",
              "       ['uva'],\n",
              "       ['maca']], dtype='<U4')"
            ]
          },
          "metadata": {},
          "execution_count": 63
        }
      ]
    },
    {
      "cell_type": "markdown",
      "source": [
        "concatenate se importa com dimensao, tem que ser amesma dimensao entre os arrays concatenados"
      ],
      "metadata": {
        "id": "Gfy5Vzox19jV"
      }
    },
    {
      "cell_type": "code",
      "source": [
        "np.concatenate((arr5, arr6), axis=1)"
      ],
      "metadata": {
        "id": "L9y9fsTuxq6E",
        "outputId": "34b1cf01-9d7a-426a-815d-83e0e373e347",
        "colab": {
          "base_uri": "https://localhost:8080/"
        }
      },
      "execution_count": 65,
      "outputs": [
        {
          "output_type": "execute_result",
          "data": {
            "text/plain": [
              "array([['9', '4', 'pera'],\n",
              "       ['8', '2', 'uva'],\n",
              "       ['6', '0', 'maca']], dtype='<U21')"
            ]
          },
          "metadata": {},
          "execution_count": 65
        }
      ]
    },
    {
      "cell_type": "code",
      "source": [
        "sala_espera = np.array([[5,30, 56, \"Alice\"],\n",
        "                        [6,46, 67, \"Fernando\"],\n",
        "                        [7,12, 34, \"Clarissa\"],\n",
        "                        [8,11, 90, \"Sheldon\"]])\n",
        "sala_espera"
      ],
      "metadata": {
        "id": "MUv0Qu5i2Hle",
        "outputId": "5ed62976-ccc7-4a6f-d4a7-a170ac4c8143",
        "colab": {
          "base_uri": "https://localhost:8080/"
        }
      },
      "execution_count": 69,
      "outputs": [
        {
          "output_type": "execute_result",
          "data": {
            "text/plain": [
              "array([['5', '30', '56', 'Alice'],\n",
              "       ['6', '46', '67', 'Fernando'],\n",
              "       ['7', '12', '34', 'Clarissa'],\n",
              "       ['8', '11', '90', 'Sheldon']], dtype='<U21')"
            ]
          },
          "metadata": {},
          "execution_count": 69
        }
      ]
    },
    {
      "cell_type": "markdown",
      "source": [
        "exclui coluna 1"
      ],
      "metadata": {
        "id": "DouI2zNV6F4N"
      }
    },
    {
      "cell_type": "code",
      "source": [
        "np.delete(sala_espera, 1, axis=1)"
      ],
      "metadata": {
        "id": "NGUU-9yY59YS",
        "outputId": "221280bf-3d12-47f5-87f7-cab78bb50b68",
        "colab": {
          "base_uri": "https://localhost:8080/"
        }
      },
      "execution_count": 70,
      "outputs": [
        {
          "output_type": "execute_result",
          "data": {
            "text/plain": [
              "array([['5', '56', 'Alice'],\n",
              "       ['6', '67', 'Fernando'],\n",
              "       ['7', '34', 'Clarissa'],\n",
              "       ['8', '90', 'Sheldon']], dtype='<U21')"
            ]
          },
          "metadata": {},
          "execution_count": 70
        }
      ]
    },
    {
      "cell_type": "markdown",
      "source": [
        "exclui linha 3"
      ],
      "metadata": {
        "id": "2_HbBfnY6Jz4"
      }
    },
    {
      "cell_type": "code",
      "source": [
        "np.delete(sala_espera, 2, axis=0)"
      ],
      "metadata": {
        "id": "Q02hHqcQ59j_",
        "outputId": "44ab205d-5b79-414f-b10d-5256105fc884",
        "colab": {
          "base_uri": "https://localhost:8080/"
        }
      },
      "execution_count": 71,
      "outputs": [
        {
          "output_type": "execute_result",
          "data": {
            "text/plain": [
              "array([['5', '30', '56', 'Alice'],\n",
              "       ['6', '46', '67', 'Fernando'],\n",
              "       ['8', '11', '90', 'Sheldon']], dtype='<U21')"
            ]
          },
          "metadata": {},
          "execution_count": 71
        }
      ]
    },
    {
      "cell_type": "markdown",
      "source": [
        "exclui sem axis"
      ],
      "metadata": {
        "id": "PPeNX9bN6p-o"
      }
    },
    {
      "cell_type": "code",
      "source": [
        "np.delete(sala_espera, 2)"
      ],
      "metadata": {
        "id": "FxYCqnNT6qTN",
        "outputId": "e38f05ab-8df6-4e94-f385-94c5a4e31af5",
        "colab": {
          "base_uri": "https://localhost:8080/"
        }
      },
      "execution_count": 72,
      "outputs": [
        {
          "output_type": "execute_result",
          "data": {
            "text/plain": [
              "array(['5', '30', 'Alice', '6', '46', '67', 'Fernando', '7', '12', '34',\n",
              "       'Clarissa', '8', '11', '90', 'Sheldon'], dtype='<U21')"
            ]
          },
          "metadata": {},
          "execution_count": 72
        }
      ]
    }
  ]
}