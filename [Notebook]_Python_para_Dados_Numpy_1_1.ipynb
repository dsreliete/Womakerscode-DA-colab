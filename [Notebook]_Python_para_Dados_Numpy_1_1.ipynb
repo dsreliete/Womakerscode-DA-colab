{
  "nbformat": 4,
  "nbformat_minor": 0,
  "metadata": {
    "colab": {
      "provenance": [],
      "include_colab_link": true
    },
    "kernelspec": {
      "name": "python3",
      "display_name": "Python 3"
    },
    "language_info": {
      "name": "python"
    }
  },
  "cells": [
    {
      "cell_type": "markdown",
      "metadata": {
        "id": "view-in-github",
        "colab_type": "text"
      },
      "source": [
        "<a href=\"https://colab.research.google.com/github/dsreliete/Womakerscode-DA-colab/blob/main/%5BNotebook%5D_Python_para_Dados_Numpy_1_1.ipynb\" target=\"_parent\"><img src=\"https://colab.research.google.com/assets/colab-badge.svg\" alt=\"Open In Colab\"/></a>"
      ]
    },
    {
      "cell_type": "code",
      "execution_count": null,
      "metadata": {
        "id": "s-4cD4a2NazV"
      },
      "outputs": [],
      "source": [
        "import numpy as np"
      ]
    },
    {
      "cell_type": "markdown",
      "source": [
        "## Rascunho - Introdução ao Numpy"
      ],
      "metadata": {
        "id": "ImIu6U1tapvP"
      }
    },
    {
      "cell_type": "code",
      "source": [
        "l = [4, 8, 2, 12, 5, 8, 0]"
      ],
      "metadata": {
        "id": "Vqe9MVcRNeZR"
      },
      "execution_count": null,
      "outputs": []
    },
    {
      "cell_type": "code",
      "source": [
        "arr = np.array(l)\n",
        "arr"
      ],
      "metadata": {
        "colab": {
          "base_uri": "https://localhost:8080/"
        },
        "id": "wAaR4l8iPeB9",
        "outputId": "74bbe205-fbc2-4edd-cf0d-187f10b677da"
      },
      "execution_count": null,
      "outputs": [
        {
          "output_type": "execute_result",
          "data": {
            "text/plain": [
              "array([ 4,  8,  2, 12,  5,  8,  0])"
            ]
          },
          "metadata": {},
          "execution_count": 4
        }
      ]
    },
    {
      "cell_type": "markdown",
      "source": [],
      "metadata": {
        "id": "VRiILYp9ZuF_"
      }
    },
    {
      "cell_type": "code",
      "source": [
        "type(arr)"
      ],
      "metadata": {
        "colab": {
          "base_uri": "https://localhost:8080/"
        },
        "id": "DRsgDeOvPj2M",
        "outputId": "c52d1f61-0e07-4c6f-9716-e652af79c231"
      },
      "execution_count": null,
      "outputs": [
        {
          "output_type": "execute_result",
          "data": {
            "text/plain": [
              "numpy.ndarray"
            ]
          },
          "metadata": {},
          "execution_count": 5
        }
      ]
    },
    {
      "cell_type": "code",
      "source": [
        "l2 = [[1, 2, 3],\n",
        "      [4, 5, 6]]\n",
        "\n",
        "np.array(l2)"
      ],
      "metadata": {
        "colab": {
          "base_uri": "https://localhost:8080/"
        },
        "id": "J0QdGt9fPlKi",
        "outputId": "ed2d23d2-7f2a-4529-8a8f-416f03b9a2bc"
      },
      "execution_count": null,
      "outputs": [
        {
          "output_type": "execute_result",
          "data": {
            "text/plain": [
              "array([[1, 2, 3],\n",
              "       [4, 5, 6]])"
            ]
          },
          "metadata": {},
          "execution_count": 6
        }
      ]
    },
    {
      "cell_type": "code",
      "source": [
        "np.zeros((3,2))"
      ],
      "metadata": {
        "id": "UXc41fNPUPHk",
        "colab": {
          "base_uri": "https://localhost:8080/"
        },
        "outputId": "2d31b931-cf0d-4e16-9c7f-3529d2436813"
      },
      "execution_count": null,
      "outputs": [
        {
          "output_type": "execute_result",
          "data": {
            "text/plain": [
              "array([[0.89845423, 0.0617774 , 0.17712761, 0.85192437, 0.38945156],\n",
              "       [0.32319799, 0.79268144, 0.2902254 , 0.93184662, 0.69105365],\n",
              "       [0.95386688, 0.93659226, 0.91128561, 0.93502448, 0.22686805],\n",
              "       [0.80195465, 0.73875389, 0.85895574, 0.86225009, 0.44277466]])"
            ]
          },
          "metadata": {},
          "execution_count": 7
        }
      ]
    },
    {
      "cell_type": "code",
      "source": [
        "list(range(0,11))"
      ],
      "metadata": {
        "id": "VZ6IGD_ACLgK",
        "outputId": "a534f1ac-c576-4bfd-a45f-a50cb6449502",
        "colab": {
          "base_uri": "https://localhost:8080/"
        }
      },
      "execution_count": null,
      "outputs": [
        {
          "output_type": "execute_result",
          "data": {
            "text/plain": [
              "[0, 1, 2, 3, 4, 5, 6, 7, 8, 9, 10]"
            ]
          },
          "metadata": {},
          "execution_count": 8
        }
      ]
    },
    {
      "cell_type": "code",
      "source": [
        "np.arange(0,11)"
      ],
      "metadata": {
        "id": "ODLkLvsfCQS7",
        "outputId": "42526761-53cd-4475-fd7f-85f7a8864f4b",
        "colab": {
          "base_uri": "https://localhost:8080/"
        }
      },
      "execution_count": null,
      "outputs": [
        {
          "output_type": "execute_result",
          "data": {
            "text/plain": [
              "array([ 0,  1,  2,  3,  4,  5,  6,  7,  8,  9, 10])"
            ]
          },
          "metadata": {},
          "execution_count": 9
        }
      ]
    },
    {
      "cell_type": "code",
      "source": [
        "np.random.random((4,5))"
      ],
      "metadata": {
        "id": "MjHWnO8_CQtA",
        "outputId": "8fa4a657-b9fd-4b06-d3d4-52eee34fe1b7",
        "colab": {
          "base_uri": "https://localhost:8080/"
        }
      },
      "execution_count": null,
      "outputs": [
        {
          "output_type": "execute_result",
          "data": {
            "text/plain": [
              "array([[0.65215888, 0.17316359, 0.65656496, 0.68916979, 0.03766673],\n",
              "       [0.88044404, 0.70082418, 0.06116702, 0.55088439, 0.86486416],\n",
              "       [0.69950699, 0.22776766, 0.54028126, 0.86323892, 0.68580629],\n",
              "       [0.96750449, 0.59051039, 0.1839016 , 0.81497267, 0.39571264]])"
            ]
          },
          "metadata": {},
          "execution_count": 15
        }
      ]
    },
    {
      "cell_type": "markdown",
      "source": [
        "O comando a seguir gerará um erro devido a criação de um array de tipos heterogeneos."
      ],
      "metadata": {
        "id": "gnR-3-V4Lukr"
      }
    },
    {
      "cell_type": "code",
      "source": [
        "l3 = [1, \"ss\", []]\n",
        "a = np.array(l3)"
      ],
      "metadata": {
        "id": "Zkq_q0cNP57z",
        "colab": {
          "base_uri": "https://localhost:8080/",
          "height": 162
        },
        "outputId": "6aaf0549-258c-4c09-b75c-7e1a5e40aa9e"
      },
      "execution_count": null,
      "outputs": [
        {
          "output_type": "error",
          "ename": "ValueError",
          "evalue": "setting an array element with a sequence. The requested array has an inhomogeneous shape after 1 dimensions. The detected shape was (3,) + inhomogeneous part.",
          "traceback": [
            "\u001b[0;31m---------------------------------------------------------------------------\u001b[0m",
            "\u001b[0;31mValueError\u001b[0m                                Traceback (most recent call last)",
            "\u001b[0;32m<ipython-input-14-84f5fad3fe04>\u001b[0m in \u001b[0;36m<cell line: 2>\u001b[0;34m()\u001b[0m\n\u001b[1;32m      1\u001b[0m \u001b[0ml3\u001b[0m \u001b[0;34m=\u001b[0m \u001b[0;34m[\u001b[0m\u001b[0;36m1\u001b[0m\u001b[0;34m,\u001b[0m \u001b[0;34m\"ss\"\u001b[0m\u001b[0;34m,\u001b[0m \u001b[0;34m[\u001b[0m\u001b[0;34m]\u001b[0m\u001b[0;34m]\u001b[0m\u001b[0;34m\u001b[0m\u001b[0;34m\u001b[0m\u001b[0m\n\u001b[0;32m----> 2\u001b[0;31m \u001b[0ma\u001b[0m \u001b[0;34m=\u001b[0m \u001b[0mnp\u001b[0m\u001b[0;34m.\u001b[0m\u001b[0marray\u001b[0m\u001b[0;34m(\u001b[0m\u001b[0ml3\u001b[0m\u001b[0;34m)\u001b[0m\u001b[0;34m\u001b[0m\u001b[0;34m\u001b[0m\u001b[0m\n\u001b[0m",
            "\u001b[0;31mValueError\u001b[0m: setting an array element with a sequence. The requested array has an inhomogeneous shape after 1 dimensions. The detected shape was (3,) + inhomogeneous part."
          ]
        }
      ]
    },
    {
      "cell_type": "code",
      "source": [
        "np.zeros((5, 3))"
      ],
      "metadata": {
        "colab": {
          "base_uri": "https://localhost:8080/"
        },
        "id": "o8Z1Z8idR7fj",
        "outputId": "ed8cc855-6e74-4832-d8b7-503ab1d9e300"
      },
      "execution_count": null,
      "outputs": [
        {
          "output_type": "execute_result",
          "data": {
            "text/plain": [
              "array([[0., 0., 0.],\n",
              "       [0., 0., 0.],\n",
              "       [0., 0., 0.],\n",
              "       [0., 0., 0.],\n",
              "       [0., 0., 0.]])"
            ]
          },
          "metadata": {},
          "execution_count": 24
        }
      ]
    },
    {
      "cell_type": "code",
      "source": [
        "np.random.random((2,3))"
      ],
      "metadata": {
        "colab": {
          "base_uri": "https://localhost:8080/"
        },
        "id": "1OWHhsD_R9Wu",
        "outputId": "299968a6-899b-44a9-b0eb-433b71387cc0"
      },
      "execution_count": null,
      "outputs": [
        {
          "output_type": "execute_result",
          "data": {
            "text/plain": [
              "array([[0.49660467, 0.90856223, 0.98060923],\n",
              "       [0.37985747, 0.54638404, 0.96651081]])"
            ]
          },
          "metadata": {},
          "execution_count": 3
        }
      ]
    },
    {
      "cell_type": "markdown",
      "source": [
        "O primeiro np.random corresponde ao módulo random de numpy \\o/ conforme erro abaixo"
      ],
      "metadata": {
        "id": "4U5WvyGSFh_i"
      }
    },
    {
      "cell_type": "code",
      "source": [
        "np.random"
      ],
      "metadata": {
        "colab": {
          "base_uri": "https://localhost:8080/"
        },
        "id": "vQdnroSJS8L-",
        "outputId": "12682f94-2e4e-4d66-9dfc-626c8f008575"
      },
      "execution_count": null,
      "outputs": [
        {
          "output_type": "execute_result",
          "data": {
            "text/plain": [
              "<module 'numpy.random' from '/usr/local/lib/python3.10/dist-packages/numpy/random/__init__.py'>"
            ]
          },
          "metadata": {},
          "execution_count": 2
        }
      ]
    },
    {
      "cell_type": "code",
      "source": [
        "np.arange(-2, 5, 2)"
      ],
      "metadata": {
        "colab": {
          "base_uri": "https://localhost:8080/"
        },
        "id": "tvSvwbt2WDoW",
        "outputId": "68e2e8a4-587a-4fc6-d442-3ab168f73769"
      },
      "execution_count": null,
      "outputs": [
        {
          "output_type": "execute_result",
          "data": {
            "text/plain": [
              "array([-2,  0,  2,  4])"
            ]
          },
          "metadata": {},
          "execution_count": 7
        }
      ]
    },
    {
      "cell_type": "code",
      "source": [
        "list(range(-2, 5, 2))"
      ],
      "metadata": {
        "colab": {
          "base_uri": "https://localhost:8080/"
        },
        "id": "Q5ugFgTxWHuN",
        "outputId": "f4b010f7-8c58-4717-91e8-6a07bb13fcc0"
      },
      "execution_count": null,
      "outputs": [
        {
          "output_type": "execute_result",
          "data": {
            "text/plain": [
              "[-2, 0, 2, 4]"
            ]
          },
          "metadata": {},
          "execution_count": 30
        }
      ]
    },
    {
      "cell_type": "code",
      "source": [
        "from matplotlib import pyplot as plt"
      ],
      "metadata": {
        "id": "sHo2Y7dGWKgG"
      },
      "execution_count": null,
      "outputs": []
    },
    {
      "cell_type": "code",
      "source": [
        "plt.scatter(np.arange(0,12),\n",
        "            np.arange(-3,9))\n",
        "plt.show()"
      ],
      "metadata": {
        "colab": {
          "base_uri": "https://localhost:8080/",
          "height": 430
        },
        "id": "jGGAaAAyWeDr",
        "outputId": "b88cc448-8e6b-4f51-d1d2-a965932111da"
      },
      "execution_count": null,
      "outputs": [
        {
          "output_type": "display_data",
          "data": {
            "text/plain": [
              "<Figure size 640x480 with 1 Axes>"
            ],
            "image/png": "[encoded data removed]"
          },
          "metadata": {}
        }
      ]
    },
    {
      "cell_type": "code",
      "source": [],
      "metadata": {
        "id": "xJ1LV8DNWmQN"
      },
      "execution_count": null,
      "outputs": []
    },
    {
      "cell_type": "markdown",
      "source": [
        "## 1. Crie um array com 4 linhas e 3 colunas com valores aleatórios"
      ],
      "metadata": {
        "id": "8KGd6hxvXHbw"
      }
    },
    {
      "cell_type": "code",
      "source": [
        "np.random.random((4,3))"
      ],
      "metadata": {
        "id": "amvVfwQI24JW",
        "colab": {
          "base_uri": "https://localhost:8080/"
        },
        "outputId": "ade4405c-5619-4835-d217-6bfe31265f02"
      },
      "execution_count": null,
      "outputs": [
        {
          "output_type": "execute_result",
          "data": {
            "text/plain": [
              "array([[0.88414983, 0.35205554, 0.42736688],\n",
              "       [0.30288573, 0.87478404, 0.23463422],\n",
              "       [0.40825518, 0.54815357, 0.80109971],\n",
              "       [0.84750241, 0.50034391, 0.94361699]])"
            ]
          },
          "metadata": {},
          "execution_count": 4
        }
      ]
    },
    {
      "cell_type": "markdown",
      "source": [
        "## 2. Crie um array com valores inteiros 3 linhas e 5 colunas com valores aleatórios"
      ],
      "metadata": {
        "id": "XjvUczhmXZi-"
      }
    },
    {
      "cell_type": "code",
      "source": [
        "np.random.randint(0,10, (3,5))"
      ],
      "metadata": {
        "id": "y0pkI-C824nO",
        "colab": {
          "base_uri": "https://localhost:8080/"
        },
        "outputId": "2393a6d0-d9ce-4895-98d1-89869870fbf9"
      },
      "execution_count": null,
      "outputs": [
        {
          "output_type": "execute_result",
          "data": {
            "text/plain": [
              "array([[4, 0, 6, 3, 0],\n",
              "       [8, 8, 0, 7, 7],\n",
              "       [2, 6, 9, 4, 6]])"
            ]
          },
          "metadata": {},
          "execution_count": 5
        }
      ]
    },
    {
      "cell_type": "markdown",
      "source": [
        "## 3. Crie um array com 5 colunas e 10 linhas inicializados com zeros."
      ],
      "metadata": {
        "id": "6nnXiIr2ZyLZ"
      }
    },
    {
      "cell_type": "code",
      "source": [
        "np.zeros((5,10))"
      ],
      "metadata": {
        "id": "0tWf-9PK25DQ",
        "colab": {
          "base_uri": "https://localhost:8080/"
        },
        "outputId": "9f487459-7697-4793-fed9-38b903e56e43"
      },
      "execution_count": null,
      "outputs": [
        {
          "output_type": "execute_result",
          "data": {
            "text/plain": [
              "array([[0., 0., 0., 0., 0., 0., 0., 0., 0., 0.],\n",
              "       [0., 0., 0., 0., 0., 0., 0., 0., 0., 0.],\n",
              "       [0., 0., 0., 0., 0., 0., 0., 0., 0., 0.],\n",
              "       [0., 0., 0., 0., 0., 0., 0., 0., 0., 0.],\n",
              "       [0., 0., 0., 0., 0., 0., 0., 0., 0., 0.]])"
            ]
          },
          "metadata": {},
          "execution_count": 6
        }
      ]
    },
    {
      "cell_type": "markdown",
      "source": [
        "## 4. Crie um array que vá entre 0 e 90 pulando de 4 em 4"
      ],
      "metadata": {
        "id": "mojhFJbIa3YL"
      }
    },
    {
      "cell_type": "code",
      "source": [
        "np.arange(0, 91, 4)"
      ],
      "metadata": {
        "id": "BcdjcvUC25qk",
        "colab": {
          "base_uri": "https://localhost:8080/"
        },
        "outputId": "96d4cefe-afcd-4552-f6f8-fb73fc051db1"
      },
      "execution_count": null,
      "outputs": [
        {
          "output_type": "execute_result",
          "data": {
            "text/plain": [
              "array([ 0,  4,  8, 12, 16, 20, 24, 28, 32, 36, 40, 44, 48, 52, 56, 60, 64,\n",
              "       68, 72, 76, 80, 84, 88])"
            ]
          },
          "metadata": {},
          "execution_count": 8
        }
      ]
    },
    {
      "cell_type": "markdown",
      "source": [
        "\n",
        "\n",
        "---\n",
        "## Rascunhos - Array com 3 dimensões\n"
      ],
      "metadata": {
        "id": "3P8kKI8fagz-"
      }
    },
    {
      "cell_type": "code",
      "source": [
        "arr1_2d = np.array([[1, 2], [3, 4]])\n",
        "arr2_2d = np.array([[5, 6], [7, 8]])\n",
        "arr3_2d = np.array([[9, 2], [3, 4]])\n",
        "\n",
        "arr_3d = np.array([arr1_2d, arr2_2d, arr3_2d])\n"
      ],
      "metadata": {
        "id": "HHOMuU8WYljG"
      },
      "execution_count": null,
      "outputs": []
    },
    {
      "cell_type": "code",
      "source": [
        "arr_3d"
      ],
      "metadata": {
        "id": "3TLvkm6JXAuI",
        "outputId": "14bbc31e-c662-4336-e946-51cc656e7a1c",
        "colab": {
          "base_uri": "https://localhost:8080/"
        }
      },
      "execution_count": null,
      "outputs": [
        {
          "output_type": "execute_result",
          "data": {
            "text/plain": [
              "array([[[1, 2],\n",
              "        [3, 4]],\n",
              "\n",
              "       [[5, 6],\n",
              "        [7, 8]],\n",
              "\n",
              "       [[9, 2],\n",
              "        [3, 4]]])"
            ]
          },
          "metadata": {},
          "execution_count": 41
        }
      ]
    },
    {
      "cell_type": "code",
      "source": [
        "arr1_2d"
      ],
      "metadata": {
        "id": "MyTbqvS1Qx1w",
        "outputId": "4e9962f6-b3bf-41c2-9516-90622cf1be1a",
        "colab": {
          "base_uri": "https://localhost:8080/"
        }
      },
      "execution_count": null,
      "outputs": [
        {
          "output_type": "execute_result",
          "data": {
            "text/plain": [
              "array([[1, 2],\n",
              "       [3, 4]])"
            ]
          },
          "metadata": {},
          "execution_count": 21
        }
      ]
    },
    {
      "cell_type": "code",
      "source": [
        "arr1_2d.shape"
      ],
      "metadata": {
        "id": "6LtMOzsZXJCO",
        "outputId": "3803a78f-1421-44a2-e200-8fcfff902415",
        "colab": {
          "base_uri": "https://localhost:8080/"
        }
      },
      "execution_count": null,
      "outputs": [
        {
          "output_type": "execute_result",
          "data": {
            "text/plain": [
              "(2, 2)"
            ]
          },
          "metadata": {},
          "execution_count": 42
        }
      ]
    },
    {
      "cell_type": "code",
      "source": [
        "arr_3d.shape"
      ],
      "metadata": {
        "id": "gpcI-90XU0p0",
        "outputId": "9ca3fb03-afff-4122-df2b-d166d0dd99de",
        "colab": {
          "base_uri": "https://localhost:8080/"
        }
      },
      "execution_count": null,
      "outputs": [
        {
          "output_type": "execute_result",
          "data": {
            "text/plain": [
              "(3, 2, 2)"
            ]
          },
          "metadata": {},
          "execution_count": 35
        }
      ]
    },
    {
      "cell_type": "code",
      "source": [
        "arr_3d.reshape((4,3))"
      ],
      "metadata": {
        "id": "O8xQl6B9Q4BJ",
        "outputId": "26f19096-abae-48bd-b98e-b49fc7c08001",
        "colab": {
          "base_uri": "https://localhost:8080/"
        }
      },
      "execution_count": null,
      "outputs": [
        {
          "output_type": "execute_result",
          "data": {
            "text/plain": [
              "array([[[1, 2],\n",
              "        [3, 4]],\n",
              "\n",
              "       [[5, 6],\n",
              "        [7, 8]],\n",
              "\n",
              "       [[9, 2],\n",
              "        [3, 4]]])"
            ]
          },
          "metadata": {},
          "execution_count": 24
        }
      ]
    },
    {
      "cell_type": "code",
      "source": [
        "np.array_4d = np.array([arr_3d, arr_3d])"
      ],
      "metadata": {
        "id": "bey6N72_RCBZ"
      },
      "execution_count": null,
      "outputs": []
    },
    {
      "cell_type": "markdown",
      "source": [
        "Um array de 4 dimensoes compreende: comprimento, linha e coluna."
      ],
      "metadata": {
        "id": "g2g5_I0GS016"
      }
    },
    {
      "cell_type": "code",
      "source": [
        "np.array_4d"
      ],
      "metadata": {
        "id": "-E01eP9jRMji",
        "outputId": "133a1174-b2f4-4773-fbff-15f69ba77698",
        "colab": {
          "base_uri": "https://localhost:8080/"
        }
      },
      "execution_count": null,
      "outputs": [
        {
          "output_type": "execute_result",
          "data": {
            "text/plain": [
              "array([[[[1, 2],\n",
              "         [3, 4]],\n",
              "\n",
              "        [[5, 6],\n",
              "         [7, 8]],\n",
              "\n",
              "        [[9, 2],\n",
              "         [3, 4]]],\n",
              "\n",
              "\n",
              "       [[[1, 2],\n",
              "         [3, 4]],\n",
              "\n",
              "        [[5, 6],\n",
              "         [7, 8]],\n",
              "\n",
              "        [[9, 2],\n",
              "         [3, 4]]]])"
            ]
          },
          "metadata": {},
          "execution_count": 27
        }
      ]
    },
    {
      "cell_type": "markdown",
      "source": [
        "No exemplo abaixo eu tenho 3 quadrados onde cada um tem 2 colunas e 4 linhas de zeros.\n",
        "\n",
        "> Add blockquote\n",
        "\n"
      ],
      "metadata": {
        "id": "bcDV2jLqTWc_"
      }
    },
    {
      "cell_type": "code",
      "source": [
        "arr = np.zeros((3,4,2))"
      ],
      "metadata": {
        "id": "H_jAGXlmTHFY"
      },
      "execution_count": null,
      "outputs": []
    },
    {
      "cell_type": "code",
      "source": [
        "arr.shape"
      ],
      "metadata": {
        "id": "cEBD_EE9TwCZ",
        "outputId": "f8f94a92-b97c-4459-ea36-3c06ee220809",
        "colab": {
          "base_uri": "https://localhost:8080/"
        }
      },
      "execution_count": null,
      "outputs": [
        {
          "output_type": "execute_result",
          "data": {
            "text/plain": [
              "(3, 4, 2)"
            ]
          },
          "metadata": {},
          "execution_count": 32
        }
      ]
    },
    {
      "cell_type": "code",
      "source": [
        "arr.flatten()"
      ],
      "metadata": {
        "id": "xPEHHx5ST5o2",
        "outputId": "fdc87248-5afa-4430-923c-97049b336cfc",
        "colab": {
          "base_uri": "https://localhost:8080/"
        }
      },
      "execution_count": null,
      "outputs": [
        {
          "output_type": "execute_result",
          "data": {
            "text/plain": [
              "array([0., 0., 0., 0., 0., 0., 0., 0., 0., 0., 0., 0., 0., 0., 0., 0., 0.,\n",
              "       0., 0., 0., 0., 0., 0., 0.])"
            ]
          },
          "metadata": {},
          "execution_count": 34
        }
      ]
    },
    {
      "cell_type": "code",
      "source": [
        "arr_3d.shape"
      ],
      "metadata": {
        "id": "n-DKnLruVMgT",
        "outputId": "41b79220-b799-42d7-abf6-8c62c6f334e6",
        "colab": {
          "base_uri": "https://localhost:8080/"
        }
      },
      "execution_count": null,
      "outputs": [
        {
          "output_type": "execute_result",
          "data": {
            "text/plain": [
              "(3, 2, 2)"
            ]
          },
          "metadata": {},
          "execution_count": 36
        }
      ]
    },
    {
      "cell_type": "code",
      "source": [
        "arr_3d.reshape(4,3)"
      ],
      "metadata": {
        "id": "Z2TpcW6aUh6n",
        "outputId": "b8e6ba27-6f03-4e06-c1c1-5be28884f36f",
        "colab": {
          "base_uri": "https://localhost:8080/"
        }
      },
      "execution_count": null,
      "outputs": [
        {
          "output_type": "execute_result",
          "data": {
            "text/plain": [
              "array([[1, 2, 3],\n",
              "       [4, 5, 6],\n",
              "       [7, 8, 9],\n",
              "       [2, 3, 4]])"
            ]
          },
          "metadata": {},
          "execution_count": 37
        }
      ]
    },
    {
      "cell_type": "markdown",
      "source": [
        "O exemplo a seguir dará erro pq eu nao posso fazer reshape de um array com 12 elementos num array de 10, sobraria 2 elementos."
      ],
      "metadata": {
        "id": "JsxdNH3dWFjW"
      }
    },
    {
      "cell_type": "code",
      "source": [
        "arr_3d.reshape(5,2)"
      ],
      "metadata": {
        "id": "lk228-ydWA7Z",
        "outputId": "1def0650-c85c-4409-e298-16ccc76cfffe",
        "colab": {
          "base_uri": "https://localhost:8080/",
          "height": 144
        }
      },
      "execution_count": null,
      "outputs": [
        {
          "output_type": "error",
          "ename": "ValueError",
          "evalue": "cannot reshape array of size 12 into shape (5,2)",
          "traceback": [
            "\u001b[0;31m---------------------------------------------------------------------------\u001b[0m",
            "\u001b[0;31mValueError\u001b[0m                                Traceback (most recent call last)",
            "\u001b[0;32m<ipython-input-40-77b5dc40131c>\u001b[0m in \u001b[0;36m<cell line: 1>\u001b[0;34m()\u001b[0m\n\u001b[0;32m----> 1\u001b[0;31m \u001b[0marr_3d\u001b[0m\u001b[0;34m.\u001b[0m\u001b[0mreshape\u001b[0m\u001b[0;34m(\u001b[0m\u001b[0;36m5\u001b[0m\u001b[0;34m,\u001b[0m\u001b[0;36m2\u001b[0m\u001b[0;34m)\u001b[0m\u001b[0;34m\u001b[0m\u001b[0;34m\u001b[0m\u001b[0m\n\u001b[0m",
            "\u001b[0;31mValueError\u001b[0m: cannot reshape array of size 12 into shape (5,2)"
          ]
        }
      ]
    },
    {
      "cell_type": "code",
      "source": [
        "arr_3d.reshape(4,3).shape"
      ],
      "metadata": {
        "id": "dp0X_ehGVctd",
        "outputId": "81bf92b0-c40f-437d-82e0-dcb37834c820",
        "colab": {
          "base_uri": "https://localhost:8080/"
        }
      },
      "execution_count": null,
      "outputs": [
        {
          "output_type": "execute_result",
          "data": {
            "text/plain": [
              "(4, 3)"
            ]
          },
          "metadata": {},
          "execution_count": 38
        }
      ]
    },
    {
      "cell_type": "code",
      "source": [
        "arr_4d = np.random.random((2, 2, 3, 2))\n",
        "arr_4d"
      ],
      "metadata": {
        "colab": {
          "base_uri": "https://localhost:8080/"
        },
        "id": "YzpkKUOebm5t",
        "outputId": "405eb5f2-f1be-4de8-8d9d-ed39035c4005"
      },
      "execution_count": null,
      "outputs": [
        {
          "output_type": "execute_result",
          "data": {
            "text/plain": [
              "array([[[[0.62995422, 0.55800255],\n",
              "         [0.49002818, 0.36476628],\n",
              "         [0.67288686, 0.07012153]],\n",
              "\n",
              "        [[0.3381457 , 0.78013524],\n",
              "         [0.44548147, 0.27603403],\n",
              "         [0.87072337, 0.69470081]]],\n",
              "\n",
              "\n",
              "       [[[0.60312691, 0.653242  ],\n",
              "         [0.15386338, 0.11058762],\n",
              "         [0.06132644, 0.74089625]],\n",
              "\n",
              "        [[0.75651423, 0.97452799],\n",
              "         [0.42627193, 0.3520837 ],\n",
              "         [0.06453025, 0.6099302 ]]]])"
            ]
          },
          "metadata": {},
          "execution_count": 19
        }
      ]
    },
    {
      "cell_type": "code",
      "source": [],
      "metadata": {
        "id": "fF4m06ZKQwyE"
      },
      "execution_count": null,
      "outputs": []
    },
    {
      "cell_type": "code",
      "source": [
        "np.array([arr_3d, arr_3d])"
      ],
      "metadata": {
        "colab": {
          "base_uri": "https://localhost:8080/"
        },
        "id": "QA5bPlE5bnXu",
        "outputId": "e206a92d-8bdb-4930-8994-db0b21680747"
      },
      "execution_count": null,
      "outputs": [
        {
          "output_type": "execute_result",
          "data": {
            "text/plain": [
              "array([[[[1, 2],\n",
              "         [3, 4]],\n",
              "\n",
              "        [[1, 2],\n",
              "         [3, 4]],\n",
              "\n",
              "        [[9, 2],\n",
              "         [3, 4]]],\n",
              "\n",
              "\n",
              "       [[[1, 2],\n",
              "         [3, 4]],\n",
              "\n",
              "        [[1, 2],\n",
              "         [3, 4]],\n",
              "\n",
              "        [[9, 2],\n",
              "         [3, 4]]]])"
            ]
          },
          "metadata": {},
          "execution_count": 58
        }
      ]
    },
    {
      "cell_type": "code",
      "source": [
        "arr = np.zeros((2, 4))\n",
        "arr"
      ],
      "metadata": {
        "colab": {
          "base_uri": "https://localhost:8080/"
        },
        "id": "iuUyqGhaj64h",
        "outputId": "c4d1a222-8f66-4d63-8ec3-e51b36bb3204"
      },
      "execution_count": null,
      "outputs": [
        {
          "output_type": "execute_result",
          "data": {
            "text/plain": [
              "array([[0., 0., 0., 0.],\n",
              "       [0., 0., 0., 0.]])"
            ]
          },
          "metadata": {},
          "execution_count": 62
        }
      ]
    },
    {
      "cell_type": "code",
      "source": [
        "arr.shape"
      ],
      "metadata": {
        "colab": {
          "base_uri": "https://localhost:8080/"
        },
        "id": "PdQLoHSLj_tg",
        "outputId": "93b39ad0-ba43-40bd-d87d-cd0200589724"
      },
      "execution_count": null,
      "outputs": [
        {
          "output_type": "execute_result",
          "data": {
            "text/plain": [
              "(2, 4)"
            ]
          },
          "metadata": {},
          "execution_count": 63
        }
      ]
    },
    {
      "cell_type": "code",
      "source": [
        "arr = np.array([[3, 4], [8, 11], [9, 9]])\n",
        "arr.flatten()\n"
      ],
      "metadata": {
        "colab": {
          "base_uri": "https://localhost:8080/"
        },
        "id": "6zrSz-caeh1Y",
        "outputId": "8265c80f-6a2e-4631-8dc8-1831ddbec30c"
      },
      "execution_count": null,
      "outputs": [
        {
          "output_type": "execute_result",
          "data": {
            "text/plain": [
              "array([ 3,  4,  8, 11,  9,  9])"
            ]
          },
          "metadata": {},
          "execution_count": 59
        }
      ]
    },
    {
      "cell_type": "code",
      "source": [
        "arr = np.array([[3, 4, 2], [8, 11, 5]])\n",
        "arr.reshape((3, 2))\n"
      ],
      "metadata": {
        "colab": {
          "base_uri": "https://localhost:8080/"
        },
        "id": "4Am1WW6xkKSJ",
        "outputId": "133b6564-3d71-4700-cc23-9b7c92e1afff"
      },
      "execution_count": null,
      "outputs": [
        {
          "output_type": "execute_result",
          "data": {
            "text/plain": [
              "array([[ 3,  4],\n",
              "       [ 2,  8],\n",
              "       [11,  5]])"
            ]
          },
          "metadata": {},
          "execution_count": 64
        }
      ]
    },
    {
      "cell_type": "code",
      "source": [
        "arr.reshape((3, 3))"
      ],
      "metadata": {
        "colab": {
          "base_uri": "https://localhost:8080/",
          "height": 175
        },
        "id": "Ohfi34OZkNyk",
        "outputId": "23f3d2ee-4ce1-4e3e-f721-21f8ed9e4fd9"
      },
      "execution_count": null,
      "outputs": [
        {
          "output_type": "error",
          "ename": "ValueError",
          "evalue": "ignored",
          "traceback": [
            "\u001b[0;31m---------------------------------------------------------------------------\u001b[0m",
            "\u001b[0;31mValueError\u001b[0m                                Traceback (most recent call last)",
            "\u001b[0;32m<ipython-input-65-a5ab0f3d8792>\u001b[0m in \u001b[0;36m<cell line: 1>\u001b[0;34m()\u001b[0m\n\u001b[0;32m----> 1\u001b[0;31m \u001b[0marr\u001b[0m\u001b[0;34m.\u001b[0m\u001b[0mreshape\u001b[0m\u001b[0;34m(\u001b[0m\u001b[0;34m(\u001b[0m\u001b[0;36m3\u001b[0m\u001b[0;34m,\u001b[0m \u001b[0;36m3\u001b[0m\u001b[0;34m)\u001b[0m\u001b[0;34m)\u001b[0m\u001b[0;34m\u001b[0m\u001b[0;34m\u001b[0m\u001b[0m\n\u001b[0m",
            "\u001b[0;31mValueError\u001b[0m: cannot reshape array of size 6 into shape (3,3)"
          ]
        }
      ]
    },
    {
      "cell_type": "markdown",
      "source": [
        "## 1. Reduza o array (5,7) a apenas uma dimensão"
      ],
      "metadata": {
        "id": "3c2qHtxhsN77"
      }
    },
    {
      "cell_type": "code",
      "source": [
        "a57 = np.random.random((5,7))\n",
        "a57"
      ],
      "metadata": {
        "id": "05mvXbPciElu",
        "outputId": "383ff6ba-2a82-4aa4-c81d-c4a0144ce902",
        "colab": {
          "base_uri": "https://localhost:8080/"
        }
      },
      "execution_count": 52,
      "outputs": [
        {
          "output_type": "execute_result",
          "data": {
            "text/plain": [
              "array([[0.72974775, 0.72024089, 0.09209397, 0.95047599, 0.91209085,\n",
              "        0.93286148, 0.01201137],\n",
              "       [0.03792146, 0.00314883, 0.61783271, 0.92502577, 0.3781087 ,\n",
              "        0.58299157, 0.67180234],\n",
              "       [0.65026917, 0.90770685, 0.09215106, 0.55293628, 0.7725335 ,\n",
              "        0.86358737, 0.78769189],\n",
              "       [0.76936531, 0.20325608, 0.01217243, 0.01386488, 0.5698097 ,\n",
              "        0.79418129, 0.29747279],\n",
              "       [0.10775113, 0.72812361, 0.95037585, 0.31702949, 0.095408  ,\n",
              "        0.33815412, 0.51502305]])"
            ]
          },
          "metadata": {},
          "execution_count": 52
        }
      ]
    },
    {
      "cell_type": "code",
      "source": [
        "a57.flatten()"
      ],
      "metadata": {
        "id": "Sw0hP6iFYkNr",
        "outputId": "4eacb93a-36e5-430f-e8db-c4b8c85eab8f",
        "colab": {
          "base_uri": "https://localhost:8080/"
        }
      },
      "execution_count": 50,
      "outputs": [
        {
          "output_type": "execute_result",
          "data": {
            "text/plain": [
              "array([0.36551423, 0.70813035, 0.61439192, 0.84358252, 0.99039057,\n",
              "       0.2692276 , 0.6888043 , 0.29198301, 0.74782887, 0.03913156,\n",
              "       0.8309477 , 0.99022627, 0.27961469, 0.50179406, 0.0835914 ,\n",
              "       0.07711496, 0.03031824, 0.79844763, 0.98524269, 0.05272893,\n",
              "       0.87068024, 0.85388563, 0.21022442, 0.37598121, 0.56585222,\n",
              "       0.44446694, 0.73641196, 0.68185838, 0.11630022, 0.48890136,\n",
              "       0.61615158, 0.05044415, 0.66888566, 0.5252363 , 0.11812932])"
            ]
          },
          "metadata": {},
          "execution_count": 50
        }
      ]
    },
    {
      "cell_type": "markdown",
      "source": [
        "## 2. Considerando que você é uma organizadora de um jogo de bingo. Crie um array que irá representar a cartilha desses jogos de bingo. os números da suas cartelas variam entre 1 e 30, e você terá 10 participantes. Cada cartela terá 12 números (4, 3).\n",
        "ou seja 10cartelas com numeros de 1 a 30 sendo que cada cartela terá 12 numeros numa dimensao (4,3)\n",
        "## Crie um array que represente esse jogo"
      ],
      "metadata": {
        "id": "6mh-aOcQqy0S"
      }
    },
    {
      "cell_type": "code",
      "source": [
        "arr_cartela = np.random.randint(1, 31, size=(10,4,3))\n",
        "arr_cartela"
      ],
      "metadata": {
        "id": "2LWkIt6I2OGo",
        "outputId": "786e931d-3dfb-470e-f7df-74e23cf2aa7c",
        "colab": {
          "base_uri": "https://localhost:8080/"
        }
      },
      "execution_count": 57,
      "outputs": [
        {
          "output_type": "execute_result",
          "data": {
            "text/plain": [
              "array([[[ 4, 13, 12],\n",
              "        [22, 29, 17],\n",
              "        [22, 27, 22],\n",
              "        [ 9,  7, 13]],\n",
              "\n",
              "       [[21, 13, 30],\n",
              "        [19, 14, 24],\n",
              "        [11, 18,  3],\n",
              "        [26, 27,  1]],\n",
              "\n",
              "       [[ 5, 18, 10],\n",
              "        [19,  2,  9],\n",
              "        [16, 13,  1],\n",
              "        [23,  2,  5]],\n",
              "\n",
              "       [[19, 20, 20],\n",
              "        [15, 30,  4],\n",
              "        [ 6, 10,  2],\n",
              "        [16, 12, 20]],\n",
              "\n",
              "       [[28, 25, 19],\n",
              "        [27, 23,  6],\n",
              "        [14, 12,  5],\n",
              "        [12, 18, 14]],\n",
              "\n",
              "       [[16, 10,  6],\n",
              "        [19, 17, 24],\n",
              "        [28, 23, 13],\n",
              "        [18,  9, 27]],\n",
              "\n",
              "       [[20, 17,  9],\n",
              "        [23, 30, 27],\n",
              "        [25,  6, 14],\n",
              "        [21, 18,  3]],\n",
              "\n",
              "       [[19,  4, 30],\n",
              "        [14, 17, 13],\n",
              "        [24, 25,  8],\n",
              "        [28,  4,  2]],\n",
              "\n",
              "       [[24, 14, 21],\n",
              "        [14, 16,  6],\n",
              "        [22, 22, 13],\n",
              "        [12,  6, 12]],\n",
              "\n",
              "       [[20,  4, 25],\n",
              "        [ 2, 15, 29],\n",
              "        [ 8,  1, 26],\n",
              "        [21, 19,  4]]])"
            ]
          },
          "metadata": {},
          "execution_count": 57
        }
      ]
    },
    {
      "cell_type": "markdown",
      "source": [
        "## 3. Faça o reshape das suas cartelas para que haja 5 cartelas de 4 linhas e 6 colunas"
      ],
      "metadata": {
        "id": "vopTx8gjtiMn"
      }
    },
    {
      "cell_type": "code",
      "source": [
        "arr_cartela.reshape((5,4,6))"
      ],
      "metadata": {
        "id": "LVHYKk0ys5JA",
        "outputId": "3098489d-6722-45ae-be04-647be07c7808",
        "colab": {
          "base_uri": "https://localhost:8080/"
        }
      },
      "execution_count": 58,
      "outputs": [
        {
          "output_type": "execute_result",
          "data": {
            "text/plain": [
              "array([[[ 4, 13, 12, 22, 29, 17],\n",
              "        [22, 27, 22,  9,  7, 13],\n",
              "        [21, 13, 30, 19, 14, 24],\n",
              "        [11, 18,  3, 26, 27,  1]],\n",
              "\n",
              "       [[ 5, 18, 10, 19,  2,  9],\n",
              "        [16, 13,  1, 23,  2,  5],\n",
              "        [19, 20, 20, 15, 30,  4],\n",
              "        [ 6, 10,  2, 16, 12, 20]],\n",
              "\n",
              "       [[28, 25, 19, 27, 23,  6],\n",
              "        [14, 12,  5, 12, 18, 14],\n",
              "        [16, 10,  6, 19, 17, 24],\n",
              "        [28, 23, 13, 18,  9, 27]],\n",
              "\n",
              "       [[20, 17,  9, 23, 30, 27],\n",
              "        [25,  6, 14, 21, 18,  3],\n",
              "        [19,  4, 30, 14, 17, 13],\n",
              "        [24, 25,  8, 28,  4,  2]],\n",
              "\n",
              "       [[24, 14, 21, 14, 16,  6],\n",
              "        [22, 22, 13, 12,  6, 12],\n",
              "        [20,  4, 25,  2, 15, 29],\n",
              "        [ 8,  1, 26, 21, 19,  4]]])"
            ]
          },
          "metadata": {},
          "execution_count": 58
        }
      ]
    },
    {
      "cell_type": "markdown",
      "source": [
        "# Tipo de dados em um numpy array\n"
      ],
      "metadata": {
        "id": "8f6qpfC3_2mk"
      }
    },
    {
      "cell_type": "code",
      "source": [
        "np.array([2.14, 6.25, 160.87, 8.4]).dtype"
      ],
      "metadata": {
        "colab": {
          "base_uri": "https://localhost:8080/"
        },
        "id": "Zw9N5oXN_7WV",
        "outputId": "fd8c4b8f-feab-47fa-bd73-f6248f53cc67"
      },
      "execution_count": null,
      "outputs": [
        {
          "output_type": "execute_result",
          "data": {
            "text/plain": [
              "dtype('float64')"
            ]
          },
          "metadata": {},
          "execution_count": 78
        }
      ]
    },
    {
      "cell_type": "code",
      "source": [
        "np.array([2, 6, 160, 8]).dtype"
      ],
      "metadata": {
        "colab": {
          "base_uri": "https://localhost:8080/"
        },
        "id": "xKPsZ4pAACOz",
        "outputId": "bf1bb72b-6fc2-4632-b057-038c07832983"
      },
      "execution_count": null,
      "outputs": [
        {
          "output_type": "execute_result",
          "data": {
            "text/plain": [
              "dtype('int64')"
            ]
          },
          "metadata": {},
          "execution_count": 79
        }
      ]
    },
    {
      "cell_type": "code",
      "source": [
        "np.array([\"Hello\", \"Coder\", \"Girls\"]).dtype"
      ],
      "metadata": {
        "colab": {
          "base_uri": "https://localhost:8080/"
        },
        "id": "--fFIEgvAtKF",
        "outputId": "725b4772-f5b8-4dc4-83aa-186b3648f34e"
      },
      "execution_count": null,
      "outputs": [
        {
          "output_type": "execute_result",
          "data": {
            "text/plain": [
              "dtype('<U5')"
            ]
          },
          "metadata": {},
          "execution_count": 80
        }
      ]
    },
    {
      "cell_type": "code",
      "source": [
        "arr_flaot32 = np.array([2.14, 6.25, 160.87], dtype=np.float32)\n",
        "arr_flaot32"
      ],
      "metadata": {
        "colab": {
          "base_uri": "https://localhost:8080/"
        },
        "id": "lgYPwwpFA2AR",
        "outputId": "4af05e2b-2be6-4fa8-ae66-988473d8470b"
      },
      "execution_count": null,
      "outputs": [
        {
          "output_type": "execute_result",
          "data": {
            "text/plain": [
              "array([  2.14,   6.25, 160.87], dtype=float32)"
            ]
          },
          "metadata": {},
          "execution_count": 81
        }
      ]
    },
    {
      "cell_type": "code",
      "source": [
        "arr_vf = np.array([[True, False], [True, True]], dtype=np.bool8)\n",
        "arr_vf.astype(np.int32)"
      ],
      "metadata": {
        "colab": {
          "base_uri": "https://localhost:8080/"
        },
        "id": "XpBTC041BtpR",
        "outputId": "819218cb-ac90-46d1-a981-d73bff98480b"
      },
      "execution_count": null,
      "outputs": [
        {
          "output_type": "execute_result",
          "data": {
            "text/plain": [
              "array([[1, 0],\n",
              "       [1, 1]], dtype=int32)"
            ]
          },
          "metadata": {},
          "execution_count": 84
        }
      ]
    },
    {
      "cell_type": "code",
      "source": [
        "np.array([\"pedra\", False , 42, 42.42])"
      ],
      "metadata": {
        "colab": {
          "base_uri": "https://localhost:8080/"
        },
        "id": "6tE5yQ60CbsL",
        "outputId": "1796346a-bd8c-4108-bcaf-2116c1bbf10c"
      },
      "execution_count": null,
      "outputs": [
        {
          "output_type": "execute_result",
          "data": {
            "text/plain": [
              "array(['pedra', 'False', '42', '42.42'], dtype='<U32')"
            ]
          },
          "metadata": {},
          "execution_count": 85
        }
      ]
    },
    {
      "cell_type": "code",
      "source": [
        "np.array([0, 10]).dtype"
      ],
      "metadata": {
        "colab": {
          "base_uri": "https://localhost:8080/"
        },
        "id": "K2Rq5Mb2DbPq",
        "outputId": "f3d34eae-6036-423e-bb8e-0079f59a5679"
      },
      "execution_count": null,
      "outputs": [
        {
          "output_type": "execute_result",
          "data": {
            "text/plain": [
              "dtype('int64')"
            ]
          },
          "metadata": {},
          "execution_count": 88
        }
      ]
    },
    {
      "cell_type": "code",
      "source": [
        "np.array([0, 10, 1.]).dtype"
      ],
      "metadata": {
        "colab": {
          "base_uri": "https://localhost:8080/"
        },
        "id": "q_gjB8HGDbTE",
        "outputId": "eedb7060-1240-40b2-95cf-6ae9b69de105"
      },
      "execution_count": null,
      "outputs": [
        {
          "output_type": "execute_result",
          "data": {
            "text/plain": [
              "dtype('float64')"
            ]
          },
          "metadata": {},
          "execution_count": 89
        }
      ]
    },
    {
      "cell_type": "code",
      "source": [
        "np.array([True, False]).dtype"
      ],
      "metadata": {
        "colab": {
          "base_uri": "https://localhost:8080/"
        },
        "id": "hAKlEJtjDUH7",
        "outputId": "0ecdadf8-79f2-4c4b-f67f-35166859229e"
      },
      "execution_count": null,
      "outputs": [
        {
          "output_type": "execute_result",
          "data": {
            "text/plain": [
              "dtype('bool')"
            ]
          },
          "metadata": {},
          "execution_count": 87
        }
      ]
    },
    {
      "cell_type": "code",
      "source": [
        "np.array([True, False, 12]).dtype"
      ],
      "metadata": {
        "colab": {
          "base_uri": "https://localhost:8080/"
        },
        "id": "kR-8fpMjCi8f",
        "outputId": "005e8f44-5b25-4fc0-ba05-165be3734222"
      },
      "execution_count": null,
      "outputs": [
        {
          "output_type": "execute_result",
          "data": {
            "text/plain": [
              "dtype('int64')"
            ]
          },
          "metadata": {},
          "execution_count": 86
        }
      ]
    }
  ]
}