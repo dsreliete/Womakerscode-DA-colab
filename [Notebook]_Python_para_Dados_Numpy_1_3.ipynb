{
  "nbformat": 4,
  "nbformat_minor": 0,
  "metadata": {
    "colab": {
      "provenance": [],
      "include_colab_link": true
    },
    "kernelspec": {
      "name": "python3",
      "display_name": "Python 3"
    },
    "language_info": {
      "name": "python"
    }
  },
  "cells": [
    {
      "cell_type": "markdown",
      "metadata": {
        "id": "view-in-github",
        "colab_type": "text"
      },
      "source": [
        "<a href=\"https://colab.research.google.com/github/dsreliete/Womakerscode-DA-colab/blob/main/%5BNotebook%5D_Python_para_Dados_Numpy_1_3.ipynb\" target=\"_parent\"><img src=\"https://colab.research.google.com/assets/colab-badge.svg\" alt=\"Open In Colab\"/></a>"
      ]
    },
    {
      "cell_type": "code",
      "execution_count": null,
      "metadata": {
        "id": "y933Qf_oW3UK"
      },
      "outputs": [],
      "source": [
        "import numpy as np"
      ]
    },
    {
      "cell_type": "code",
      "source": [
        "                    #cli1 cli2 cli3\n",
        "acidentes = np.array([[1, 3, 2], #ano1\n",
        "                    [0, 1, 0],   #ano2\n",
        "                    [2, 1, 4],   #ano3\n",
        "                    [0, 0, 0],   #ano4\n",
        "                    [1, 1, 0]])  #ano5"
      ],
      "metadata": {
        "id": "UCFoCmw6XS6O"
      },
      "execution_count": null,
      "outputs": []
    },
    {
      "cell_type": "markdown",
      "source": [
        "cada coluna é um cliente e cada linha é o total de aciendentes por cliente por ano"
      ],
      "metadata": {
        "id": "E1x-Di8yLXHH"
      }
    },
    {
      "cell_type": "code",
      "source": [
        "acidentes"
      ],
      "metadata": {
        "colab": {
          "base_uri": "https://localhost:8080/"
        },
        "id": "AJ5uIgKAgVFI",
        "outputId": "4967ff44-4115-4991-d1f9-b713f93f2f8b"
      },
      "execution_count": null,
      "outputs": [
        {
          "output_type": "execute_result",
          "data": {
            "text/plain": [
              "array([[1, 3, 2],\n",
              "       [0, 1, 0],\n",
              "       [2, 1, 4],\n",
              "       [0, 0, 0],\n",
              "       [1, 1, 0]])"
            ]
          },
          "metadata": {},
          "execution_count": 5
        }
      ]
    },
    {
      "cell_type": "markdown",
      "source": [
        "Soma de acidentes de todos os clientes por ano"
      ],
      "metadata": {
        "id": "uzjRS2mpKuEg"
      }
    },
    {
      "cell_type": "code",
      "source": [
        "acidentes.sum(axis=1)"
      ],
      "metadata": {
        "id": "w8KKQg9fKpFb",
        "outputId": "0f65fbe7-0ea0-4620-c804-a7baf288bbe6",
        "colab": {
          "base_uri": "https://localhost:8080/"
        }
      },
      "execution_count": null,
      "outputs": [
        {
          "output_type": "execute_result",
          "data": {
            "text/plain": [
              "array([6, 1, 7, 0, 2])"
            ]
          },
          "metadata": {},
          "execution_count": 4
        }
      ]
    },
    {
      "cell_type": "markdown",
      "source": [
        "soma de acidentes por cliente em todos os anos"
      ],
      "metadata": {
        "id": "T6-FSzGLK5zz"
      }
    },
    {
      "cell_type": "code",
      "source": [
        "acidentes.sum(axis=0)"
      ],
      "metadata": {
        "id": "p4tv3ATHK-Df",
        "outputId": "b3029aa6-8d17-4157-fee9-33a7a722988c",
        "colab": {
          "base_uri": "https://localhost:8080/"
        }
      },
      "execution_count": null,
      "outputs": [
        {
          "output_type": "execute_result",
          "data": {
            "text/plain": [
              "array([4, 6, 6])"
            ]
          },
          "metadata": {},
          "execution_count": 5
        }
      ]
    },
    {
      "cell_type": "code",
      "source": [
        "acidentes.min() #maior numero de acidentes"
      ],
      "metadata": {
        "id": "HBPeT_7gMWJQ",
        "outputId": "98b344b6-321d-4784-cebb-48c0be8920e9",
        "colab": {
          "base_uri": "https://localhost:8080/"
        }
      },
      "execution_count": null,
      "outputs": [
        {
          "output_type": "execute_result",
          "data": {
            "text/plain": [
              "0"
            ]
          },
          "metadata": {},
          "execution_count": 6
        }
      ]
    },
    {
      "cell_type": "code",
      "source": [
        "acidentes.max() #menor numero de acidentes"
      ],
      "metadata": {
        "id": "XSM5-L0jMbhs",
        "outputId": "2f81a8a0-6cfa-434b-ba86-8326b9db91e7",
        "colab": {
          "base_uri": "https://localhost:8080/"
        }
      },
      "execution_count": null,
      "outputs": [
        {
          "output_type": "execute_result",
          "data": {
            "text/plain": [
              "4"
            ]
          },
          "metadata": {},
          "execution_count": 7
        }
      ]
    },
    {
      "cell_type": "code",
      "source": [
        "acidentes.max(axis=1) #maior numero de acidentes por ano"
      ],
      "metadata": {
        "id": "geLP-tFpMadE",
        "outputId": "2d5fa4c5-7bad-483a-b7a6-21fcf91297ea",
        "colab": {
          "base_uri": "https://localhost:8080/"
        }
      },
      "execution_count": null,
      "outputs": [
        {
          "output_type": "execute_result",
          "data": {
            "text/plain": [
              "array([3, 1, 4, 0, 1])"
            ]
          },
          "metadata": {},
          "execution_count": 8
        }
      ]
    },
    {
      "cell_type": "code",
      "source": [
        "acidentes.min(axis=1) #menor numero de acidentes por ano"
      ],
      "metadata": {
        "id": "JGYr0p0JMa5-",
        "outputId": "8bc78658-5afc-4bd2-f109-01179bdacd30",
        "colab": {
          "base_uri": "https://localhost:8080/"
        }
      },
      "execution_count": null,
      "outputs": [
        {
          "output_type": "execute_result",
          "data": {
            "text/plain": [
              "array([1, 0, 1, 0, 0])"
            ]
          },
          "metadata": {},
          "execution_count": 10
        }
      ]
    },
    {
      "cell_type": "code",
      "source": [
        "acidentes.max(axis=0) #maior numero de acidentes por cliente"
      ],
      "metadata": {
        "id": "QDeaavsvMbA_"
      },
      "execution_count": null,
      "outputs": []
    },
    {
      "cell_type": "code",
      "source": [
        "acidentes.min(axis=0) #menor numero de acidentes por cliente"
      ],
      "metadata": {
        "id": "LrNKK_hzNcCE"
      },
      "execution_count": null,
      "outputs": []
    },
    {
      "cell_type": "code",
      "source": [
        "acidentes.mean() #media de acidentes"
      ],
      "metadata": {
        "id": "72fXp8OtOX1z",
        "outputId": "5d6e4919-45a0-4323-bf8d-7f9e504bd519",
        "colab": {
          "base_uri": "https://localhost:8080/"
        }
      },
      "execution_count": null,
      "outputs": [
        {
          "output_type": "execute_result",
          "data": {
            "text/plain": [
              "1.0666666666666667"
            ]
          },
          "metadata": {},
          "execution_count": 11
        }
      ]
    },
    {
      "cell_type": "code",
      "source": [
        "acidentes.mean(axis=1) #media de acidentes por ano de todos os clientes"
      ],
      "metadata": {
        "id": "il4X0aR5OX7g",
        "outputId": "670243f5-e22c-435b-aa6b-b3934d2a0503",
        "colab": {
          "base_uri": "https://localhost:8080/"
        }
      },
      "execution_count": null,
      "outputs": [
        {
          "output_type": "execute_result",
          "data": {
            "text/plain": [
              "array([2.        , 0.33333333, 2.33333333, 0.        , 0.66666667])"
            ]
          },
          "metadata": {},
          "execution_count": 13
        }
      ]
    },
    {
      "cell_type": "code",
      "source": [
        "acidentes.mean(axis=0) #media de acidentes por cliente de todos os anos"
      ],
      "metadata": {
        "id": "KLDroRA6OYBw",
        "outputId": "c5c743f3-1079-4ff1-deaf-59e822dfe86f",
        "colab": {
          "base_uri": "https://localhost:8080/"
        }
      },
      "execution_count": null,
      "outputs": [
        {
          "output_type": "execute_result",
          "data": {
            "text/plain": [
              "array([0.8, 1.2, 1.2])"
            ]
          },
          "metadata": {},
          "execution_count": 12
        }
      ]
    },
    {
      "cell_type": "code",
      "source": [
        "acidentes.mean(axis=0).shape"
      ],
      "metadata": {
        "id": "QZzCYz6qEJSA",
        "outputId": "e6d16fe7-ef57-44a2-c233-c31f32cbe846",
        "colab": {
          "base_uri": "https://localhost:8080/"
        }
      },
      "execution_count": null,
      "outputs": [
        {
          "output_type": "execute_result",
          "data": {
            "text/plain": [
              "(3,)"
            ]
          },
          "metadata": {},
          "execution_count": 7
        }
      ]
    },
    {
      "cell_type": "code",
      "source": [
        "acidentes.mean(axis=0, keepdims=True) #media de acidentes por cliente de todos os anos mantendo a dimensao"
      ],
      "metadata": {
        "id": "F8m3LlHvOYKW",
        "outputId": "a36b6fc7-1597-4d37-e3dc-a3dfb1533e63",
        "colab": {
          "base_uri": "https://localhost:8080/"
        }
      },
      "execution_count": null,
      "outputs": [
        {
          "output_type": "execute_result",
          "data": {
            "text/plain": [
              "array([[0.8, 1.2, 1.2]])"
            ]
          },
          "metadata": {},
          "execution_count": 15
        }
      ]
    },
    {
      "cell_type": "code",
      "source": [
        "acidentes.mean(axis=0, keepdims=True).shape"
      ],
      "metadata": {
        "id": "Sx5ungz7Dyvm",
        "outputId": "9f46e8c9-07ac-4705-e405-e78b9570cf93",
        "colab": {
          "base_uri": "https://localhost:8080/"
        }
      },
      "execution_count": null,
      "outputs": [
        {
          "output_type": "execute_result",
          "data": {
            "text/plain": [
              "(1, 3)"
            ]
          },
          "metadata": {},
          "execution_count": 6
        }
      ]
    },
    {
      "cell_type": "code",
      "source": [
        "acidentes.mean(axis=1, keepdims=True) #media de acidentes por ano de todos os clientes mantendo a dimensao"
      ],
      "metadata": {
        "id": "mrnKasNTRIRZ",
        "outputId": "591dae3e-b022-4121-dcef-24de0dc25504",
        "colab": {
          "base_uri": "https://localhost:8080/"
        }
      },
      "execution_count": null,
      "outputs": [
        {
          "output_type": "execute_result",
          "data": {
            "text/plain": [
              "array([[2.        ],\n",
              "       [0.33333333],\n",
              "       [2.33333333],\n",
              "       [0.        ],\n",
              "       [0.66666667]])"
            ]
          },
          "metadata": {},
          "execution_count": 16
        }
      ]
    },
    {
      "cell_type": "code",
      "source": [
        "acidentes.mean(axis=1, keepdims=True).shape"
      ],
      "metadata": {
        "id": "rsm4CjJLEVBu",
        "outputId": "4c83e35c-7a2a-4cfb-92a5-84e841123dfb",
        "colab": {
          "base_uri": "https://localhost:8080/"
        }
      },
      "execution_count": null,
      "outputs": [
        {
          "output_type": "execute_result",
          "data": {
            "text/plain": [
              "(5, 1)"
            ]
          },
          "metadata": {},
          "execution_count": 8
        }
      ]
    },
    {
      "cell_type": "code",
      "source": [
        "acidentes.mean(axis=1).shape"
      ],
      "metadata": {
        "id": "FUtNEywIEd_g",
        "outputId": "96b90d00-4d03-4127-9343-d15932bc70d0",
        "colab": {
          "base_uri": "https://localhost:8080/"
        }
      },
      "execution_count": null,
      "outputs": [
        {
          "output_type": "execute_result",
          "data": {
            "text/plain": [
              "(5,)"
            ]
          },
          "metadata": {},
          "execution_count": 9
        }
      ]
    },
    {
      "cell_type": "code",
      "source": [
        "acidentes.cumsum(axis=0) #soma acumulada de acidentes por cliente de todos os anos"
      ],
      "metadata": {
        "id": "S45L4uRvSHtm",
        "outputId": "96f77633-0a9a-4af4-f6f2-2f6e3e7f9ea4",
        "colab": {
          "base_uri": "https://localhost:8080/"
        }
      },
      "execution_count": null,
      "outputs": [
        {
          "output_type": "execute_result",
          "data": {
            "text/plain": [
              "array([[1, 3, 2],\n",
              "       [1, 4, 2],\n",
              "       [3, 5, 6],\n",
              "       [3, 5, 6],\n",
              "       [4, 6, 6]])"
            ]
          },
          "metadata": {},
          "execution_count": 18
        }
      ]
    },
    {
      "cell_type": "code",
      "source": [
        "acidentes.cumsum(axis=1) #soma acumulada de acidentes por ano de todos os clientes"
      ],
      "metadata": {
        "id": "HYJo-Q1GSQXd",
        "outputId": "d39105d0-f9fa-4f6c-a156-5d21b0c5e940",
        "colab": {
          "base_uri": "https://localhost:8080/"
        }
      },
      "execution_count": null,
      "outputs": [
        {
          "output_type": "execute_result",
          "data": {
            "text/plain": [
              "array([[1, 4, 6],\n",
              "       [0, 1, 1],\n",
              "       [2, 3, 7],\n",
              "       [0, 0, 0],\n",
              "       [1, 2, 2]])"
            ]
          },
          "metadata": {},
          "execution_count": 19
        }
      ]
    },
    {
      "cell_type": "markdown",
      "source": [
        "**Cartela de Bingo 2**\n"
      ],
      "metadata": {
        "id": "gYrfSYkuFHy3"
      }
    },
    {
      "cell_type": "code",
      "source": [
        "cartela_bingo = np.random.randint(0,10, (4,4))\n",
        "cartela_bingo"
      ],
      "metadata": {
        "id": "IwCBHPrvE-Xa",
        "outputId": "f268a5e9-de8b-4304-8a5a-ea3d65365c86",
        "colab": {
          "base_uri": "https://localhost:8080/"
        }
      },
      "execution_count": 17,
      "outputs": [
        {
          "output_type": "execute_result",
          "data": {
            "text/plain": [
              "array([[4, 1, 1, 8],\n",
              "       [1, 0, 1, 6],\n",
              "       [0, 7, 8, 8],\n",
              "       [8, 6, 3, 6]])"
            ]
          },
          "metadata": {},
          "execution_count": 17
        }
      ]
    },
    {
      "cell_type": "code",
      "source": [
        "cartela_bingo1 = cartela_bingo[:3]\n",
        "cartela_bingo1"
      ],
      "metadata": {
        "id": "K20bpfXME-hz",
        "outputId": "750c8d9a-3cc8-4dda-c64a-b74f4849a21b",
        "colab": {
          "base_uri": "https://localhost:8080/"
        }
      },
      "execution_count": 19,
      "outputs": [
        {
          "output_type": "execute_result",
          "data": {
            "text/plain": [
              "array([[4, 1, 1, 8],\n",
              "       [1, 0, 1, 6],\n",
              "       [0, 7, 8, 8]])"
            ]
          },
          "metadata": {},
          "execution_count": 19
        }
      ]
    },
    {
      "cell_type": "code",
      "source": [
        "cartela_bingo2 = cartela_bingo[-1:]\n",
        "cartela_bingo2"
      ],
      "metadata": {
        "id": "CtD8nHjEE-kY",
        "outputId": "42bae0b9-bf9e-4b43-b8e6-44969a5a1ae9",
        "colab": {
          "base_uri": "https://localhost:8080/"
        }
      },
      "execution_count": 20,
      "outputs": [
        {
          "output_type": "execute_result",
          "data": {
            "text/plain": [
              "array([[8, 6, 3, 6]])"
            ]
          },
          "metadata": {},
          "execution_count": 20
        }
      ]
    },
    {
      "cell_type": "code",
      "source": [
        "np.concatenate((cartela_bingo1, cartela_bingo2))"
      ],
      "metadata": {
        "id": "3ge5sN3QE-mv",
        "outputId": "d8505909-6d45-4b49-dfb1-e82c29e3285a",
        "colab": {
          "base_uri": "https://localhost:8080/"
        }
      },
      "execution_count": 21,
      "outputs": [
        {
          "output_type": "execute_result",
          "data": {
            "text/plain": [
              "array([[4, 1, 1, 8],\n",
              "       [1, 0, 1, 6],\n",
              "       [0, 7, 8, 8],\n",
              "       [8, 6, 3, 6]])"
            ]
          },
          "metadata": {},
          "execution_count": 21
        }
      ]
    },
    {
      "cell_type": "code",
      "source": [
        "cartela_bingo == np.concatenate((cartela_bingo1, cartela_bingo2))"
      ],
      "metadata": {
        "id": "03_jTeudE-pI",
        "outputId": "71c63095-7001-4902-ed50-87095a60dfbf",
        "colab": {
          "base_uri": "https://localhost:8080/"
        }
      },
      "execution_count": 22,
      "outputs": [
        {
          "output_type": "execute_result",
          "data": {
            "text/plain": [
              "array([[ True,  True,  True,  True],\n",
              "       [ True,  True,  True,  True],\n",
              "       [ True,  True,  True,  True],\n",
              "       [ True,  True,  True,  True]])"
            ]
          },
          "metadata": {},
          "execution_count": 22
        }
      ]
    },
    {
      "cell_type": "code",
      "source": [
        "np.delete(cartela_bingo, 1, axis=1) #eixo 1 é sempre as colunas"
      ],
      "metadata": {
        "id": "9mTuiQAbE-th",
        "outputId": "ef847bad-e10a-4d4e-a82a-cf5c75847bda",
        "colab": {
          "base_uri": "https://localhost:8080/"
        }
      },
      "execution_count": 26,
      "outputs": [
        {
          "output_type": "execute_result",
          "data": {
            "text/plain": [
              "array([[4, 1, 8],\n",
              "       [1, 1, 6],\n",
              "       [0, 8, 8],\n",
              "       [8, 3, 6]])"
            ]
          },
          "metadata": {},
          "execution_count": 26
        }
      ]
    },
    {
      "cell_type": "code",
      "source": [
        "np.delete(cartela_bingo, 1, axis=0) #eixo 0 é sempre as linhas"
      ],
      "metadata": {
        "id": "yilO2EADE-vn",
        "outputId": "c99f5710-adff-4e7f-e201-b63751f47f19",
        "colab": {
          "base_uri": "https://localhost:8080/"
        }
      },
      "execution_count": 27,
      "outputs": [
        {
          "output_type": "execute_result",
          "data": {
            "text/plain": [
              "array([[4, 1, 1, 8],\n",
              "       [0, 7, 8, 8],\n",
              "       [8, 6, 3, 6]])"
            ]
          },
          "metadata": {},
          "execution_count": 27
        }
      ]
    },
    {
      "cell_type": "markdown",
      "source": [
        "**Aritmetica**"
      ],
      "metadata": {
        "id": "huQt5l42QXIr"
      }
    },
    {
      "cell_type": "code",
      "source": [
        "arr = np.array([[1, 2, 3],\n",
        "                [4, 5, 6]])\n",
        "arr += 3\n",
        "arr"
      ],
      "metadata": {
        "id": "3M0k7l2UQgVZ",
        "outputId": "47576656-7041-476e-c003-975ed3e71a80",
        "colab": {
          "base_uri": "https://localhost:8080/"
        }
      },
      "execution_count": 28,
      "outputs": [
        {
          "output_type": "execute_result",
          "data": {
            "text/plain": [
              "array([[4, 5, 6],\n",
              "       [7, 8, 9]])"
            ]
          },
          "metadata": {},
          "execution_count": 28
        }
      ]
    },
    {
      "cell_type": "code",
      "source": [
        "arr2 = np.array([[1, 2, 3],\n",
        "                [4, 5, 6]])\n",
        "arr2 *= 5\n",
        "arr2"
      ],
      "metadata": {
        "id": "CyReRR50Q6OS",
        "outputId": "96508d25-b249-404c-a918-d79a1dbfa94d",
        "colab": {
          "base_uri": "https://localhost:8080/"
        }
      },
      "execution_count": 30,
      "outputs": [
        {
          "output_type": "execute_result",
          "data": {
            "text/plain": [
              "array([[ 5, 10, 15],\n",
              "       [20, 25, 30]])"
            ]
          },
          "metadata": {},
          "execution_count": 30
        }
      ]
    },
    {
      "cell_type": "code",
      "source": [
        "a = np.array([[1, 2, 3], [4,5,6]]) #operaçao permitida pelo numpy pq os arrays a e b tem o mesmo tamanho\n",
        "b = np.array([[2,2,2], [0,0,1]])\n",
        "a+b"
      ],
      "metadata": {
        "id": "9CthldLnRbKY",
        "outputId": "f55e900b-90a3-463a-fc1f-690d11088cb9",
        "colab": {
          "base_uri": "https://localhost:8080/"
        }
      },
      "execution_count": 34,
      "outputs": [
        {
          "output_type": "execute_result",
          "data": {
            "text/plain": [
              "array([[3, 4, 5],\n",
              "       [4, 5, 7]])"
            ]
          },
          "metadata": {},
          "execution_count": 34
        }
      ]
    },
    {
      "cell_type": "code",
      "source": [
        "c = np.array([[1, 2, 3], [4,5,6]])\n",
        "d = np.array([[2,2,2], [0,0,1]])\n",
        "a*b"
      ],
      "metadata": {
        "id": "-jrv2PU7SV6G",
        "outputId": "9d2b5161-5307-40c2-c651-4ff47e3ae08c",
        "colab": {
          "base_uri": "https://localhost:8080/"
        }
      },
      "execution_count": 35,
      "outputs": [
        {
          "output_type": "execute_result",
          "data": {
            "text/plain": [
              "array([[2, 4, 6],\n",
              "       [0, 0, 6]])"
            ]
          },
          "metadata": {},
          "execution_count": 35
        }
      ]
    },
    {
      "cell_type": "code",
      "source": [
        "a = np.array([[1, 2, 3], [4,5,6]])\n",
        "a > 3"
      ],
      "metadata": {
        "id": "myIOSt5eTumd",
        "outputId": "6534730f-492d-4350-d1d9-16c421ed336c",
        "colab": {
          "base_uri": "https://localhost:8080/"
        }
      },
      "execution_count": 36,
      "outputs": [
        {
          "output_type": "execute_result",
          "data": {
            "text/plain": [
              "array([[False, False, False],\n",
              "       [ True,  True,  True]])"
            ]
          },
          "metadata": {},
          "execution_count": 36
        }
      ]
    },
    {
      "cell_type": "code",
      "source": [
        "arr = np.array([\"Hello\", \"Girls\", \"Womakerscode\"]) #aqui eu to verificando se a qtidade de elemento desse vetor é maior q 5\n",
        "len(arr) > 5\n"
      ],
      "metadata": {
        "id": "kv-d6EIdUC9T",
        "outputId": "0577b0cd-8f95-4932-de42-11e02d211975",
        "colab": {
          "base_uri": "https://localhost:8080/"
        }
      },
      "execution_count": 37,
      "outputs": [
        {
          "output_type": "execute_result",
          "data": {
            "text/plain": [
              "False"
            ]
          },
          "metadata": {},
          "execution_count": 37
        }
      ]
    },
    {
      "cell_type": "code",
      "source": [
        "vetorizar_len = np.vectorize(len) #vetorizando matriz: aplica uma funcao pra cada elemento de um array. Nesse caso, pra cada elemento do vetor é maior que cinco\n",
        "vetorizar_len(arr) > 5"
      ],
      "metadata": {
        "id": "SxbCOmqcUXyf",
        "outputId": "86c7e67b-4811-4e4a-d83b-b43a08dfb8dc",
        "colab": {
          "base_uri": "https://localhost:8080/"
        }
      },
      "execution_count": 38,
      "outputs": [
        {
          "output_type": "execute_result",
          "data": {
            "text/plain": [
              "array([False, False,  True])"
            ]
          },
          "metadata": {},
          "execution_count": 38
        }
      ]
    },
    {
      "cell_type": "markdown",
      "source": [
        "### 1. O cliente que teve acidente abaixo da média nos últimos 2 anos, ganhará um desconto no seu seguro. Identifique-os.\n"
      ],
      "metadata": {
        "id": "-kp7eaKRggd8"
      }
    },
    {
      "cell_type": "code",
      "source": [],
      "metadata": {
        "id": "keqUiiYj2Ccj"
      },
      "execution_count": null,
      "outputs": []
    },
    {
      "cell_type": "markdown",
      "source": [
        "### 2. Qual cliente teve pelo menos 2 anos sem cometer acidentes?"
      ],
      "metadata": {
        "id": "hssvZjW4hryJ"
      }
    },
    {
      "cell_type": "code",
      "source": [],
      "metadata": {
        "id": "uAbP-BaznHbG"
      },
      "execution_count": null,
      "outputs": []
    },
    {
      "cell_type": "markdown",
      "source": [
        "### 3. Uma professora quer que seus alunos apliquem a função (3x + 2y + x*y) em um conjunto de dados. Ela dá dois arrays aos estudantes e pede que seja feita essa operação.\n"
      ],
      "metadata": {
        "id": "A1YunPlfnIwj"
      }
    },
    {
      "cell_type": "code",
      "source": [],
      "metadata": {
        "id": "g1S3HA7X2EtH"
      },
      "execution_count": null,
      "outputs": []
    },
    {
      "cell_type": "markdown",
      "source": [
        "### 4. A mesma professora percebeu que houve um erro em todas as provas dos estudantes e esqueceu de anotar a nota de trabalhos apresentados durante o semestre. Já que foi feito em grupo ela vai adicionar a mesma nota para todos os estudantes. No array cada estudante representa uma linha e cada coluna uma prova. Adicione para cada prova de cada estudante os valores: 1, 2, 1."
      ],
      "metadata": {
        "id": "BJGzageWp-XC"
      }
    },
    {
      "cell_type": "code",
      "source": [],
      "metadata": {
        "id": "8mf-__Tc2GBO"
      },
      "execution_count": null,
      "outputs": []
    }
  ]
}