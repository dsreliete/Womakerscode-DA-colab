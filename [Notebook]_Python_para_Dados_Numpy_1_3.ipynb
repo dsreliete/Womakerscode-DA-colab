{
  "nbformat": 4,
  "nbformat_minor": 0,
  "metadata": {
    "colab": {
      "provenance": [],
      "include_colab_link": true
    },
    "kernelspec": {
      "name": "python3",
      "display_name": "Python 3"
    },
    "language_info": {
      "name": "python"
    }
  },
  "cells": [
    {
      "cell_type": "markdown",
      "metadata": {
        "id": "view-in-github",
        "colab_type": "text"
      },
      "source": [
        "<a href=\"https://colab.research.google.com/github/dsreliete/Womakerscode-DA-colab/blob/main/%5BNotebook%5D_Python_para_Dados_Numpy_1_3.ipynb\" target=\"_parent\"><img src=\"https://colab.research.google.com/assets/colab-badge.svg\" alt=\"Open In Colab\"/></a>"
      ]
    },
    {
      "cell_type": "code",
      "execution_count": 2,
      "metadata": {
        "id": "y933Qf_oW3UK"
      },
      "outputs": [],
      "source": [
        "import numpy as np"
      ]
    },
    {
      "cell_type": "code",
      "source": [
        "                    #cli1 cli2 cli3\n",
        "acidentes = np.array([[1, 3, 2], #ano1\n",
        "                    [0, 1, 0],   #ano2\n",
        "                    [2, 1, 4],   #ano3\n",
        "                    [0, 0, 0],   #ano4\n",
        "                    [1, 1, 0]])  #ano5"
      ],
      "metadata": {
        "id": "UCFoCmw6XS6O"
      },
      "execution_count": 3,
      "outputs": []
    },
    {
      "cell_type": "markdown",
      "source": [
        "cada coluna é um cliente e cada linha é o total de aciendentes por cliente por ano"
      ],
      "metadata": {
        "id": "E1x-Di8yLXHH"
      }
    },
    {
      "cell_type": "code",
      "source": [
        "acidentes"
      ],
      "metadata": {
        "colab": {
          "base_uri": "https://localhost:8080/"
        },
        "id": "AJ5uIgKAgVFI",
        "outputId": "42bee31f-2c5a-4751-c1b8-39edfa777979"
      },
      "execution_count": 4,
      "outputs": [
        {
          "output_type": "execute_result",
          "data": {
            "text/plain": [
              "array([[1, 3, 2],\n",
              "       [0, 1, 0],\n",
              "       [2, 1, 4],\n",
              "       [0, 0, 0],\n",
              "       [1, 1, 0]])"
            ]
          },
          "metadata": {},
          "execution_count": 4
        }
      ]
    },
    {
      "cell_type": "markdown",
      "source": [
        "Soma de acidentes de todos os clientes por ano"
      ],
      "metadata": {
        "id": "uzjRS2mpKuEg"
      }
    },
    {
      "cell_type": "code",
      "source": [
        "acidentes.sum(axis=1)"
      ],
      "metadata": {
        "id": "w8KKQg9fKpFb",
        "outputId": "53c1bcd2-39c7-475b-d177-3f6d2a2d7212",
        "colab": {
          "base_uri": "https://localhost:8080/"
        }
      },
      "execution_count": 5,
      "outputs": [
        {
          "output_type": "execute_result",
          "data": {
            "text/plain": [
              "array([6, 1, 7, 0, 2])"
            ]
          },
          "metadata": {},
          "execution_count": 5
        }
      ]
    },
    {
      "cell_type": "markdown",
      "source": [
        "soma de acidentes por cliente em todos os anos"
      ],
      "metadata": {
        "id": "T6-FSzGLK5zz"
      }
    },
    {
      "cell_type": "code",
      "source": [
        "acidentes.sum(axis=0)"
      ],
      "metadata": {
        "id": "p4tv3ATHK-Df",
        "outputId": "f757cf89-032b-43b4-b593-598f1ce8c51c",
        "colab": {
          "base_uri": "https://localhost:8080/"
        }
      },
      "execution_count": 6,
      "outputs": [
        {
          "output_type": "execute_result",
          "data": {
            "text/plain": [
              "array([4, 6, 6])"
            ]
          },
          "metadata": {},
          "execution_count": 6
        }
      ]
    },
    {
      "cell_type": "code",
      "source": [
        "acidentes.min() #maior numero de acidentes"
      ],
      "metadata": {
        "id": "HBPeT_7gMWJQ",
        "outputId": "8dbf8ad3-6994-4f59-bc4e-d8b06185096a",
        "colab": {
          "base_uri": "https://localhost:8080/"
        }
      },
      "execution_count": 7,
      "outputs": [
        {
          "output_type": "execute_result",
          "data": {
            "text/plain": [
              "0"
            ]
          },
          "metadata": {},
          "execution_count": 7
        }
      ]
    },
    {
      "cell_type": "code",
      "source": [
        "acidentes.max() #menor numero de acidentes"
      ],
      "metadata": {
        "id": "XSM5-L0jMbhs",
        "outputId": "94d7a0f8-7e6b-456d-f4a9-b3c9f069b2f4",
        "colab": {
          "base_uri": "https://localhost:8080/"
        }
      },
      "execution_count": 8,
      "outputs": [
        {
          "output_type": "execute_result",
          "data": {
            "text/plain": [
              "4"
            ]
          },
          "metadata": {},
          "execution_count": 8
        }
      ]
    },
    {
      "cell_type": "code",
      "source": [
        "acidentes.max(axis=1) #maior numero de acidentes por ano"
      ],
      "metadata": {
        "id": "geLP-tFpMadE",
        "outputId": "1ba80c76-98a2-4ebc-fcc5-523432138f08",
        "colab": {
          "base_uri": "https://localhost:8080/"
        }
      },
      "execution_count": 9,
      "outputs": [
        {
          "output_type": "execute_result",
          "data": {
            "text/plain": [
              "array([3, 1, 4, 0, 1])"
            ]
          },
          "metadata": {},
          "execution_count": 9
        }
      ]
    },
    {
      "cell_type": "code",
      "source": [
        "acidentes.min(axis=1) #menor numero de acidentes por ano"
      ],
      "metadata": {
        "id": "JGYr0p0JMa5-",
        "outputId": "e8b69713-c838-4c60-949b-464efc38b97e",
        "colab": {
          "base_uri": "https://localhost:8080/"
        }
      },
      "execution_count": 10,
      "outputs": [
        {
          "output_type": "execute_result",
          "data": {
            "text/plain": [
              "array([1, 0, 1, 0, 0])"
            ]
          },
          "metadata": {},
          "execution_count": 10
        }
      ]
    },
    {
      "cell_type": "code",
      "source": [
        "acidentes.max(axis=0) #maior numero de acidentes por cliente"
      ],
      "metadata": {
        "id": "QDeaavsvMbA_",
        "outputId": "25e321a1-77b1-45af-cf6d-49dc76919c89",
        "colab": {
          "base_uri": "https://localhost:8080/"
        }
      },
      "execution_count": 11,
      "outputs": [
        {
          "output_type": "execute_result",
          "data": {
            "text/plain": [
              "array([2, 3, 4])"
            ]
          },
          "metadata": {},
          "execution_count": 11
        }
      ]
    },
    {
      "cell_type": "code",
      "source": [
        "acidentes.min(axis=0) #menor numero de acidentes por cliente"
      ],
      "metadata": {
        "id": "LrNKK_hzNcCE",
        "outputId": "74fd2ad8-e07d-4f58-d86d-78aee0911854",
        "colab": {
          "base_uri": "https://localhost:8080/"
        }
      },
      "execution_count": 12,
      "outputs": [
        {
          "output_type": "execute_result",
          "data": {
            "text/plain": [
              "array([0, 0, 0])"
            ]
          },
          "metadata": {},
          "execution_count": 12
        }
      ]
    },
    {
      "cell_type": "code",
      "source": [
        "acidentes.mean() #media de acidentes"
      ],
      "metadata": {
        "id": "72fXp8OtOX1z",
        "outputId": "4c5565fb-b7f9-4c2b-efb5-4c953f5a1048",
        "colab": {
          "base_uri": "https://localhost:8080/"
        }
      },
      "execution_count": 13,
      "outputs": [
        {
          "output_type": "execute_result",
          "data": {
            "text/plain": [
              "1.0666666666666667"
            ]
          },
          "metadata": {},
          "execution_count": 13
        }
      ]
    },
    {
      "cell_type": "code",
      "source": [
        "acidentes.mean(axis=1) #media de acidentes por ano de todos os clientes"
      ],
      "metadata": {
        "id": "il4X0aR5OX7g",
        "outputId": "d76e62ed-ffc2-4c4a-dfa6-5980bcecc26a",
        "colab": {
          "base_uri": "https://localhost:8080/"
        }
      },
      "execution_count": 14,
      "outputs": [
        {
          "output_type": "execute_result",
          "data": {
            "text/plain": [
              "array([2.        , 0.33333333, 2.33333333, 0.        , 0.66666667])"
            ]
          },
          "metadata": {},
          "execution_count": 14
        }
      ]
    },
    {
      "cell_type": "code",
      "source": [
        "acidentes.mean(axis=0) #media de acidentes por cliente de todos os anos"
      ],
      "metadata": {
        "id": "KLDroRA6OYBw",
        "outputId": "681bdeed-390f-45d2-dbb2-d1792e28b75d",
        "colab": {
          "base_uri": "https://localhost:8080/"
        }
      },
      "execution_count": 15,
      "outputs": [
        {
          "output_type": "execute_result",
          "data": {
            "text/plain": [
              "array([0.8, 1.2, 1.2])"
            ]
          },
          "metadata": {},
          "execution_count": 15
        }
      ]
    },
    {
      "cell_type": "code",
      "source": [
        "acidentes.mean(axis=0).shape"
      ],
      "metadata": {
        "id": "QZzCYz6qEJSA",
        "outputId": "fd2f1317-52b8-416a-c316-bcf016260e02",
        "colab": {
          "base_uri": "https://localhost:8080/"
        }
      },
      "execution_count": 16,
      "outputs": [
        {
          "output_type": "execute_result",
          "data": {
            "text/plain": [
              "(3,)"
            ]
          },
          "metadata": {},
          "execution_count": 16
        }
      ]
    },
    {
      "cell_type": "code",
      "source": [
        "acidentes.mean(axis=0, keepdims=True) #media de acidentes por cliente de todos os anos mantendo a dimensao"
      ],
      "metadata": {
        "id": "F8m3LlHvOYKW",
        "outputId": "29a60a71-c702-420a-8115-78d88785f5c4",
        "colab": {
          "base_uri": "https://localhost:8080/"
        }
      },
      "execution_count": 17,
      "outputs": [
        {
          "output_type": "execute_result",
          "data": {
            "text/plain": [
              "array([[0.8, 1.2, 1.2]])"
            ]
          },
          "metadata": {},
          "execution_count": 17
        }
      ]
    },
    {
      "cell_type": "code",
      "source": [
        "acidentes.mean(axis=0, keepdims=True).shape"
      ],
      "metadata": {
        "id": "Sx5ungz7Dyvm",
        "outputId": "165c6f76-e952-4dbe-b653-669f60055d44",
        "colab": {
          "base_uri": "https://localhost:8080/"
        }
      },
      "execution_count": 18,
      "outputs": [
        {
          "output_type": "execute_result",
          "data": {
            "text/plain": [
              "(1, 3)"
            ]
          },
          "metadata": {},
          "execution_count": 18
        }
      ]
    },
    {
      "cell_type": "code",
      "source": [
        "acidentes.mean(axis=1, keepdims=True) #media de acidentes por ano de todos os clientes mantendo a dimensao"
      ],
      "metadata": {
        "id": "mrnKasNTRIRZ",
        "outputId": "71429ae5-f2ed-46c3-e68b-0c95d408cdbb",
        "colab": {
          "base_uri": "https://localhost:8080/"
        }
      },
      "execution_count": 19,
      "outputs": [
        {
          "output_type": "execute_result",
          "data": {
            "text/plain": [
              "array([[2.        ],\n",
              "       [0.33333333],\n",
              "       [2.33333333],\n",
              "       [0.        ],\n",
              "       [0.66666667]])"
            ]
          },
          "metadata": {},
          "execution_count": 19
        }
      ]
    },
    {
      "cell_type": "code",
      "source": [
        "acidentes.mean(axis=1, keepdims=True).shape"
      ],
      "metadata": {
        "id": "rsm4CjJLEVBu",
        "outputId": "2211e45f-bbf0-4bed-d2cb-5552af6c7c3e",
        "colab": {
          "base_uri": "https://localhost:8080/"
        }
      },
      "execution_count": 20,
      "outputs": [
        {
          "output_type": "execute_result",
          "data": {
            "text/plain": [
              "(5, 1)"
            ]
          },
          "metadata": {},
          "execution_count": 20
        }
      ]
    },
    {
      "cell_type": "code",
      "source": [
        "acidentes.mean(axis=1).shape"
      ],
      "metadata": {
        "id": "FUtNEywIEd_g",
        "outputId": "100976f6-a3d9-42d0-f737-4734e90f81f9",
        "colab": {
          "base_uri": "https://localhost:8080/"
        }
      },
      "execution_count": 21,
      "outputs": [
        {
          "output_type": "execute_result",
          "data": {
            "text/plain": [
              "(5,)"
            ]
          },
          "metadata": {},
          "execution_count": 21
        }
      ]
    },
    {
      "cell_type": "code",
      "source": [
        "acidentes.cumsum(axis=0) #soma acumulada de acidentes por cliente de todos os anos"
      ],
      "metadata": {
        "id": "S45L4uRvSHtm",
        "outputId": "13d1fb5a-b0fd-4522-e21e-91fb94c1e510",
        "colab": {
          "base_uri": "https://localhost:8080/"
        }
      },
      "execution_count": 22,
      "outputs": [
        {
          "output_type": "execute_result",
          "data": {
            "text/plain": [
              "array([[1, 3, 2],\n",
              "       [1, 4, 2],\n",
              "       [3, 5, 6],\n",
              "       [3, 5, 6],\n",
              "       [4, 6, 6]])"
            ]
          },
          "metadata": {},
          "execution_count": 22
        }
      ]
    },
    {
      "cell_type": "code",
      "source": [
        "acidentes.cumsum(axis=1) #soma acumulada de acidentes por ano de todos os clientes"
      ],
      "metadata": {
        "id": "HYJo-Q1GSQXd",
        "outputId": "0504899f-adb8-44bb-c6f6-f1baedabf0f4",
        "colab": {
          "base_uri": "https://localhost:8080/"
        }
      },
      "execution_count": 23,
      "outputs": [
        {
          "output_type": "execute_result",
          "data": {
            "text/plain": [
              "array([[1, 4, 6],\n",
              "       [0, 1, 1],\n",
              "       [2, 3, 7],\n",
              "       [0, 0, 0],\n",
              "       [1, 2, 2]])"
            ]
          },
          "metadata": {},
          "execution_count": 23
        }
      ]
    },
    {
      "cell_type": "markdown",
      "source": [
        "**Cartela de Bingo 2**\n"
      ],
      "metadata": {
        "id": "gYrfSYkuFHy3"
      }
    },
    {
      "cell_type": "code",
      "source": [
        "cartela_bingo = np.random.randint(0,10, (4,4))\n",
        "cartela_bingo"
      ],
      "metadata": {
        "id": "IwCBHPrvE-Xa",
        "outputId": "cbb4b731-b652-46d1-aacf-e576f6fdbe23",
        "colab": {
          "base_uri": "https://localhost:8080/"
        }
      },
      "execution_count": 24,
      "outputs": [
        {
          "output_type": "execute_result",
          "data": {
            "text/plain": [
              "array([[8, 5, 4, 8],\n",
              "       [3, 4, 5, 3],\n",
              "       [2, 9, 5, 4],\n",
              "       [2, 6, 9, 3]])"
            ]
          },
          "metadata": {},
          "execution_count": 24
        }
      ]
    },
    {
      "cell_type": "code",
      "source": [
        "cartela_bingo1 = cartela_bingo[:3]\n",
        "cartela_bingo1"
      ],
      "metadata": {
        "id": "K20bpfXME-hz",
        "outputId": "5d1f902b-b9c7-4a22-df32-c18cd68afcc8",
        "colab": {
          "base_uri": "https://localhost:8080/"
        }
      },
      "execution_count": 25,
      "outputs": [
        {
          "output_type": "execute_result",
          "data": {
            "text/plain": [
              "array([[8, 5, 4, 8],\n",
              "       [3, 4, 5, 3],\n",
              "       [2, 9, 5, 4]])"
            ]
          },
          "metadata": {},
          "execution_count": 25
        }
      ]
    },
    {
      "cell_type": "code",
      "source": [
        "cartela_bingo2 = cartela_bingo[-1:]\n",
        "cartela_bingo2"
      ],
      "metadata": {
        "id": "CtD8nHjEE-kY",
        "outputId": "5adde7d7-8896-445f-c30e-aa4d3651f089",
        "colab": {
          "base_uri": "https://localhost:8080/"
        }
      },
      "execution_count": 26,
      "outputs": [
        {
          "output_type": "execute_result",
          "data": {
            "text/plain": [
              "array([[2, 6, 9, 3]])"
            ]
          },
          "metadata": {},
          "execution_count": 26
        }
      ]
    },
    {
      "cell_type": "code",
      "source": [
        "np.concatenate((cartela_bingo1, cartela_bingo2))"
      ],
      "metadata": {
        "id": "3ge5sN3QE-mv",
        "outputId": "d3d34a69-e26a-4514-a365-1d9ca72aadb8",
        "colab": {
          "base_uri": "https://localhost:8080/"
        }
      },
      "execution_count": 27,
      "outputs": [
        {
          "output_type": "execute_result",
          "data": {
            "text/plain": [
              "array([[8, 5, 4, 8],\n",
              "       [3, 4, 5, 3],\n",
              "       [2, 9, 5, 4],\n",
              "       [2, 6, 9, 3]])"
            ]
          },
          "metadata": {},
          "execution_count": 27
        }
      ]
    },
    {
      "cell_type": "code",
      "source": [
        "cartela_bingo == np.concatenate((cartela_bingo1, cartela_bingo2))"
      ],
      "metadata": {
        "id": "03_jTeudE-pI",
        "outputId": "1c90d31d-a79e-48fb-e507-2526d7613281",
        "colab": {
          "base_uri": "https://localhost:8080/"
        }
      },
      "execution_count": 28,
      "outputs": [
        {
          "output_type": "execute_result",
          "data": {
            "text/plain": [
              "array([[ True,  True,  True,  True],\n",
              "       [ True,  True,  True,  True],\n",
              "       [ True,  True,  True,  True],\n",
              "       [ True,  True,  True,  True]])"
            ]
          },
          "metadata": {},
          "execution_count": 28
        }
      ]
    },
    {
      "cell_type": "code",
      "source": [
        "np.delete(cartela_bingo, 1, axis=1) #eixo 1 é sempre as colunas"
      ],
      "metadata": {
        "id": "9mTuiQAbE-th",
        "outputId": "64e97a0d-5593-48bd-f6e3-40617a2283cb",
        "colab": {
          "base_uri": "https://localhost:8080/"
        }
      },
      "execution_count": 29,
      "outputs": [
        {
          "output_type": "execute_result",
          "data": {
            "text/plain": [
              "array([[8, 4, 8],\n",
              "       [3, 5, 3],\n",
              "       [2, 5, 4],\n",
              "       [2, 9, 3]])"
            ]
          },
          "metadata": {},
          "execution_count": 29
        }
      ]
    },
    {
      "cell_type": "code",
      "source": [
        "np.delete(cartela_bingo, 1, axis=0) #eixo 0 é sempre as linhas"
      ],
      "metadata": {
        "id": "yilO2EADE-vn",
        "outputId": "5bfeed75-d858-421f-d350-6fb0afae5156",
        "colab": {
          "base_uri": "https://localhost:8080/"
        }
      },
      "execution_count": 30,
      "outputs": [
        {
          "output_type": "execute_result",
          "data": {
            "text/plain": [
              "array([[8, 5, 4, 8],\n",
              "       [2, 9, 5, 4],\n",
              "       [2, 6, 9, 3]])"
            ]
          },
          "metadata": {},
          "execution_count": 30
        }
      ]
    },
    {
      "cell_type": "markdown",
      "source": [
        "**Aritmetica**"
      ],
      "metadata": {
        "id": "huQt5l42QXIr"
      }
    },
    {
      "cell_type": "code",
      "source": [
        "arr = np.array([[1, 2, 3],\n",
        "                [4, 5, 6]])\n",
        "arr += 3\n",
        "arr"
      ],
      "metadata": {
        "id": "3M0k7l2UQgVZ",
        "outputId": "a22b59be-3685-4d81-c0e9-61232f2b0b0c",
        "colab": {
          "base_uri": "https://localhost:8080/"
        }
      },
      "execution_count": 31,
      "outputs": [
        {
          "output_type": "execute_result",
          "data": {
            "text/plain": [
              "array([[4, 5, 6],\n",
              "       [7, 8, 9]])"
            ]
          },
          "metadata": {},
          "execution_count": 31
        }
      ]
    },
    {
      "cell_type": "code",
      "source": [
        "arr2 = np.array([[1, 2, 3],\n",
        "                [4, 5, 6]])\n",
        "arr2 *= 5\n",
        "arr2"
      ],
      "metadata": {
        "id": "CyReRR50Q6OS",
        "outputId": "6e09b7e1-4d48-402c-e4cd-acaaf23a2629",
        "colab": {
          "base_uri": "https://localhost:8080/"
        }
      },
      "execution_count": 32,
      "outputs": [
        {
          "output_type": "execute_result",
          "data": {
            "text/plain": [
              "array([[ 5, 10, 15],\n",
              "       [20, 25, 30]])"
            ]
          },
          "metadata": {},
          "execution_count": 32
        }
      ]
    },
    {
      "cell_type": "code",
      "source": [
        "a = np.array([[1, 2, 3], [4,5,6]]) #operaçao permitida pelo numpy pq os arrays a e b tem o mesmo tamanho\n",
        "b = np.array([[2,2,2], [0,0,1]])\n",
        "a+b"
      ],
      "metadata": {
        "id": "9CthldLnRbKY",
        "outputId": "6339b4be-42d3-4af3-dda6-4cb4560c90ee",
        "colab": {
          "base_uri": "https://localhost:8080/"
        }
      },
      "execution_count": 33,
      "outputs": [
        {
          "output_type": "execute_result",
          "data": {
            "text/plain": [
              "array([[3, 4, 5],\n",
              "       [4, 5, 7]])"
            ]
          },
          "metadata": {},
          "execution_count": 33
        }
      ]
    },
    {
      "cell_type": "code",
      "source": [
        "c = np.array([[1, 2, 3], [4,5,6]])\n",
        "d = np.array([[2,2,2], [0,0,1]])\n",
        "a*b"
      ],
      "metadata": {
        "id": "-jrv2PU7SV6G",
        "outputId": "4ef0fad2-b334-4c9e-83f7-cf7fe654ac5b",
        "colab": {
          "base_uri": "https://localhost:8080/"
        }
      },
      "execution_count": 34,
      "outputs": [
        {
          "output_type": "execute_result",
          "data": {
            "text/plain": [
              "array([[2, 4, 6],\n",
              "       [0, 0, 6]])"
            ]
          },
          "metadata": {},
          "execution_count": 34
        }
      ]
    },
    {
      "cell_type": "code",
      "source": [
        "a = np.array([[1, 2, 3], [4,5,6]])\n",
        "a > 3"
      ],
      "metadata": {
        "id": "myIOSt5eTumd",
        "outputId": "3ca44c0b-798f-4e38-b090-805bb3792acb",
        "colab": {
          "base_uri": "https://localhost:8080/"
        }
      },
      "execution_count": 35,
      "outputs": [
        {
          "output_type": "execute_result",
          "data": {
            "text/plain": [
              "array([[False, False, False],\n",
              "       [ True,  True,  True]])"
            ]
          },
          "metadata": {},
          "execution_count": 35
        }
      ]
    },
    {
      "cell_type": "code",
      "source": [
        "arr = np.array([\"Hello\", \"Girls\", \"Womakerscode\"]) #aqui eu to verificando se a qtidade de elemento desse vetor é maior q 5\n",
        "len(arr) > 5\n"
      ],
      "metadata": {
        "id": "kv-d6EIdUC9T",
        "outputId": "b42b47d8-f407-43aa-fc3a-19f35b90aa16",
        "colab": {
          "base_uri": "https://localhost:8080/"
        }
      },
      "execution_count": 36,
      "outputs": [
        {
          "output_type": "execute_result",
          "data": {
            "text/plain": [
              "False"
            ]
          },
          "metadata": {},
          "execution_count": 36
        }
      ]
    },
    {
      "cell_type": "code",
      "source": [
        "vetorizar_len = np.vectorize(len) #vetorizando matriz: aplica uma funcao pra cada elemento de um array. Nesse caso, pra cada elemento do vetor é maior que cinco\n",
        "vetorizar_len(arr) > 5"
      ],
      "metadata": {
        "id": "SxbCOmqcUXyf",
        "outputId": "7c9d4ca5-3745-4228-d12c-c4ba98842ee6",
        "colab": {
          "base_uri": "https://localhost:8080/"
        }
      },
      "execution_count": 37,
      "outputs": [
        {
          "output_type": "execute_result",
          "data": {
            "text/plain": [
              "array([False, False,  True])"
            ]
          },
          "metadata": {},
          "execution_count": 37
        }
      ]
    },
    {
      "cell_type": "code",
      "source": [
        "def minha_funcao(x):\n",
        "  return x**2 + 3*x + 1\n",
        "\n",
        "funcao_vetorizada = np.vectorize(minha_funcao)\n",
        "funcao_vetorizada(np.array([1,2,3,4,5]))"
      ],
      "metadata": {
        "id": "YnD2ud0aXegY",
        "outputId": "3d82f38b-29b7-433b-a7a3-8a20b48a57a9",
        "colab": {
          "base_uri": "https://localhost:8080/"
        }
      },
      "execution_count": 38,
      "outputs": [
        {
          "output_type": "execute_result",
          "data": {
            "text/plain": [
              "array([ 5, 11, 19, 29, 41])"
            ]
          },
          "metadata": {},
          "execution_count": 38
        }
      ]
    },
    {
      "cell_type": "code",
      "source": [
        "e = np.array([[1, 2], [4,5], [7,8]])\n",
        "\n",
        "f = np.array([1,0,-1]).reshape(3,1)\n",
        "\n",
        "e + f"
      ],
      "metadata": {
        "id": "dEhYz_t7YNCR",
        "outputId": "f67131bf-aea4-4088-e3cb-2c9d8ec07e93",
        "colab": {
          "base_uri": "https://localhost:8080/"
        }
      },
      "execution_count": 39,
      "outputs": [
        {
          "output_type": "execute_result",
          "data": {
            "text/plain": [
              "array([[2, 3],\n",
              "       [4, 5],\n",
              "       [6, 7]])"
            ]
          },
          "metadata": {},
          "execution_count": 39
        }
      ]
    },
    {
      "cell_type": "code",
      "source": [
        "arr10 = np.arange(10)\n",
        "arr10"
      ],
      "metadata": {
        "id": "PJyeway1bep_",
        "outputId": "7d950a8b-7d4d-4569-ed35-c9be9da068d0",
        "colab": {
          "base_uri": "https://localhost:8080/"
        }
      },
      "execution_count": 40,
      "outputs": [
        {
          "output_type": "execute_result",
          "data": {
            "text/plain": [
              "array([0, 1, 2, 3, 4, 5, 6, 7, 8, 9])"
            ]
          },
          "metadata": {},
          "execution_count": 40
        }
      ]
    },
    {
      "cell_type": "code",
      "source": [
        "arr10 = np.arange(10).reshape(2,5)\n",
        "arr10"
      ],
      "metadata": {
        "id": "T91fqogFbygB",
        "outputId": "db86892c-ffb9-4e1b-97e1-a319700e7395",
        "colab": {
          "base_uri": "https://localhost:8080/"
        }
      },
      "execution_count": 41,
      "outputs": [
        {
          "output_type": "execute_result",
          "data": {
            "text/plain": [
              "array([[0, 1, 2, 3, 4],\n",
              "       [5, 6, 7, 8, 9]])"
            ]
          },
          "metadata": {},
          "execution_count": 41
        }
      ]
    },
    {
      "cell_type": "code",
      "source": [
        "arr5 = np.array([1,2,3,4,5])\n",
        "arr5"
      ],
      "metadata": {
        "id": "_GaOxgIBb5VW",
        "outputId": "bd8dcfe2-eb7b-4890-f442-d5d5d1afde6c",
        "colab": {
          "base_uri": "https://localhost:8080/"
        }
      },
      "execution_count": 42,
      "outputs": [
        {
          "output_type": "execute_result",
          "data": {
            "text/plain": [
              "array([1, 2, 3, 4, 5])"
            ]
          },
          "metadata": {},
          "execution_count": 42
        }
      ]
    },
    {
      "cell_type": "code",
      "source": [
        "arr10.shape, arr5.shape"
      ],
      "metadata": {
        "id": "uYCExlzwcUiH",
        "outputId": "33bfc55e-65c8-4df4-f28f-fea094b44401",
        "colab": {
          "base_uri": "https://localhost:8080/"
        }
      },
      "execution_count": 43,
      "outputs": [
        {
          "output_type": "execute_result",
          "data": {
            "text/plain": [
              "((2, 5), (5,))"
            ]
          },
          "metadata": {},
          "execution_count": 43
        }
      ]
    },
    {
      "cell_type": "code",
      "source": [
        "arr10 + arr5"
      ],
      "metadata": {
        "id": "B_AT64CBcaTd",
        "outputId": "282a46bd-0cf4-4437-f6b6-d5d05afd6246",
        "colab": {
          "base_uri": "https://localhost:8080/"
        }
      },
      "execution_count": 44,
      "outputs": [
        {
          "output_type": "execute_result",
          "data": {
            "text/plain": [
              "array([[ 1,  3,  5,  7,  9],\n",
              "       [ 6,  8, 10, 12, 14]])"
            ]
          },
          "metadata": {},
          "execution_count": 44
        }
      ]
    },
    {
      "cell_type": "code",
      "source": [
        "arr10 = np.arange(10).reshape(2,5)\n",
        "arr10\n",
        "\n",
        "arr5 = np.array([2,1]).reshape(2,1)\n",
        "arr5\n",
        "\n",
        "arr10/arr5"
      ],
      "metadata": {
        "id": "y4YnqKgZerEo",
        "outputId": "d80b37f6-d421-4ad0-91e5-7b3968ab391f",
        "colab": {
          "base_uri": "https://localhost:8080/"
        }
      },
      "execution_count": 45,
      "outputs": [
        {
          "output_type": "execute_result",
          "data": {
            "text/plain": [
              "array([[0. , 0.5, 1. , 1.5, 2. ],\n",
              "       [5. , 6. , 7. , 8. , 9. ]])"
            ]
          },
          "metadata": {},
          "execution_count": 45
        }
      ]
    },
    {
      "cell_type": "code",
      "source": [],
      "metadata": {
        "id": "lp7Cx32tfQim"
      },
      "execution_count": 45,
      "outputs": []
    },
    {
      "cell_type": "markdown",
      "source": [
        "### 1. O cliente que teve acidente abaixo da média nos últimos 2 anos, ganhará um desconto no seu seguro. Identifique-os.\n"
      ],
      "metadata": {
        "id": "-kp7eaKRggd8"
      }
    },
    {
      "cell_type": "code",
      "source": [],
      "metadata": {
        "id": "keqUiiYj2Ccj"
      },
      "execution_count": 45,
      "outputs": []
    },
    {
      "cell_type": "markdown",
      "source": [
        "### 2. Qual cliente teve pelo menos 2 anos sem cometer acidentes?"
      ],
      "metadata": {
        "id": "hssvZjW4hryJ"
      }
    },
    {
      "cell_type": "code",
      "source": [],
      "metadata": {
        "id": "uAbP-BaznHbG"
      },
      "execution_count": 45,
      "outputs": []
    },
    {
      "cell_type": "markdown",
      "source": [
        "### 3. Uma professora quer que seus alunos apliquem a função (3x + 2y + x*y) em um conjunto de dados. Ela dá dois arrays aos estudantes e pede que seja feita essa operação.\n"
      ],
      "metadata": {
        "id": "A1YunPlfnIwj"
      }
    },
    {
      "cell_type": "code",
      "source": [],
      "metadata": {
        "id": "g1S3HA7X2EtH"
      },
      "execution_count": 45,
      "outputs": []
    },
    {
      "cell_type": "markdown",
      "source": [
        "### 4. A mesma professora percebeu que houve um erro em todas as provas dos estudantes e esqueceu de anotar a nota de trabalhos apresentados durante o semestre. Já que foi feito em grupo ela vai adicionar a mesma nota para todos os estudantes. No array cada estudante representa uma linha e cada coluna uma prova. Adicione para cada prova de cada estudante os valores: 1, 2, 1."
      ],
      "metadata": {
        "id": "BJGzageWp-XC"
      }
    },
    {
      "cell_type": "code",
      "source": [
        "                      #P1 P2 P3\n",
        "arr_notas = np.array([[1, 2, 1],  #aluno1\n",
        "                      [1, 2, 1],  #aluno2\n",
        "                      [1, 2, 1]]) #aluno1\n",
        "arr_notas"
      ],
      "metadata": {
        "id": "8mf-__Tc2GBO",
        "outputId": "9c165ddd-aadf-4cdf-b275-a820b6459783",
        "colab": {
          "base_uri": "https://localhost:8080/"
        }
      },
      "execution_count": 46,
      "outputs": [
        {
          "output_type": "execute_result",
          "data": {
            "text/plain": [
              "array([[1, 2, 1],\n",
              "       [1, 2, 1],\n",
              "       [1, 2, 1]])"
            ]
          },
          "metadata": {},
          "execution_count": 46
        }
      ]
    },
    {
      "cell_type": "code",
      "source": [
        "arr_notas.shape"
      ],
      "metadata": {
        "id": "a-FR4isOgsYj",
        "outputId": "787e5e07-642a-4f10-d69d-f013c9d52690",
        "colab": {
          "base_uri": "https://localhost:8080/"
        }
      },
      "execution_count": 47,
      "outputs": [
        {
          "output_type": "execute_result",
          "data": {
            "text/plain": [
              "(3, 3)"
            ]
          },
          "metadata": {},
          "execution_count": 47
        }
      ]
    }
  ]
}