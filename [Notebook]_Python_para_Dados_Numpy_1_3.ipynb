{
  "nbformat": 4,
  "nbformat_minor": 0,
  "metadata": {
    "colab": {
      "provenance": [],
      "include_colab_link": true
    },
    "kernelspec": {
      "name": "python3",
      "display_name": "Python 3"
    },
    "language_info": {
      "name": "python"
    }
  },
  "cells": [
    {
      "cell_type": "markdown",
      "metadata": {
        "id": "view-in-github",
        "colab_type": "text"
      },
      "source": [
        "<a href=\"https://colab.research.google.com/github/dsreliete/Womakerscode-DA-colab/blob/main/%5BNotebook%5D_Python_para_Dados_Numpy_1_3.ipynb\" target=\"_parent\"><img src=\"https://colab.research.google.com/assets/colab-badge.svg\" alt=\"Open In Colab\"/></a>"
      ]
    },
    {
      "cell_type": "code",
      "execution_count": 3,
      "metadata": {
        "id": "y933Qf_oW3UK"
      },
      "outputs": [],
      "source": [
        "import numpy as np"
      ]
    },
    {
      "cell_type": "code",
      "source": [
        "                    #cli1 cli2 cli3\n",
        "acidentes = np.array([[1, 3, 2], #ano1\n",
        "                    [0, 1, 0],   #ano2\n",
        "                    [2, 1, 4],   #ano3\n",
        "                    [0, 0, 0],   #ano4\n",
        "                    [1, 1, 0]])  #ano5"
      ],
      "metadata": {
        "id": "UCFoCmw6XS6O"
      },
      "execution_count": 4,
      "outputs": []
    },
    {
      "cell_type": "markdown",
      "source": [
        "cada coluna é um cliente e cada linha é o total de aciendentes por cliente por ano"
      ],
      "metadata": {
        "id": "E1x-Di8yLXHH"
      }
    },
    {
      "cell_type": "code",
      "source": [
        "acidentes"
      ],
      "metadata": {
        "colab": {
          "base_uri": "https://localhost:8080/"
        },
        "id": "AJ5uIgKAgVFI",
        "outputId": "4967ff44-4115-4991-d1f9-b713f93f2f8b"
      },
      "execution_count": 5,
      "outputs": [
        {
          "output_type": "execute_result",
          "data": {
            "text/plain": [
              "array([[1, 3, 2],\n",
              "       [0, 1, 0],\n",
              "       [2, 1, 4],\n",
              "       [0, 0, 0],\n",
              "       [1, 1, 0]])"
            ]
          },
          "metadata": {},
          "execution_count": 5
        }
      ]
    },
    {
      "cell_type": "markdown",
      "source": [
        "Soma de acidentes de todos os clientes por ano"
      ],
      "metadata": {
        "id": "uzjRS2mpKuEg"
      }
    },
    {
      "cell_type": "code",
      "source": [
        "acidentes.sum(axis=1)"
      ],
      "metadata": {
        "id": "w8KKQg9fKpFb",
        "outputId": "0f65fbe7-0ea0-4620-c804-a7baf288bbe6",
        "colab": {
          "base_uri": "https://localhost:8080/"
        }
      },
      "execution_count": null,
      "outputs": [
        {
          "output_type": "execute_result",
          "data": {
            "text/plain": [
              "array([6, 1, 7, 0, 2])"
            ]
          },
          "metadata": {},
          "execution_count": 4
        }
      ]
    },
    {
      "cell_type": "markdown",
      "source": [
        "soma de acidentes por cliente em todos os anos"
      ],
      "metadata": {
        "id": "T6-FSzGLK5zz"
      }
    },
    {
      "cell_type": "code",
      "source": [
        "acidentes.sum(axis=0)"
      ],
      "metadata": {
        "id": "p4tv3ATHK-Df",
        "outputId": "b3029aa6-8d17-4157-fee9-33a7a722988c",
        "colab": {
          "base_uri": "https://localhost:8080/"
        }
      },
      "execution_count": null,
      "outputs": [
        {
          "output_type": "execute_result",
          "data": {
            "text/plain": [
              "array([4, 6, 6])"
            ]
          },
          "metadata": {},
          "execution_count": 5
        }
      ]
    },
    {
      "cell_type": "code",
      "source": [
        "acidentes.min() #maior numero de acidentes"
      ],
      "metadata": {
        "id": "HBPeT_7gMWJQ",
        "outputId": "98b344b6-321d-4784-cebb-48c0be8920e9",
        "colab": {
          "base_uri": "https://localhost:8080/"
        }
      },
      "execution_count": null,
      "outputs": [
        {
          "output_type": "execute_result",
          "data": {
            "text/plain": [
              "0"
            ]
          },
          "metadata": {},
          "execution_count": 6
        }
      ]
    },
    {
      "cell_type": "code",
      "source": [
        "acidentes.max() #menor numero de acidentes"
      ],
      "metadata": {
        "id": "XSM5-L0jMbhs",
        "outputId": "2f81a8a0-6cfa-434b-ba86-8326b9db91e7",
        "colab": {
          "base_uri": "https://localhost:8080/"
        }
      },
      "execution_count": null,
      "outputs": [
        {
          "output_type": "execute_result",
          "data": {
            "text/plain": [
              "4"
            ]
          },
          "metadata": {},
          "execution_count": 7
        }
      ]
    },
    {
      "cell_type": "code",
      "source": [
        "acidentes.max(axis=1) #maior numero de acidentes por ano"
      ],
      "metadata": {
        "id": "geLP-tFpMadE",
        "outputId": "2d5fa4c5-7bad-483a-b7a6-21fcf91297ea",
        "colab": {
          "base_uri": "https://localhost:8080/"
        }
      },
      "execution_count": null,
      "outputs": [
        {
          "output_type": "execute_result",
          "data": {
            "text/plain": [
              "array([3, 1, 4, 0, 1])"
            ]
          },
          "metadata": {},
          "execution_count": 8
        }
      ]
    },
    {
      "cell_type": "code",
      "source": [
        "acidentes.min(axis=1) #menor numero de acidentes por ano"
      ],
      "metadata": {
        "id": "JGYr0p0JMa5-",
        "outputId": "8bc78658-5afc-4bd2-f109-01179bdacd30",
        "colab": {
          "base_uri": "https://localhost:8080/"
        }
      },
      "execution_count": null,
      "outputs": [
        {
          "output_type": "execute_result",
          "data": {
            "text/plain": [
              "array([1, 0, 1, 0, 0])"
            ]
          },
          "metadata": {},
          "execution_count": 10
        }
      ]
    },
    {
      "cell_type": "code",
      "source": [
        "acidentes.max(axis=0) #maior numero de acidentes por cliente"
      ],
      "metadata": {
        "id": "QDeaavsvMbA_"
      },
      "execution_count": null,
      "outputs": []
    },
    {
      "cell_type": "code",
      "source": [
        "acidentes.min(axis=0) #menor numero de acidentes por cliente"
      ],
      "metadata": {
        "id": "LrNKK_hzNcCE"
      },
      "execution_count": null,
      "outputs": []
    },
    {
      "cell_type": "code",
      "source": [
        "acidentes.mean() #media de acidentes"
      ],
      "metadata": {
        "id": "72fXp8OtOX1z",
        "outputId": "5d6e4919-45a0-4323-bf8d-7f9e504bd519",
        "colab": {
          "base_uri": "https://localhost:8080/"
        }
      },
      "execution_count": 11,
      "outputs": [
        {
          "output_type": "execute_result",
          "data": {
            "text/plain": [
              "1.0666666666666667"
            ]
          },
          "metadata": {},
          "execution_count": 11
        }
      ]
    },
    {
      "cell_type": "code",
      "source": [
        "acidentes.mean(axis=1) #media de acidentes por ano de todos os clientes"
      ],
      "metadata": {
        "id": "il4X0aR5OX7g",
        "outputId": "670243f5-e22c-435b-aa6b-b3934d2a0503",
        "colab": {
          "base_uri": "https://localhost:8080/"
        }
      },
      "execution_count": 13,
      "outputs": [
        {
          "output_type": "execute_result",
          "data": {
            "text/plain": [
              "array([2.        , 0.33333333, 2.33333333, 0.        , 0.66666667])"
            ]
          },
          "metadata": {},
          "execution_count": 13
        }
      ]
    },
    {
      "cell_type": "code",
      "source": [
        "acidentes.mean(axis=0) #media de acidentes por cliente de todos os anos"
      ],
      "metadata": {
        "id": "KLDroRA6OYBw",
        "outputId": "c5c743f3-1079-4ff1-deaf-59e822dfe86f",
        "colab": {
          "base_uri": "https://localhost:8080/"
        }
      },
      "execution_count": 12,
      "outputs": [
        {
          "output_type": "execute_result",
          "data": {
            "text/plain": [
              "array([0.8, 1.2, 1.2])"
            ]
          },
          "metadata": {},
          "execution_count": 12
        }
      ]
    },
    {
      "cell_type": "code",
      "source": [
        "acidentes.mean(axis=0).shape"
      ],
      "metadata": {
        "id": "QZzCYz6qEJSA",
        "outputId": "e6d16fe7-ef57-44a2-c233-c31f32cbe846",
        "colab": {
          "base_uri": "https://localhost:8080/"
        }
      },
      "execution_count": 7,
      "outputs": [
        {
          "output_type": "execute_result",
          "data": {
            "text/plain": [
              "(3,)"
            ]
          },
          "metadata": {},
          "execution_count": 7
        }
      ]
    },
    {
      "cell_type": "code",
      "source": [
        "acidentes.mean(axis=0, keepdims=True) #media de acidentes por cliente de todos os anos mantendo a dimensao"
      ],
      "metadata": {
        "id": "F8m3LlHvOYKW",
        "outputId": "a36b6fc7-1597-4d37-e3dc-a3dfb1533e63",
        "colab": {
          "base_uri": "https://localhost:8080/"
        }
      },
      "execution_count": 15,
      "outputs": [
        {
          "output_type": "execute_result",
          "data": {
            "text/plain": [
              "array([[0.8, 1.2, 1.2]])"
            ]
          },
          "metadata": {},
          "execution_count": 15
        }
      ]
    },
    {
      "cell_type": "code",
      "source": [
        "acidentes.mean(axis=0, keepdims=True).shape"
      ],
      "metadata": {
        "id": "Sx5ungz7Dyvm",
        "outputId": "9f46e8c9-07ac-4705-e405-e78b9570cf93",
        "colab": {
          "base_uri": "https://localhost:8080/"
        }
      },
      "execution_count": 6,
      "outputs": [
        {
          "output_type": "execute_result",
          "data": {
            "text/plain": [
              "(1, 3)"
            ]
          },
          "metadata": {},
          "execution_count": 6
        }
      ]
    },
    {
      "cell_type": "code",
      "source": [
        "acidentes.mean(axis=1, keepdims=True) #media de acidentes por ano de todos os clientes mantendo a dimensao"
      ],
      "metadata": {
        "id": "mrnKasNTRIRZ",
        "outputId": "591dae3e-b022-4121-dcef-24de0dc25504",
        "colab": {
          "base_uri": "https://localhost:8080/"
        }
      },
      "execution_count": 16,
      "outputs": [
        {
          "output_type": "execute_result",
          "data": {
            "text/plain": [
              "array([[2.        ],\n",
              "       [0.33333333],\n",
              "       [2.33333333],\n",
              "       [0.        ],\n",
              "       [0.66666667]])"
            ]
          },
          "metadata": {},
          "execution_count": 16
        }
      ]
    },
    {
      "cell_type": "code",
      "source": [
        "acidentes.mean(axis=1, keepdims=True).shape"
      ],
      "metadata": {
        "id": "rsm4CjJLEVBu",
        "outputId": "4c83e35c-7a2a-4cfb-92a5-84e841123dfb",
        "colab": {
          "base_uri": "https://localhost:8080/"
        }
      },
      "execution_count": 8,
      "outputs": [
        {
          "output_type": "execute_result",
          "data": {
            "text/plain": [
              "(5, 1)"
            ]
          },
          "metadata": {},
          "execution_count": 8
        }
      ]
    },
    {
      "cell_type": "code",
      "source": [
        "acidentes.mean(axis=1).shape"
      ],
      "metadata": {
        "id": "FUtNEywIEd_g",
        "outputId": "96b90d00-4d03-4127-9343-d15932bc70d0",
        "colab": {
          "base_uri": "https://localhost:8080/"
        }
      },
      "execution_count": 9,
      "outputs": [
        {
          "output_type": "execute_result",
          "data": {
            "text/plain": [
              "(5,)"
            ]
          },
          "metadata": {},
          "execution_count": 9
        }
      ]
    },
    {
      "cell_type": "code",
      "source": [
        "acidentes.cumsum(axis=0) #soma acumulada de acidentes por cliente de todos os anos"
      ],
      "metadata": {
        "id": "S45L4uRvSHtm",
        "outputId": "96f77633-0a9a-4af4-f6f2-2f6e3e7f9ea4",
        "colab": {
          "base_uri": "https://localhost:8080/"
        }
      },
      "execution_count": 18,
      "outputs": [
        {
          "output_type": "execute_result",
          "data": {
            "text/plain": [
              "array([[1, 3, 2],\n",
              "       [1, 4, 2],\n",
              "       [3, 5, 6],\n",
              "       [3, 5, 6],\n",
              "       [4, 6, 6]])"
            ]
          },
          "metadata": {},
          "execution_count": 18
        }
      ]
    },
    {
      "cell_type": "code",
      "source": [
        "acidentes.cumsum(axis=1) #soma acumulada de acidentes por ano de todos os clientes"
      ],
      "metadata": {
        "id": "HYJo-Q1GSQXd",
        "outputId": "d39105d0-f9fa-4f6c-a156-5d21b0c5e940",
        "colab": {
          "base_uri": "https://localhost:8080/"
        }
      },
      "execution_count": 19,
      "outputs": [
        {
          "output_type": "execute_result",
          "data": {
            "text/plain": [
              "array([[1, 4, 6],\n",
              "       [0, 1, 1],\n",
              "       [2, 3, 7],\n",
              "       [0, 0, 0],\n",
              "       [1, 2, 2]])"
            ]
          },
          "metadata": {},
          "execution_count": 19
        }
      ]
    },
    {
      "cell_type": "markdown",
      "source": [
        "### 1. O cliente que teve acidente abaixo da média nos últimos 2 anos, ganhará um desconto no seu seguro. Identifique-os.\n"
      ],
      "metadata": {
        "id": "-kp7eaKRggd8"
      }
    },
    {
      "cell_type": "code",
      "source": [],
      "metadata": {
        "id": "keqUiiYj2Ccj"
      },
      "execution_count": null,
      "outputs": []
    },
    {
      "cell_type": "markdown",
      "source": [
        "### 2. Qual cliente teve pelo menos 2 anos sem cometer acidentes?"
      ],
      "metadata": {
        "id": "hssvZjW4hryJ"
      }
    },
    {
      "cell_type": "code",
      "source": [],
      "metadata": {
        "id": "uAbP-BaznHbG"
      },
      "execution_count": null,
      "outputs": []
    },
    {
      "cell_type": "markdown",
      "source": [
        "### 3. Uma professora quer que seus alunos apliquem a função (3x + 2y + x*y) em um conjunto de dados. Ela dá dois arrays aos estudantes e pede que seja feita essa operação.\n"
      ],
      "metadata": {
        "id": "A1YunPlfnIwj"
      }
    },
    {
      "cell_type": "code",
      "source": [],
      "metadata": {
        "id": "g1S3HA7X2EtH"
      },
      "execution_count": null,
      "outputs": []
    },
    {
      "cell_type": "markdown",
      "source": [
        "### 4. A mesma professora percebeu que houve um erro em todas as provas dos estudantes e esqueceu de anotar a nota de trabalhos apresentados durante o semestre. Já que foi feito em grupo ela vai adicionar a mesma nota para todos os estudantes. No array cada estudante representa uma linha e cada coluna uma prova. Adicione para cada prova de cada estudante os valores: 1, 2, 1."
      ],
      "metadata": {
        "id": "BJGzageWp-XC"
      }
    },
    {
      "cell_type": "code",
      "source": [],
      "metadata": {
        "id": "8mf-__Tc2GBO"
      },
      "execution_count": null,
      "outputs": []
    }
  ]
}