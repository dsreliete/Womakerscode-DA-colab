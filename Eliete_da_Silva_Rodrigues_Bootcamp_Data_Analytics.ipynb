{
  "cells": [
    {
      "cell_type": "markdown",
      "metadata": {
        "id": "view-in-github",
        "colab_type": "text"
      },
      "source": [
        "<a href=\"https://colab.research.google.com/github/dsreliete/Womakerscode-DA-colab/blob/main/Eliete_da_Silva_Rodrigues_Bootcamp_Data_Analytics.ipynb\" target=\"_parent\"><img src=\"https://colab.research.google.com/assets/colab-badge.svg\" alt=\"Open In Colab\"/></a>"
      ]
    },
    {
      "cell_type": "markdown",
      "metadata": {
        "id": "sdBUCCdzeef3"
      },
      "source": [
        "DESAFIO 1\n",
        "\n",
        "Crie um programa que solicita ao usuário que insira três notas (valores de 0 a 10) e, em seguida, calcule e exiba a média dessas notas.\n",
        "\n",
        "Além disso, informe ao usuário se ele foi aprovado ou reprovado com base na média das notas, considerando a média mínima de aprovação como 6."
      ]
    },
    {
      "cell_type": "code",
      "execution_count": null,
      "metadata": {
        "colab": {
          "base_uri": "https://localhost:8080/"
        },
        "id": "j16D0tJ4evJ-",
        "outputId": "52db57cd-bc8f-4e1f-9e9d-1e32517404f8"
      },
      "outputs": [
        {
          "name": "stdout",
          "output_type": "stream",
          "text": [
            "Digite uma nota que valha entre 0 e 10 >> 5\n",
            "Digite uma nota que valha entre 0 e 10 >> 5\n",
            "Digite uma nota que valha entre 0 e 10 >> 5\n",
            "Você NÃO foi aprovado. A sua média é 5.0\n"
          ]
        }
      ],
      "source": [
        "#Exceute seu código\n",
        "from statistics import mean\n",
        "\n",
        "def checkValue(value):\n",
        "    if not value in range(0, 11):\n",
        "        print(\"Você deve digitar uma nota que valha entre 0 e 10!\")\n",
        "        return False\n",
        "    return True\n",
        "\n",
        "def showApproval(median):\n",
        "    if median >= 6.0:\n",
        "        return print(\"Você foi aprovado com média valor\", median)\n",
        "    return print(\"Você NÃO foi aprovado. A sua média é\", median)\n",
        "\n",
        "noteList = []\n",
        "question = 0\n",
        "\n",
        "for answers in range(50):\n",
        "    val = (input(\"Digite uma nota que valha entre 0 e 10 >> \"))\n",
        "    try:\n",
        "        value = float(val)\n",
        "        if checkValue(value):\n",
        "            noteList.append(value)\n",
        "            question += 1\n",
        "            if question == 3:\n",
        "                break\n",
        "    except:\n",
        "        print(\"Você deve digitar uma nota que valha entre 0 e 10!\")\n",
        "\n",
        "if noteList:\n",
        "    media = mean(noteList)\n",
        "    showApproval(media)\n"
      ]
    },
    {
      "cell_type": "markdown",
      "metadata": {
        "id": "ClKDF5t4gEyu"
      },
      "source": [
        "DESAFIO 2\n",
        "\n",
        "Crie um programa que solicita ao usuário que insira um número inteiro e, em seguida, verifica se o número é par ou ímpar.\n",
        "\n",
        "O programa deve exibir uma mensagem indicando se o número é par ou ímpar."
      ]
    },
    {
      "cell_type": "code",
      "execution_count": null,
      "metadata": {
        "colab": {
          "base_uri": "https://localhost:8080/"
        },
        "id": "GWkFk92kfuiO",
        "outputId": "73033cc9-6711-471a-ceb0-d69af8828363"
      },
      "outputs": [
        {
          "name": "stdout",
          "output_type": "stream",
          "text": [
            "Digite um número inteiro >> 6\n",
            "O número é par\n"
          ]
        }
      ],
      "source": [
        "#Execute seu código aqui\n",
        "def isEven(val):\n",
        "    return (val % 2 == 0)\n",
        "\n",
        "val = (input(\"Digite um número inteiro >> \"))\n",
        "try:\n",
        "    value = int(val)\n",
        "    print(\"O número é\" , \"par\" if isEven(value) else \"ímpar\")\n",
        "except:\n",
        "    print(\"Você deve digitar um número inteiro!\")"
      ]
    },
    {
      "cell_type": "markdown",
      "metadata": {
        "id": "MmsZIAj-e0NX"
      },
      "source": [
        "DESAFIO 3\n",
        "\n",
        "Crie um programa que verifica se uma palavra fornecida pelo usuário é um palíndromo ou não.\n",
        "\n",
        "(Um palíndromo é uma palavra que é lida da mesma forma tanto da esquerda para a direita quanto da direita para a esquerda.)"
      ]
    },
    {
      "cell_type": "code",
      "execution_count": null,
      "metadata": {
        "colab": {
          "base_uri": "https://localhost:8080/"
        },
        "id": "PobFqQqafLNj",
        "outputId": "2a254028-5194-4aee-d964-8b6df400e672"
      },
      "outputs": [
        {
          "name": "stdout",
          "output_type": "stream",
          "text": [
            "Forneça uma palavra a seguir e verifique se ela é PALÍNDROMO ou não? >> dad\n",
            "Esta palavra é um palíndromo.\n"
          ]
        }
      ],
      "source": [
        "#Execute seu código aqui\n",
        "\n",
        "word = input(\"Forneça uma palavra a seguir e verifique se ela é PALÍNDROMO ou não? >> \")\n",
        "\n",
        "if word.isalpha():\n",
        "  originalList = list(word.lower())\n",
        "  reversedList = list(reversed(originalList))\n",
        "\n",
        "  if originalList == reversedList:\n",
        "      print(\"Esta palavra é um palíndromo.\")\n",
        "  else:\n",
        "      print(\"Esta palavra não é um palíndromo.\")\n",
        "\n",
        "else:\n",
        "  print(\"Você deve digitar uma palavra e não números ou caractéres vazios\")\n"
      ]
    },
    {
      "cell_type": "markdown",
      "metadata": {
        "id": "9WPRqUfIgLQK"
      },
      "source": [
        "DESAFIO 4\n",
        "\n",
        "Crie um programa que solicita ao usuário que insira um número inteiro positivo e, em seguida, calcula e exibe o fatorial desse número.\n",
        "\n",
        "(O fatorial de um número é o produto de todos os números inteiros positivos de 1 até o próprio número.)"
      ]
    },
    {
      "cell_type": "code",
      "execution_count": null,
      "metadata": {
        "colab": {
          "base_uri": "https://localhost:8080/"
        },
        "id": "B3VE36bRgJWu",
        "outputId": "446f26ea-b37b-4a53-d75d-ad988878af95"
      },
      "outputs": [
        {
          "name": "stdout",
          "output_type": "stream",
          "text": [
            "Digite um número inteiro >> 5\n",
            "O fatorial de 5 é 120\n"
          ]
        }
      ],
      "source": [
        "#Execute seu código aqui\n",
        "\n",
        "def calculate_fatorial(val):\n",
        "    result = 1\n",
        "    for i in range(2, val + 1):\n",
        "        result *= i\n",
        "    return result\n",
        "\n",
        "val = (input(\"Digite um número inteiro >> \"))\n",
        "try:\n",
        "    value = int(val)\n",
        "    if value < 0:\n",
        "        raise Exception(\"Você deve digitar um número inteiro > que zero!\")\n",
        "\n",
        "    result = calculate_fatorial(value)\n",
        "    print(\"O fatorial de\", value, \"é\", result)\n",
        "\n",
        "except:\n",
        "    print(\"Você deve digitar um número inteiro > que zero!\")\n",
        "\n",
        "\n",
        "\n",
        "\n"
      ]
    },
    {
      "cell_type": "markdown",
      "metadata": {
        "id": "dLmeFEi2fO9f"
      },
      "source": [
        "DESAFIO 5\n",
        "\n",
        "Crie um programa que permita ao usuário gerenciar suas tarefas diárias. O programa deve oferecer as seguintes funcionalidades:\n",
        "\n",
        "*   Adicionar uma nova tarefa;\n",
        "*   Visualizar todas as tarefas;\n",
        "*   Marcar uma tarefa como concluída;\n",
        "*   Remover uma tarefa;\n",
        "*   Sair do programa.\n",
        "\n",
        "(Você pode implementar essas funcionalidades usando listas para armazenar as tarefas e estruturas de controle como loops e condicionais para interagir com o usuário.)"
      ]
    },
    {
      "cell_type": "code",
      "execution_count": null,
      "metadata": {
        "colab": {
          "background_save": true,
          "base_uri": "https://localhost:8080/"
        },
        "id": "8oExqSgagGzn",
        "outputId": "4f7f482b-1598-44da-a795-9285c18686fd"
      },
      "outputs": [
        {
          "name": "stdout",
          "output_type": "stream",
          "text": [
            "Selecione uma das opções numeral abaixo para iniciar o programa:\n",
            "1  -  Mostrar todas as tarefas\n",
            "2  -  Adicionar tarefa nova\n",
            "3  -  Deletar tarefa\n",
            "4  -  Definir tarefa como concluída\n",
            "5  -  Sair\n",
            "Todas as tarefas:\n",
            "tarefa 1    \n",
            "tarefa 2    concluída\n",
            "tarefa 3    \n",
            "tarefa 4    \n",
            "tarefa 5    \n",
            "Selecione uma das opções numeral abaixo para iniciar o programa:\n",
            "1  -  Mostrar todas as tarefas\n",
            "2  -  Adicionar tarefa nova\n",
            "3  -  Deletar tarefa\n",
            "4  -  Definir tarefa como concluída\n",
            "5  -  Sair\n"
          ]
        }
      ],
      "source": [
        "#Execute seu código aqui\n",
        "\n",
        "taskDict = {\"tarefa 1\" : \"\", \"tarefa 2\" : \"concluída\", \"tarefa 3\" : \"\", \"tarefa 4\" : \"\", \"tarefa 5\" : \"\"}\n",
        "menuOption = {\"1\": \"Mostrar todas as tarefas\", \"2\": \"Adicionar tarefa nova\", \"3\": \"Deletar tarefa\", \"4\": \"Definir tarefa como concluída\",\"5\": \"Sair\"}\n",
        "\n",
        "def showMenu():\n",
        "    print(\"Selecione uma das opções numeral abaixo para iniciar o programa:\")\n",
        "    for key, value in menuOption.items():\n",
        "        print(key, \" - \", value)\n",
        "\n",
        "def showTasks():\n",
        "    print(\"Todas as tarefas:\")\n",
        "    for key, value in taskDict.items():\n",
        "        print(key, \"  \", value)\n",
        "\n",
        "def removeTask(task):\n",
        "    if task in taskDict:\n",
        "        taskDict.pop(task)\n",
        "        print(\"A tarefa\", task, \"foi removida da Lista de Tarefas\")\n",
        "    else:\n",
        "        print(\"A\", task, \"não está na Lista de Tarefas. Verifique se digitou corretamente e tente novamente\")\n",
        "\n",
        "def addTask(task):\n",
        "    if task in taskDict:\n",
        "        print(\"Essa tarefa já foi adicionada à Lista de Tarefas\")\n",
        "    else:\n",
        "        taskDict[task] = \"\"\n",
        "        print(\"A tarefa foi adicionada na Lista de Tarefas\")\n",
        "\n",
        "def concludeTask(task):\n",
        "    if task in taskDict:\n",
        "        taskDict.update({task: \"concluída\"})\n",
        "        print(\"Essa tarefa foi concluída com sucesso.\")\n",
        "    else:\n",
        "        print(\"A\", task, \"não está na Lista de Tarefas. Verifique se digitou corretamente e tente novamente\")\n",
        "\n",
        "while True:\n",
        "  showMenu()\n",
        "  selection = input(\">> \")\n",
        "\n",
        "  if selection  == \"1\":\n",
        "      showTasks()\n",
        "  elif selection  == \"2\":\n",
        "      print(\"Adicione abaixo a tarefa que deseja incluir: \")\n",
        "      choice = input(\">> \")\n",
        "      addTask(choice)\n",
        "  elif selection  == \"3\":\n",
        "      print(\"Especifique qual tarefa que deseja remover: \")\n",
        "      choice = input(\">> \")\n",
        "      removeTask(choice)\n",
        "  elif selection  == \"4\":\n",
        "      print(\"Especifique qual tarefa que deseja concluir: \")\n",
        "      choice = input(\">> \")\n",
        "      concludeTask(choice)\n",
        "  elif selection == \"5\":\n",
        "      !kill -9 -1\n",
        "  else:\n",
        "      print(\"Digite uma opção válida\")"
      ]
    }
  ],
  "metadata": {
    "colab": {
      "provenance": [],
      "include_colab_link": true
    },
    "kernelspec": {
      "display_name": "Python 3",
      "name": "python3"
    },
    "language_info": {
      "name": "python"
    }
  },
  "nbformat": 4,
  "nbformat_minor": 0
}